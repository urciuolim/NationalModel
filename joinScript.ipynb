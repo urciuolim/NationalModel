{
 "cells": [
  {
   "cell_type": "code",
   "execution_count": 1,
   "metadata": {},
   "outputs": [
    {
     "data": {
      "application/vnd.jupyter.widget-view+json": {
       "model_id": "505b662e72dc4383a28f6e85621f5e75",
       "version_major": 2,
       "version_minor": 0
      },
      "text/plain": [
       "VBox()"
      ]
     },
     "metadata": {},
     "output_type": "display_data"
    },
    {
     "name": "stdout",
     "output_type": "stream",
     "text": [
      "Starting Spark application\n"
     ]
    },
    {
     "data": {
      "text/html": [
       "<table>\n",
       "<tr><th>ID</th><th>YARN Application ID</th><th>Kind</th><th>State</th><th>Spark UI</th><th>Driver log</th><th>Current session?</th></tr><tr><td>22</td><td>application_1598467819421_0023</td><td>spark</td><td>idle</td><td></td><td></td><td>✔</td></tr></table>"
      ],
      "text/plain": [
       "<IPython.core.display.HTML object>"
      ]
     },
     "metadata": {},
     "output_type": "display_data"
    },
    {
     "data": {
      "application/vnd.jupyter.widget-view+json": {
       "model_id": "",
       "version_major": 2,
       "version_minor": 0
      },
      "text/plain": [
       "FloatProgress(value=0.0, bar_style='info', description='Progress:', layout=Layout(height='25px', width='50%'),…"
      ]
     },
     "metadata": {},
     "output_type": "display_data"
    },
    {
     "name": "stdout",
     "output_type": "stream",
     "text": [
      "SparkSession available as 'spark'.\n"
     ]
    },
    {
     "data": {
      "application/vnd.jupyter.widget-view+json": {
       "model_id": "",
       "version_major": 2,
       "version_minor": 0
      },
      "text/plain": [
       "FloatProgress(value=0.0, bar_style='info', description='Progress:', layout=Layout(height='25px', width='50%'),…"
      ]
     },
     "metadata": {},
     "output_type": "display_data"
    },
    {
     "name": "stdout",
     "output_type": "stream",
     "text": [
      "tableNames: List[String] = List(Age_and_Gender, Census_Business_Patterns, Complex_Race, Educational_Attainment, Hispanic, IRS_SOI_County, Simple_Race)\n",
      "tables: List[(String, org.apache.spark.sql.DataFrame)] = List((Age_and_Gender,[FIPS: string, Year: int ... 16 more fields]), (Census_Business_Patterns,[FIPS: string, Year: int ... 1 more field]), (Complex_Race,[FIPS: string, Year: int ... 27 more fields]), (Educational_Attainment,[FIPS: string, Year: int ... 13 more fields]), (Hispanic,[FIPS: string, Year: int ... 6 more fields]), (IRS_SOI_County,[FIPS: string, Year: int ... 2 more fields]), (Simple_Race,[FIPS: string, Year: int ... 6 more fields]))\n"
     ]
    }
   ],
   "source": [
    "val tableNames = List(\"Age_and_Gender\", \"Census_Business_Patterns\", \"Complex_Race\", \"Educational_Attainment\", \"Hispanic\", \"IRS_SOI_County\", \"Simple_Race\")\n",
    "val tables = for (name <- tableNames) yield (name, spark.read.parquet(s\"s3://agimodeltrainer/Clean_Data/${name}.parquet\"))"
   ]
  },
  {
   "cell_type": "code",
   "execution_count": 2,
   "metadata": {},
   "outputs": [
    {
     "data": {
      "application/vnd.jupyter.widget-view+json": {
       "model_id": "b56407333a784e08b2c68740c776d182",
       "version_major": 2,
       "version_minor": 0
      },
      "text/plain": [
       "VBox()"
      ]
     },
     "metadata": {},
     "output_type": "display_data"
    },
    {
     "data": {
      "application/vnd.jupyter.widget-view+json": {
       "model_id": "",
       "version_major": 2,
       "version_minor": 0
      },
      "text/plain": [
       "FloatProgress(value=0.0, bar_style='info', description='Progress:', layout=Layout(height='25px', width='50%'),…"
      ]
     },
     "metadata": {},
     "output_type": "display_data"
    },
    {
     "name": "stdout",
     "output_type": "stream",
     "text": [
      "Age_and_Gender\n",
      "Count: 22543\n",
      "Count after na drop: 22543\n",
      "root\n",
      " |-- FIPS: string (nullable = true)\n",
      " |-- Year: integer (nullable = true)\n",
      " |-- Population: integer (nullable = true)\n",
      " |-- Male: double (nullable = true)\n",
      " |-- Female: double (nullable = true)\n",
      " |-- Under_5: double (nullable = true)\n",
      " |-- 5_9: double (nullable = true)\n",
      " |-- 10_14: double (nullable = true)\n",
      " |-- 15_19: double (nullable = true)\n",
      " |-- 20_24: double (nullable = true)\n",
      " |-- 25_34: double (nullable = true)\n",
      " |-- 35_44: double (nullable = true)\n",
      " |-- 45_54: double (nullable = true)\n",
      " |-- 55_59: double (nullable = true)\n",
      " |-- 60_64: double (nullable = true)\n",
      " |-- 65_74: double (nullable = true)\n",
      " |-- 75_84: double (nullable = true)\n",
      " |-- 85plus: double (nullable = true)\n",
      "\n",
      "Census_Business_Patterns\n",
      "Count: 22338\n",
      "Count after na drop: 22338\n",
      "root\n",
      " |-- FIPS: string (nullable = true)\n",
      " |-- Year: integer (nullable = true)\n",
      " |-- Maps: map (nullable = true)\n",
      " |    |-- key: integer\n",
      " |    |-- value: array (valueContainsNull = true)\n",
      " |    |    |-- element: integer (containsNull = true)\n",
      "\n",
      "Complex_Race\n",
      "Count: 22543\n",
      "Count after na drop: 22543\n",
      "root\n",
      " |-- FIPS: string (nullable = true)\n",
      " |-- Year: integer (nullable = true)\n",
      " |-- One_Race: double (nullable = true)\n",
      " |-- Only_White: double (nullable = true)\n",
      " |-- Only_Black: double (nullable = true)\n",
      " |-- Only_Native: double (nullable = true)\n",
      " |-- Only_Cherokee: double (nullable = true)\n",
      " |-- Only_Chippewa: double (nullable = true)\n",
      " |-- Only_Navajo: double (nullable = true)\n",
      " |-- Only_Sioux: double (nullable = true)\n",
      " |-- Only_Asian: double (nullable = true)\n",
      " |-- Only_Indian: double (nullable = true)\n",
      " |-- Only_Chinese: double (nullable = true)\n",
      " |-- Only_Filipino: double (nullable = true)\n",
      " |-- Only_Japanese: double (nullable = true)\n",
      " |-- Only_Korean: double (nullable = true)\n",
      " |-- Only_Vietnamese: double (nullable = true)\n",
      " |-- Only_Asian_Other: double (nullable = true)\n",
      " |-- Only_Pacific: double (nullable = true)\n",
      " |-- Only_Hawaiian: double (nullable = true)\n",
      " |-- Only_Guamanian: double (nullable = true)\n",
      " |-- Only_Samoan: double (nullable = true)\n",
      " |-- Only_Pacific_Other: double (nullable = true)\n",
      " |-- Only_Other: double (nullable = true)\n",
      " |-- Twoplus_Races: double (nullable = true)\n",
      " |-- White_Black: double (nullable = true)\n",
      " |-- White_Native: double (nullable = true)\n",
      " |-- White_Asian: double (nullable = true)\n",
      " |-- Black_Native: double (nullable = true)\n",
      "\n",
      "Educational_Attainment\n",
      "Count: 22543\n",
      "Count after na drop: 22543\n",
      "root\n",
      " |-- FIPS: string (nullable = true)\n",
      " |-- Year: integer (nullable = true)\n",
      " |-- Pop_18_24: integer (nullable = true)\n",
      " |-- Less_HS_Grad_18_24: double (nullable = true)\n",
      " |-- HS_Grad_18_24: double (nullable = true)\n",
      " |-- Some_College_18_24: double (nullable = true)\n",
      " |-- Bachelor_18_24: double (nullable = true)\n",
      " |-- Pop_25plus: integer (nullable = true)\n",
      " |-- Less_9th_25plus: double (nullable = true)\n",
      " |-- 9_12th_25plus: double (nullable = true)\n",
      " |-- HS_Grad_25plus: double (nullable = true)\n",
      " |-- Some_College_25plus: double (nullable = true)\n",
      " |-- Associate_25plus: double (nullable = true)\n",
      " |-- Bachelor_25plus: double (nullable = true)\n",
      " |-- Gradplus_25plus: double (nullable = true)\n",
      "\n",
      "Hispanic\n",
      "Count: 22543\n",
      "Count after na drop: 22543\n",
      "root\n",
      " |-- FIPS: string (nullable = true)\n",
      " |-- Year: integer (nullable = true)\n",
      " |-- Hispanic: double (nullable = true)\n",
      " |-- Mexican: double (nullable = true)\n",
      " |-- Puerto_Rican: double (nullable = true)\n",
      " |-- Cuban: double (nullable = true)\n",
      " |-- Hispanic_Other: double (nullable = true)\n",
      " |-- Not_Hispanic: double (nullable = true)\n",
      "\n",
      "IRS_SOI_County\n",
      "Count: 21990\n",
      "Count after na drop: 21990\n",
      "root\n",
      " |-- FIPS: string (nullable = true)\n",
      " |-- Year: integer (nullable = true)\n",
      " |-- Number_of_returns: long (nullable = true)\n",
      " |-- Total_AGI: long (nullable = true)\n",
      "\n",
      "Simple_Race\n",
      "Count: 22543\n",
      "Count after na drop: 22543\n",
      "root\n",
      " |-- FIPS: string (nullable = true)\n",
      " |-- Year: integer (nullable = true)\n",
      " |-- White: double (nullable = true)\n",
      " |-- Black: double (nullable = true)\n",
      " |-- Native: double (nullable = true)\n",
      " |-- Asian: double (nullable = true)\n",
      " |-- Pacific: double (nullable = true)\n",
      " |-- Other: double (nullable = true)\n",
      "\n"
     ]
    }
   ],
   "source": [
    "tables.foreach(t => {\n",
    "    println(t._1)\n",
    "    println(\"Count: \" + t._2.count)\n",
    "    println(\"Count after na drop: \" + t._2.na.drop.count)\n",
    "    t._2.printSchema\n",
    "})"
   ]
  },
  {
   "cell_type": "code",
   "execution_count": 3,
   "metadata": {},
   "outputs": [
    {
     "data": {
      "application/vnd.jupyter.widget-view+json": {
       "model_id": "17a632c3e68c4523b1afbf1ace0a2775",
       "version_major": 2,
       "version_minor": 0
      },
      "text/plain": [
       "VBox()"
      ]
     },
     "metadata": {},
     "output_type": "display_data"
    },
    {
     "data": {
      "application/vnd.jupyter.widget-view+json": {
       "model_id": "",
       "version_major": 2,
       "version_minor": 0
      },
      "text/plain": [
       "FloatProgress(value=0.0, bar_style='info', description='Progress:', layout=Layout(height='25px', width='50%'),…"
      ]
     },
     "metadata": {},
     "output_type": "display_data"
    },
    {
     "name": "stdout",
     "output_type": "stream",
     "text": [
      "tableIt: Iterator[(String, org.apache.spark.sql.DataFrame)] = non-empty iterator\n",
      "colMap: scala.collection.immutable.Map[String,Seq[String]] = Map(Census_Business_Patterns -> WrappedArray(FIPS, Year, Maps), Complex_Race -> WrappedArray(FIPS, Year, One_Race, Only_White, Only_Black, Only_Native, Only_Cherokee, Only_Chippewa, Only_Navajo, Only_Sioux, Only_Asian, Only_Indian, Only_Chinese, Only_Filipino, Only_Japanese, Only_Korean, Only_Vietnamese, Only_Asian_Other, Only_Pacific, Only_Hawaiian, Only_Guamanian, Only_Samoan, Only_Pacific_Other, Only_Other, Twoplus_Races, White_Black, White_Native, White_Asian, Black_Native), Simple_Race -> WrappedArray(FIPS, Year, White, Black, Native, Asian, Pacific, Other), Hispanic -> WrappedArray(FIPS, Year, Hispanic, Mexican, Puerto_Rican, Cuban, Hispanic_Other, Not_Hispanic), Educational_Attainment -> WrappedArray(FIPS, Year, Pop_18_...joinedTable: org.apache.spark.sql.DataFrame = [FIPS: string, Year: int ... 16 more fields]\n"
     ]
    }
   ],
   "source": [
    "val tableIt = tables.toIterator\n",
    "val colMap = (for (table <- tables) yield Map(table._1 -> table._2.columns.toSeq)).flatten.toMap\n",
    "var joinedTable = tableIt.next._2\n",
    "for (table <- tableIt) {\n",
    "    joinedTable = joinedTable.join(table._2, Seq(\"FIPS\", \"Year\"), \"inner\")\n",
    "}"
   ]
  },
  {
   "cell_type": "code",
   "execution_count": 4,
   "metadata": {},
   "outputs": [
    {
     "data": {
      "application/vnd.jupyter.widget-view+json": {
       "model_id": "2352c0724f2c48a6a749d5588d6847e6",
       "version_major": 2,
       "version_minor": 0
      },
      "text/plain": [
       "VBox()"
      ]
     },
     "metadata": {},
     "output_type": "display_data"
    },
    {
     "data": {
      "application/vnd.jupyter.widget-view+json": {
       "model_id": "",
       "version_major": 2,
       "version_minor": 0
      },
      "text/plain": [
       "FloatProgress(value=0.0, bar_style='info', description='Progress:', layout=Layout(height='25px', width='50%'),…"
      ]
     },
     "metadata": {},
     "output_type": "display_data"
    },
    {
     "name": "stdout",
     "output_type": "stream",
     "text": [
      "res3: org.apache.spark.sql.Dataset[org.apache.spark.sql.Row] = [FIPS: string, Year: int ... 71 more fields]\n",
      "res4: Long = 21972\n",
      "res5: Long = 21972\n",
      "res6: Long = 3144\n",
      "res7: Long = 7\n",
      "root\n",
      " |-- FIPS: string (nullable = true)\n",
      " |-- Year: integer (nullable = true)\n",
      " |-- Population: integer (nullable = true)\n",
      " |-- Male: double (nullable = true)\n",
      " |-- Female: double (nullable = true)\n",
      " |-- Under_5: double (nullable = true)\n",
      " |-- 5_9: double (nullable = true)\n",
      " |-- 10_14: double (nullable = true)\n",
      " |-- 15_19: double (nullable = true)\n",
      " |-- 20_24: double (nullable = true)\n",
      " |-- 25_34: double (nullable = true)\n",
      " |-- 35_44: double (nullable = true)\n",
      " |-- 45_54: double (nullable = true)\n",
      " |-- 55_59: double (nullable = true)\n",
      " |-- 60_64: double (nullable = true)\n",
      " |-- 65_74: double (nullable = true)\n",
      " |-- 75_84: double (nullable = true)\n",
      " |-- 85plus: double (nullable = true)\n",
      " |-- Maps: map (nullable = true)\n",
      " |    |-- key: integer\n",
      " |    |-- value: array (valueContainsNull = true)\n",
      " |    |    |-- element: integer (containsNull = true)\n",
      " |-- One_Race: double (nullable = true)\n",
      " |-- Only_White: double (nullable = true)\n",
      " |-- Only_Black: double (nullable = true)\n",
      " |-- Only_Native: double (nullable = true)\n",
      " |-- Only_Cherokee: double (nullable = true)\n",
      " |-- Only_Chippewa: double (nullable = true)\n",
      " |-- Only_Navajo: double (nullable = true)\n",
      " |-- Only_Sioux: double (nullable = true)\n",
      " |-- Only_Asian: double (nullable = true)\n",
      " |-- Only_Indian: double (nullable = true)\n",
      " |-- Only_Chinese: double (nullable = true)\n",
      " |-- Only_Filipino: double (nullable = true)\n",
      " |-- Only_Japanese: double (nullable = true)\n",
      " |-- Only_Korean: double (nullable = true)\n",
      " |-- Only_Vietnamese: double (nullable = true)\n",
      " |-- Only_Asian_Other: double (nullable = true)\n",
      " |-- Only_Pacific: double (nullable = true)\n",
      " |-- Only_Hawaiian: double (nullable = true)\n",
      " |-- Only_Guamanian: double (nullable = true)\n",
      " |-- Only_Samoan: double (nullable = true)\n",
      " |-- Only_Pacific_Other: double (nullable = true)\n",
      " |-- Only_Other: double (nullable = true)\n",
      " |-- Twoplus_Races: double (nullable = true)\n",
      " |-- White_Black: double (nullable = true)\n",
      " |-- White_Native: double (nullable = true)\n",
      " |-- White_Asian: double (nullable = true)\n",
      " |-- Black_Native: double (nullable = true)\n",
      " |-- Pop_18_24: integer (nullable = true)\n",
      " |-- Less_HS_Grad_18_24: double (nullable = true)\n",
      " |-- HS_Grad_18_24: double (nullable = true)\n",
      " |-- Some_College_18_24: double (nullable = true)\n",
      " |-- Bachelor_18_24: double (nullable = true)\n",
      " |-- Pop_25plus: integer (nullable = true)\n",
      " |-- Less_9th_25plus: double (nullable = true)\n",
      " |-- 9_12th_25plus: double (nullable = true)\n",
      " |-- HS_Grad_25plus: double (nullable = true)\n",
      " |-- Some_College_25plus: double (nullable = true)\n",
      " |-- Associate_25plus: double (nullable = true)\n",
      " |-- Bachelor_25plus: double (nullable = true)\n",
      " |-- Gradplus_25plus: double (nullable = true)\n",
      " |-- Hispanic: double (nullable = true)\n",
      " |-- Mexican: double (nullable = true)\n",
      " |-- Puerto_Rican: double (nullable = true)\n",
      " |-- Cuban: double (nullable = true)\n",
      " |-- Hispanic_Other: double (nullable = true)\n",
      " |-- Not_Hispanic: double (nullable = true)\n",
      " |-- Number_of_returns: long (nullable = true)\n",
      " |-- Total_AGI: long (nullable = true)\n",
      " |-- White: double (nullable = true)\n",
      " |-- Black: double (nullable = true)\n",
      " |-- Native: double (nullable = true)\n",
      " |-- Asian: double (nullable = true)\n",
      " |-- Pacific: double (nullable = true)\n",
      " |-- Other: double (nullable = true)\n",
      "\n"
     ]
    }
   ],
   "source": [
    "joinedTable.cache\n",
    "joinedTable.count\n",
    "joinedTable.na.drop.count\n",
    "joinedTable.select(\"FIPS\").distinct.count\n",
    "joinedTable.select(\"Year\").distinct.count\n",
    "joinedTable.printSchema"
   ]
  },
  {
   "cell_type": "code",
   "execution_count": 5,
   "metadata": {},
   "outputs": [
    {
     "data": {
      "application/vnd.jupyter.widget-view+json": {
       "model_id": "68c67158c7354cff8e0615dceb1c7b46",
       "version_major": 2,
       "version_minor": 0
      },
      "text/plain": [
       "VBox()"
      ]
     },
     "metadata": {},
     "output_type": "display_data"
    },
    {
     "data": {
      "application/vnd.jupyter.widget-view+json": {
       "model_id": "",
       "version_major": 2,
       "version_minor": 0
      },
      "text/plain": [
       "FloatProgress(value=0.0, bar_style='info', description='Progress:', layout=Layout(height='25px', width='50%'),…"
      ]
     },
     "metadata": {},
     "output_type": "display_data"
    },
    {
     "name": "stdout",
     "output_type": "stream",
     "text": [
      "Census_Business_Patterns\n",
      "--- Maps\n",
      "Complex_Race\n",
      "--- One Race\n",
      "--- Only White\n",
      "--- Only Black\n",
      "--- Only Native\n",
      "--- Only Cherokee\n",
      "--- Only Chippewa\n",
      "--- Only Navajo\n",
      "--- Only Sioux\n",
      "--- Only Asian\n",
      "--- Only Indian\n",
      "--- Only Chinese\n",
      "--- Only Filipino\n",
      "--- Only Japanese\n",
      "--- Only Korean\n",
      "--- Only Vietnamese\n",
      "--- Only Asian Other\n",
      "--- Only Pacific\n",
      "--- Only Hawaiian\n",
      "--- Only Guamanian\n",
      "--- Only Samoan\n",
      "--- Only Pacific Other\n",
      "--- Only Other\n",
      "--- Twoplus Races\n",
      "--- White Black\n",
      "--- White Native\n",
      "--- White Asian\n",
      "--- Black Native\n",
      "Simple_Race\n",
      "--- White\n",
      "--- Black\n",
      "--- Native\n",
      "--- Asian\n",
      "--- Pacific\n",
      "--- Other\n",
      "Hispanic\n",
      "--- Hispanic\n",
      "--- Mexican\n",
      "--- Puerto Rican\n",
      "--- Cuban\n",
      "--- Hispanic Other\n",
      "--- Not Hispanic\n",
      "Educational_Attainment\n",
      "--- Pop 18 24\n",
      "--- Less HS Grad 18 24\n",
      "--- HS Grad 18 24\n",
      "--- Some College 18 24\n",
      "--- Bachelor 18 24\n",
      "--- Pop 25plus\n",
      "--- Less 9th 25plus\n",
      "--- 9 12th 25plus\n",
      "--- HS Grad 25plus\n",
      "--- Some College 25plus\n",
      "--- Associate 25plus\n",
      "--- Bachelor 25plus\n",
      "--- Gradplus 25plus\n",
      "Age_and_Gender\n",
      "--- Population\n",
      "--- Male\n",
      "--- Female\n",
      "--- Under 5\n",
      "--- 5 9\n",
      "--- 10 14\n",
      "--- 15 19\n",
      "--- 20 24\n",
      "--- 25 34\n",
      "--- 35 44\n",
      "--- 45 54\n",
      "--- 55 59\n",
      "--- 60 64\n",
      "--- 65 74\n",
      "--- 75 84\n",
      "--- 85plus\n",
      "IRS_SOI_County\n",
      "--- Number of returns\n",
      "--- Total AGI\n"
     ]
    }
   ],
   "source": [
    "for (m <- colMap) {\n",
    "    println(m._1)\n",
    "    m._2.foreach(c => if (c != \"FIPS\" && c != \"Year\") println(s\"--- ${c.replace(\"_\", \" \")}\"))\n",
    "}"
   ]
  },
  {
   "cell_type": "code",
   "execution_count": 6,
   "metadata": {},
   "outputs": [
    {
     "data": {
      "application/vnd.jupyter.widget-view+json": {
       "model_id": "39c8c7296a524d6cb753e720c7a35800",
       "version_major": 2,
       "version_minor": 0
      },
      "text/plain": [
       "VBox()"
      ]
     },
     "metadata": {},
     "output_type": "display_data"
    },
    {
     "data": {
      "application/vnd.jupyter.widget-view+json": {
       "model_id": "",
       "version_major": 2,
       "version_minor": 0
      },
      "text/plain": [
       "FloatProgress(value=0.0, bar_style='info', description='Progress:', layout=Layout(height='25px', width='50%'),…"
      ]
     },
     "metadata": {},
     "output_type": "display_data"
    }
   ],
   "source": [
    "sc.parallelize(colMap.toSeq).toDF.write.parquet(\"s3://agimodeltrainer/Clean_Data/ColumnMap.parquet\")\n",
    "joinedTable.write.parquet(\"s3://agimodeltrainer/Clean_Data/FinalTable.parquet\")"
   ]
  },
  {
   "cell_type": "code",
   "execution_count": 7,
   "metadata": {},
   "outputs": [
    {
     "data": {
      "application/vnd.jupyter.widget-view+json": {
       "model_id": "a190dff719694b808cd1b1593e84ef8b",
       "version_major": 2,
       "version_minor": 0
      },
      "text/plain": [
       "VBox()"
      ]
     },
     "metadata": {},
     "output_type": "display_data"
    },
    {
     "data": {
      "application/vnd.jupyter.widget-view+json": {
       "model_id": "",
       "version_major": 2,
       "version_minor": 0
      },
      "text/plain": [
       "FloatProgress(value=0.0, bar_style='info', description='Progress:', layout=Layout(height='25px', width='50%'),…"
      ]
     },
     "metadata": {},
     "output_type": "display_data"
    },
    {
     "name": "stdout",
     "output_type": "stream",
     "text": [
      "coltest: org.apache.spark.sql.DataFrame = [_1: string, _2: array<string>]\n",
      "Census_Business_Patterns\n",
      "--- Maps\n",
      "Complex_Race\n",
      "--- One_Race\n",
      "--- Only_White\n",
      "--- Only_Black\n",
      "--- Only_Native\n",
      "--- Only_Cherokee\n",
      "--- Only_Chippewa\n",
      "--- Only_Navajo\n",
      "--- Only_Sioux\n",
      "--- Only_Asian\n",
      "--- Only_Indian\n",
      "--- Only_Chinese\n",
      "--- Only_Filipino\n",
      "--- Only_Japanese\n",
      "--- Only_Korean\n",
      "--- Only_Vietnamese\n",
      "--- Only_Asian_Other\n",
      "--- Only_Pacific\n",
      "--- Only_Hawaiian\n",
      "--- Only_Guamanian\n",
      "--- Only_Samoan\n",
      "--- Only_Pacific_Other\n",
      "--- Only_Other\n",
      "--- Twoplus_Races\n",
      "--- White_Black\n",
      "--- White_Native\n",
      "--- White_Asian\n",
      "--- Black_Native\n",
      "Simple_Race\n",
      "--- White\n",
      "--- Black\n",
      "--- Native\n",
      "--- Asian\n",
      "--- Pacific\n",
      "--- Other\n",
      "Hispanic\n",
      "--- Hispanic\n",
      "--- Mexican\n",
      "--- Puerto_Rican\n",
      "--- Cuban\n",
      "--- Hispanic_Other\n",
      "--- Not_Hispanic\n",
      "Educational_Attainment\n",
      "--- Pop_18_24\n",
      "--- Less_HS_Grad_18_24\n",
      "--- HS_Grad_18_24\n",
      "--- Some_College_18_24\n",
      "--- Bachelor_18_24\n",
      "--- Pop_25plus\n",
      "--- Less_9th_25plus\n",
      "--- 9_12th_25plus\n",
      "--- HS_Grad_25plus\n",
      "--- Some_College_25plus\n",
      "--- Associate_25plus\n",
      "--- Bachelor_25plus\n",
      "--- Gradplus_25plus\n",
      "Age_and_Gender\n",
      "--- Population\n",
      "--- Male\n",
      "--- Female\n",
      "--- Under_5\n",
      "--- 5_9\n",
      "--- 10_14\n",
      "--- 15_19\n",
      "--- 20_24\n",
      "--- 25_34\n",
      "--- 35_44\n",
      "--- 45_54\n",
      "--- 55_59\n",
      "--- 60_64\n",
      "--- 65_74\n",
      "--- 75_84\n",
      "--- 85plus\n",
      "IRS_SOI_County\n",
      "--- Number_of_returns\n",
      "--- Total_AGI\n"
     ]
    }
   ],
   "source": [
    "val coltest = spark.read.parquet(\"s3://agimodeltrainer/Clean_Data/ColumnMap.parquet\")\n",
    "coltest.as[(String, Seq[String])].collect.toMap.foreach(m => {\n",
    "    println(m._1)\n",
    "    m._2.foreach(c => {\n",
    "        if (c != \"FIPS\" && c != \"Year\") println(s\"--- $c\")\n",
    "    })\n",
    "})"
   ]
  },
  {
   "cell_type": "code",
   "execution_count": 8,
   "metadata": {},
   "outputs": [
    {
     "data": {
      "application/vnd.jupyter.widget-view+json": {
       "model_id": "dbedfcb85f274ad683792e093c905799",
       "version_major": 2,
       "version_minor": 0
      },
      "text/plain": [
       "VBox()"
      ]
     },
     "metadata": {},
     "output_type": "display_data"
    },
    {
     "data": {
      "application/vnd.jupyter.widget-view+json": {
       "model_id": "",
       "version_major": 2,
       "version_minor": 0
      },
      "text/plain": [
       "FloatProgress(value=0.0, bar_style='info', description='Progress:', layout=Layout(height='25px', width='50%'),…"
      ]
     },
     "metadata": {},
     "output_type": "display_data"
    },
    {
     "name": "stdout",
     "output_type": "stream",
     "text": [
      "t: org.apache.spark.sql.DataFrame = [FIPS: string, Year: int ... 71 more fields]\n",
      "root\n",
      " |-- FIPS: string (nullable = true)\n",
      " |-- Year: integer (nullable = true)\n",
      " |-- Population: integer (nullable = true)\n",
      " |-- Male: double (nullable = true)\n",
      " |-- Female: double (nullable = true)\n",
      " |-- Under_5: double (nullable = true)\n",
      " |-- 5_9: double (nullable = true)\n",
      " |-- 10_14: double (nullable = true)\n",
      " |-- 15_19: double (nullable = true)\n",
      " |-- 20_24: double (nullable = true)\n",
      " |-- 25_34: double (nullable = true)\n",
      " |-- 35_44: double (nullable = true)\n",
      " |-- 45_54: double (nullable = true)\n",
      " |-- 55_59: double (nullable = true)\n",
      " |-- 60_64: double (nullable = true)\n",
      " |-- 65_74: double (nullable = true)\n",
      " |-- 75_84: double (nullable = true)\n",
      " |-- 85plus: double (nullable = true)\n",
      " |-- Maps: map (nullable = true)\n",
      " |    |-- key: integer\n",
      " |    |-- value: array (valueContainsNull = true)\n",
      " |    |    |-- element: integer (containsNull = true)\n",
      " |-- One_Race: double (nullable = true)\n",
      " |-- Only_White: double (nullable = true)\n",
      " |-- Only_Black: double (nullable = true)\n",
      " |-- Only_Native: double (nullable = true)\n",
      " |-- Only_Cherokee: double (nullable = true)\n",
      " |-- Only_Chippewa: double (nullable = true)\n",
      " |-- Only_Navajo: double (nullable = true)\n",
      " |-- Only_Sioux: double (nullable = true)\n",
      " |-- Only_Asian: double (nullable = true)\n",
      " |-- Only_Indian: double (nullable = true)\n",
      " |-- Only_Chinese: double (nullable = true)\n",
      " |-- Only_Filipino: double (nullable = true)\n",
      " |-- Only_Japanese: double (nullable = true)\n",
      " |-- Only_Korean: double (nullable = true)\n",
      " |-- Only_Vietnamese: double (nullable = true)\n",
      " |-- Only_Asian_Other: double (nullable = true)\n",
      " |-- Only_Pacific: double (nullable = true)\n",
      " |-- Only_Hawaiian: double (nullable = true)\n",
      " |-- Only_Guamanian: double (nullable = true)\n",
      " |-- Only_Samoan: double (nullable = true)\n",
      " |-- Only_Pacific_Other: double (nullable = true)\n",
      " |-- Only_Other: double (nullable = true)\n",
      " |-- Twoplus_Races: double (nullable = true)\n",
      " |-- White_Black: double (nullable = true)\n",
      " |-- White_Native: double (nullable = true)\n",
      " |-- White_Asian: double (nullable = true)\n",
      " |-- Black_Native: double (nullable = true)\n",
      " |-- Pop_18_24: integer (nullable = true)\n",
      " |-- Less_HS_Grad_18_24: double (nullable = true)\n",
      " |-- HS_Grad_18_24: double (nullable = true)\n",
      " |-- Some_College_18_24: double (nullable = true)\n",
      " |-- Bachelor_18_24: double (nullable = true)\n",
      " |-- Pop_25plus: integer (nullable = true)\n",
      " |-- Less_9th_25plus: double (nullable = true)\n",
      " |-- 9_12th_25plus: double (nullable = true)\n",
      " |-- HS_Grad_25plus: double (nullable = true)\n",
      " |-- Some_College_25plus: double (nullable = true)\n",
      " |-- Associate_25plus: double (nullable = true)\n",
      " |-- Bachelor_25plus: double (nullable = true)\n",
      " |-- Gradplus_25plus: double (nullable = true)\n",
      " |-- Hispanic: double (nullable = true)\n",
      " |-- Mexican: double (nullable = true)\n",
      " |-- Puerto_Rican: double (nullable = true)\n",
      " |-- Cuban: double (nullable = true)\n",
      " |-- Hispanic_Other: double (nullable = true)\n",
      " |-- Not_Hispanic: double (nullable = true)\n",
      " |-- Number_of_returns: long (nullable = true)\n",
      " |-- Total_AGI: long (nullable = true)\n",
      " |-- White: double (nullable = true)\n",
      " |-- Black: double (nullable = true)\n",
      " |-- Native: double (nullable = true)\n",
      " |-- Asian: double (nullable = true)\n",
      " |-- Pacific: double (nullable = true)\n",
      " |-- Other: double (nullable = true)\n",
      "\n"
     ]
    }
   ],
   "source": [
    "val t = spark.read.parquet(\"s3://agimodeltrainer/Clean_Data/FinalTable.parquet\")\n",
    "t.printSchema"
   ]
  },
  {
   "cell_type": "code",
   "execution_count": null,
   "metadata": {},
   "outputs": [],
   "source": []
  }
 ],
 "metadata": {
  "kernelspec": {
   "display_name": "Spark",
   "language": "",
   "name": "sparkkernel"
  },
  "language_info": {
   "codemirror_mode": "text/x-scala",
   "mimetype": "text/x-scala",
   "name": "scala",
   "pygments_lexer": "scala"
  }
 },
 "nbformat": 4,
 "nbformat_minor": 4
}
