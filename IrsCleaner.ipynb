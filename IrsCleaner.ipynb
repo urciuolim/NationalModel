{
 "cells": [
  {
   "cell_type": "code",
   "execution_count": 1,
   "metadata": {},
   "outputs": [
    {
     "data": {
      "application/vnd.jupyter.widget-view+json": {
       "model_id": "7f7efa93ebc540eb9de5ad8e5db78117",
       "version_major": 2,
       "version_minor": 0
      },
      "text/plain": [
       "VBox()"
      ]
     },
     "metadata": {},
     "output_type": "display_data"
    },
    {
     "name": "stdout",
     "output_type": "stream",
     "text": [
      "Starting Spark application\n"
     ]
    },
    {
     "data": {
      "text/html": [
       "<table>\n",
       "<tr><th>ID</th><th>YARN Application ID</th><th>Kind</th><th>State</th><th>Spark UI</th><th>Driver log</th><th>Current session?</th></tr><tr><td>11</td><td>application_1598467819421_0012</td><td>spark</td><td>idle</td><td><a target=\"_blank\" href=\"http://ip-172-31-46-94.us-east-2.compute.internal:20888/proxy/application_1598467819421_0012/\">Link</a></td><td><a target=\"_blank\" href=\"http://ip-172-31-33-64.us-east-2.compute.internal:8042/node/containerlogs/container_1598467819421_0012_01_000001/livy\">Link</a></td><td>✔</td></tr></table>"
      ],
      "text/plain": [
       "<IPython.core.display.HTML object>"
      ]
     },
     "metadata": {},
     "output_type": "display_data"
    },
    {
     "data": {
      "application/vnd.jupyter.widget-view+json": {
       "model_id": "",
       "version_major": 2,
       "version_minor": 0
      },
      "text/plain": [
       "FloatProgress(value=0.0, bar_style='info', description='Progress:', layout=Layout(height='25px', width='50%'),…"
      ]
     },
     "metadata": {},
     "output_type": "display_data"
    },
    {
     "name": "stdout",
     "output_type": "stream",
     "text": [
      "SparkSession available as 'spark'.\n"
     ]
    },
    {
     "data": {
      "application/vnd.jupyter.widget-view+json": {
       "model_id": "",
       "version_major": 2,
       "version_minor": 0
      },
      "text/plain": [
       "FloatProgress(value=0.0, bar_style='info', description='Progress:', layout=Layout(height='25px', width='50%'),…"
      ]
     },
     "metadata": {},
     "output_type": "display_data"
    },
    {
     "name": "stdout",
     "output_type": "stream",
     "text": [
      "import org.apache.spark.sql.functions.{udf, input_file_name, lpad}\n",
      "extractYear: org.apache.spark.sql.expressions.UserDefinedFunction = UserDefinedFunction(<function1>,StringType,Some(List(StringType)))\n",
      "irsRaw: org.apache.spark.sql.DataFrame = [FIPS: string, Year: int ... 3 more fields]\n",
      "root\n",
      " |-- FIPS: string (nullable = true)\n",
      " |-- Year: integer (nullable = true)\n",
      " |-- AGI Size: integer (nullable = true)\n",
      " |-- Number_of_Returns: long (nullable = true)\n",
      " |-- AGI: long (nullable = true)\n",
      "\n",
      "+-----+----+--------+-----------------+-------+\n",
      "| FIPS|Year|AGI Size|Number_of_Returns|    AGI|\n",
      "+-----+----+--------+-----------------+-------+\n",
      "|01001|2017|       1|              200|  -6342|\n",
      "|01001|2017|       2|             3050|  16376|\n",
      "|01001|2017|       3|             5340|  91181|\n",
      "|01001|2017|       4|             5620| 203737|\n",
      "|01001|2017|       5|             3540| 217836|\n",
      "|01001|2017|       6|             2520| 218722|\n",
      "|01001|2017|       7|             3400| 447884|\n",
      "|01001|2017|       8|              480| 154435|\n",
      "|01003|2017|       1|             1770|-147826|\n",
      "|01003|2017|       2|            13310|  70098|\n",
      "|01003|2017|       3|            21400| 366199|\n",
      "|01003|2017|       4|            21920| 792598|\n",
      "|01003|2017|       5|            13280| 818526|\n",
      "|01003|2017|       6|             9200| 796986|\n",
      "|01003|2017|       7|            13490|1814772|\n",
      "|01003|2017|       8|             4320|1860539|\n",
      "|01005|2017|       1|              150|  -4939|\n",
      "|01005|2017|       2|             1360|   7922|\n",
      "|01005|2017|       3|             2980|  50411|\n",
      "|01005|2017|       4|             2400|  85164|\n",
      "+-----+----+--------+-----------------+-------+\n",
      "only showing top 20 rows\n",
      "\n"
     ]
    }
   ],
   "source": [
    "/*\n",
    "* Author: Mike Urciuoli\n",
    "* email: urciuolim@gmail.com\n",
    "* description: The purpose of this notebook is to show how to clean the IRS SOI Tax Stats (county level) for\n",
    "*              usage in a county prediction model. The overall goal of the project is to predict some feature\n",
    "*              of a county based on other input features. The dataset is split into files by year, and each year has\n",
    "*              each county split between at most 8 rows defined by \"agi_stub\" (or the size of the earner counting towards\n",
    "*              that row). Ex) agi_stub \"1\" includes those that earned less than $1, which is possible since AGI accounts\n",
    "*              for certain deficits. Also AGI is represented in thousands (1 in the dataset = $1000) so that is worth noting,\n",
    "*              and I'll adjust that number when reading it in.\n",
    "*/\n",
    "\n",
    "import org.apache.spark.sql.functions.{udf, input_file_name, lpad}\n",
    "val extractYear = udf((filename: String) => \"20\" + filename.split(\"/\").last.substring(0,2))\n",
    "// Lpad'ing each state/county fips is needed. Sometimes those values are not included with their leading zeros, so put them in here.\n",
    "val irsRaw = spark.read.option(\"header\", \"true\").csv(\"s3://agimodeltrainer/DATA/IRS\").\n",
    "    filter(lpad($\"COUNTYFIPS\", 3, \"0\") =!= \"000\").\n",
    "    select(\n",
    "        concat(lpad($\"STATEFIPS\", 2, \"0\"), lpad($\"COUNTYFIPS\", 3, \"0\")).as(\"FIPS\"),\n",
    "        extractYear(input_file_name).as(\"Year\").cast(\"Int\"),\n",
    "        $\"agi_stub\".as(\"AGI Size\").cast(\"Int\"), \n",
    "        $\"N1\".as(\"Number_of_Returns\").cast(\"Long\"),\n",
    "        $\"A00100\".as(\"AGI\").cast(\"Long\")\n",
    "    )\n",
    "irsRaw.printSchema\n",
    "irsRaw.show"
   ]
  },
  {
   "cell_type": "code",
   "execution_count": 2,
   "metadata": {},
   "outputs": [
    {
     "data": {
      "application/vnd.jupyter.widget-view+json": {
       "model_id": "317276eda6d947928d66f7f151b9e083",
       "version_major": 2,
       "version_minor": 0
      },
      "text/plain": [
       "VBox()"
      ]
     },
     "metadata": {},
     "output_type": "display_data"
    },
    {
     "data": {
      "application/vnd.jupyter.widget-view+json": {
       "model_id": "",
       "version_major": 2,
       "version_minor": 0
      },
      "text/plain": [
       "FloatProgress(value=0.0, bar_style='info', description='Progress:', layout=Layout(height='25px', width='50%'),…"
      ]
     },
     "metadata": {},
     "output_type": "display_data"
    },
    {
     "name": "stdout",
     "output_type": "stream",
     "text": [
      "irsFinal: org.apache.spark.sql.DataFrame = [FIPS: string, Year: int ... 2 more fields]\n",
      "root\n",
      " |-- FIPS: string (nullable = true)\n",
      " |-- Year: integer (nullable = true)\n",
      " |-- Number_of_returns: long (nullable = true)\n",
      " |-- Total_AGI: long (nullable = true)\n",
      "\n",
      "+-----+----+-----------------+---------+\n",
      "| FIPS|Year|Number_of_returns|Total_AGI|\n",
      "+-----+----+-----------------+---------+\n",
      "|13219|2017|            17540|  1942388|\n",
      "|13301|2017|             2230|    80577|\n",
      "|16021|2017|             5200|   247296|\n",
      "|25007|2017|            11460|   897259|\n",
      "|26021|2017|            73420|  4191570|\n",
      "|46007|2017|             1150|    36890|\n",
      "|40005|2017|             5170|   218668|\n",
      "|54103|2017|             6750|   363112|\n",
      "|13075|2017|             6570|   256600|\n",
      "|29211|2017|             2680|    97616|\n",
      "|39077|2017|            29040|  1400002|\n",
      "|16051|2017|            11260|   602747|\n",
      "|27015|2017|            13210|   738172|\n",
      "|31023|2017|             3920|   206565|\n",
      "|37187|2017|             5070|   200554|\n",
      "|55021|2017|            30540|  1822621|\n",
      "|17163|2017|           120990|  7053058|\n",
      "|46023|2017|             3640|   169777|\n",
      "|01025|2017|             9940|   474780|\n",
      "|23031|2017|           108980|  6659192|\n",
      "+-----+----+-----------------+---------+\n",
      "only showing top 20 rows\n",
      "\n"
     ]
    }
   ],
   "source": [
    "// Simple map-reduce style way to calculate total number of returns / AGI for each county\n",
    "val irsFinal = irsRaw.groupBy(\"FIPS\", \"Year\").\n",
    "    agg(\n",
    "        sum(\"Number_of_returns\").as(\"Number_of_returns\"),\n",
    "        sum(\"AGI\").as(\"Total_AGI\")\n",
    "    )\n",
    "irsFinal.printSchema\n",
    "irsFinal.show"
   ]
  },
  {
   "cell_type": "code",
   "execution_count": 3,
   "metadata": {},
   "outputs": [
    {
     "data": {
      "application/vnd.jupyter.widget-view+json": {
       "model_id": "cd11b8e3963e454d9340914e5503a31f",
       "version_major": 2,
       "version_minor": 0
      },
      "text/plain": [
       "VBox()"
      ]
     },
     "metadata": {},
     "output_type": "display_data"
    },
    {
     "data": {
      "application/vnd.jupyter.widget-view+json": {
       "model_id": "",
       "version_major": 2,
       "version_minor": 0
      },
      "text/plain": [
       "FloatProgress(value=0.0, bar_style='info', description='Progress:', layout=Layout(height='25px', width='50%'),…"
      ]
     },
     "metadata": {},
     "output_type": "display_data"
    },
    {
     "name": "stdout",
     "output_type": "stream",
     "text": [
      "res10: Long = 21990\n",
      "res11: Long = 21990\n",
      "res13: Long = 3144\n",
      "res14: Long = 7\n",
      "+-------+------------------+------------------+------------------+------------------+\n",
      "|summary|              FIPS|              Year| Number_of_returns|         Total_AGI|\n",
      "+-------+------------------+------------------+------------------+------------------+\n",
      "|  count|             21990|             21990|             21990|             21990|\n",
      "|   mean| 30391.44433833561|2013.9997271487039|  46938.7105047749|1435326.4655752615|\n",
      "| stddev|15161.316170557868| 2.000068196150814|151970.00799021602| 8353992.244544055|\n",
      "|    min|             01001|              2011|                 0|                 0|\n",
      "|    max|             56045|              2017|           4699360|         364557900|\n",
      "+-------+------------------+------------------+------------------+------------------+\n",
      "\n"
     ]
    }
   ],
   "source": [
    "// Check for null values\n",
    "irsFinal.count\n",
    "irsFinal.na.drop.count\n",
    "// Check to make sure number of counties is in the ballpark\n",
    "irsFinal.select(\"FIPS\").distinct.count\n",
    "irsFinal.select(\"Year\").distinct.count\n",
    "irsFinal.describe().show\n",
    "// "
   ]
  },
  {
   "cell_type": "code",
   "execution_count": 4,
   "metadata": {},
   "outputs": [
    {
     "data": {
      "application/vnd.jupyter.widget-view+json": {
       "model_id": "a89f61fa758f48a8a0466fa2d76a2e54",
       "version_major": 2,
       "version_minor": 0
      },
      "text/plain": [
       "VBox()"
      ]
     },
     "metadata": {},
     "output_type": "display_data"
    },
    {
     "data": {
      "application/vnd.jupyter.widget-view+json": {
       "model_id": "",
       "version_major": 2,
       "version_minor": 0
      },
      "text/plain": [
       "FloatProgress(value=0.0, bar_style='info', description='Progress:', layout=Layout(height='25px', width='50%'),…"
      ]
     },
     "metadata": {},
     "output_type": "display_data"
    }
   ],
   "source": [
    "irsFinal.write.parquet(\"s3://agimodeltrainer/Clean_Data/IRS_SOI_County.parquet\")"
   ]
  },
  {
   "cell_type": "code",
   "execution_count": 5,
   "metadata": {},
   "outputs": [
    {
     "data": {
      "application/vnd.jupyter.widget-view+json": {
       "model_id": "a8254b70a3ef4372a0e057ec8802894d",
       "version_major": 2,
       "version_minor": 0
      },
      "text/plain": [
       "VBox()"
      ]
     },
     "metadata": {},
     "output_type": "display_data"
    },
    {
     "data": {
      "application/vnd.jupyter.widget-view+json": {
       "model_id": "",
       "version_major": 2,
       "version_minor": 0
      },
      "text/plain": [
       "FloatProgress(value=0.0, bar_style='info', description='Progress:', layout=Layout(height='25px', width='50%'),…"
      ]
     },
     "metadata": {},
     "output_type": "display_data"
    },
    {
     "name": "stdout",
     "output_type": "stream",
     "text": [
      "test: org.apache.spark.sql.DataFrame = [FIPS: string, Year: int ... 2 more fields]\n",
      "root\n",
      " |-- FIPS: string (nullable = true)\n",
      " |-- Year: integer (nullable = true)\n",
      " |-- Number_of_returns: long (nullable = true)\n",
      " |-- Total_AGI: long (nullable = true)\n",
      "\n",
      "+-----+----+-----------------+---------+\n",
      "| FIPS|Year|Number_of_returns|Total_AGI|\n",
      "+-----+----+-----------------+---------+\n",
      "|22111|2017|             8750|   424074|\n",
      "|29051|2017|            36620|  2262800|\n",
      "|45047|2017|            29520|  1428313|\n",
      "|56003|2017|             4940|   227308|\n",
      "|16035|2017|             3460|   167195|\n",
      "|30087|2017|             3850|   203728|\n",
      "|20119|2017|             1930|   105747|\n",
      "|37017|2017|            12440|   502354|\n",
      "|40033|2017|             2380|    99098|\n",
      "|42049|2017|           128200|  6771920|\n",
      "|47009|2017|            60960|  3559702|\n",
      "|02060|2017|              480|    27648|\n",
      "|21003|2017|             7960|   344395|\n",
      "|51670|2017|            10570|   408769|\n",
      "|13085|2017|            10930|   704852|\n",
      "|31135|2017|             1360|    60589|\n",
      "|37159|2017|            62870|  3051385|\n",
      "|40027|2017|           122400|  7946510|\n",
      "|45067|2017|            12960|   425925|\n",
      "|47189|2017|            66390|  4642128|\n",
      "+-----+----+-----------------+---------+\n",
      "only showing top 20 rows\n",
      "\n",
      "res22: Long = 21990\n",
      "res23: Long = 3144\n",
      "res24: Long = 7\n"
     ]
    }
   ],
   "source": [
    "// Quick test to show that data was written successfully.\n",
    "val test = spark.read.parquet(\"s3://agimodeltrainer/Clean_Data/IRS_SOI_County.parquet\")\n",
    "test.printSchema\n",
    "test.show\n",
    "test.count\n",
    "test.select(\"FIPS\").distinct.count\n",
    "test.select(\"Year\").distinct.count"
   ]
  },
  {
   "cell_type": "code",
   "execution_count": 6,
   "metadata": {},
   "outputs": [
    {
     "data": {
      "application/vnd.jupyter.widget-view+json": {
       "model_id": "9ad3ebb1ebad4ed180a60e713c81086d",
       "version_major": 2,
       "version_minor": 0
      },
      "text/plain": [
       "VBox()"
      ]
     },
     "metadata": {},
     "output_type": "display_data"
    },
    {
     "data": {
      "application/vnd.jupyter.widget-view+json": {
       "model_id": "",
       "version_major": 2,
       "version_minor": 0
      },
      "text/plain": [
       "FloatProgress(value=0.0, bar_style='info', description='Progress:', layout=Layout(height='25px', width='50%'),…"
      ]
     },
     "metadata": {},
     "output_type": "display_data"
    },
    {
     "name": "stdout",
     "output_type": "stream",
     "text": [
      "res25: Long = 66\n"
     ]
    }
   ],
   "source": [
    "test.filter($\"Total_AGI\" === 0).count"
   ]
  },
  {
   "cell_type": "code",
   "execution_count": null,
   "metadata": {},
   "outputs": [],
   "source": []
  }
 ],
 "metadata": {
  "kernelspec": {
   "display_name": "Spark",
   "language": "",
   "name": "sparkkernel"
  },
  "language_info": {
   "codemirror_mode": "text/x-scala",
   "mimetype": "text/x-scala",
   "name": "scala",
   "pygments_lexer": "scala"
  }
 },
 "nbformat": 4,
 "nbformat_minor": 4
}
