{
 "cells": [
  {
   "cell_type": "code",
   "execution_count": 1,
   "metadata": {},
   "outputs": [
    {
     "name": "stdout",
     "output_type": "stream",
     "text": [
      "Starting Spark application\n"
     ]
    },
    {
     "data": {
      "text/html": [
       "<table>\n",
       "<tr><th>ID</th><th>YARN Application ID</th><th>Kind</th><th>State</th><th>Spark UI</th><th>Driver log</th><th>Current session?</th></tr><tr><td>19</td><td>application_1598467819421_0020</td><td>spark</td><td>idle</td><td><a target=\"_blank\" href=\"http://ip-172-31-46-94.us-east-2.compute.internal:20888/proxy/application_1598467819421_0020/\">Link</a></td><td><a target=\"_blank\" href=\"http://ip-172-31-40-29.us-east-2.compute.internal:8042/node/containerlogs/container_1598467819421_0020_01_000001/livy\">Link</a></td><td>✔</td></tr></table>"
      ],
      "text/plain": [
       "<IPython.core.display.HTML object>"
      ]
     },
     "metadata": {},
     "output_type": "display_data"
    },
    {
     "data": {
      "application/vnd.jupyter.widget-view+json": {
       "model_id": "",
       "version_major": 2,
       "version_minor": 0
      },
      "text/plain": [
       "FloatProgress(value=0.0, bar_style='info', description='Progress:', layout=Layout(height='25px', width='50%'),…"
      ]
     },
     "metadata": {},
     "output_type": "display_data"
    },
    {
     "name": "stdout",
     "output_type": "stream",
     "text": [
      "SparkSession available as 'spark'.\n"
     ]
    },
    {
     "data": {
      "application/vnd.jupyter.widget-view+json": {
       "model_id": "",
       "version_major": 2,
       "version_minor": 0
      },
      "text/plain": [
       "FloatProgress(value=0.0, bar_style='info', description='Progress:', layout=Layout(height='25px', width='50%'),…"
      ]
     },
     "metadata": {},
     "output_type": "display_data"
    },
    {
     "name": "stdout",
     "output_type": "stream",
     "text": [
      "import org.apache.spark.sql.functions.{udf, input_file_name}\n",
      "pop: String = Population\n",
      "per_male: String = Male\n",
      "per_female: String = Female\n",
      "per_under_5: String = Under_5\n",
      "per_5_9: String = 5_9\n",
      "per_10_14: String = 10_14\n",
      "per_15_19: String = 15_19\n",
      "per_20_24: String = 20_24\n",
      "per_25_34: String = 25_34\n",
      "per_35_44: String = 35_44\n",
      "per_45_54: String = 45_54\n",
      "per_55_59: String = 55_59\n",
      "per_60_64: String = 60_64\n",
      "per_65_74: String = 65_74\n",
      "per_75_84: String = 75_84\n",
      "per_85_plus: String = 85plus\n",
      "per_one_race: String = One_Race\n",
      "per_only_white: String = Only_White\n",
      "per_only_black: String = Only_Black\n",
      "per_only_native: String = Only_Native\n",
      "per_only_cherokee: String = Only_Cherokee\n",
      "per_only_chippewa: String = Only_Chippewa\n",
      "per_only_navajo: String = Only_Navajo\n",
      "per_only_sioux: String = Only_Sioux\n",
      "per_only_asian: String = Only_Asian\n",
      "per_only_indian: String = Only_Indian\n",
      "per_only_chinese: String = Only_Chinese\n",
      "per_only_filipino: String = Only_Filipino\n",
      "per_only_japanese: String = Only_Japanese\n",
      "per_only_korean: String = Only_Korean\n",
      "per_only_vietnamese: String = Only_Vietnamese\n",
      "per_only_other_asian: String = Only_Asian_Other\n",
      "per_only_pacific_islander: String = Only_Pacific\n",
      "per_only_hawaiian: String = Only_Hawaiian\n",
      "per_only_guam: String = Only_Guamanian\n",
      "per_only_samoan: String = Only_Samoan\n",
      "per_only_pacific_other: String = Only_Pacific_Other\n",
      "per_only_other: String = Only_Other\n",
      "per_two_races: String = Twoplus_Races\n",
      "per_white_black: String = White_Black\n",
      "per_white_native: String = White_Native\n",
      "per_white_asian: String = White_Asian\n",
      "per_black_native: String = Black_Native\n",
      "per_white: String = White\n",
      "per_black: String = Black\n",
      "per_native: String = Native\n",
      "per_asian: String = Asian\n",
      "per_pacific: String = Pacific\n",
      "per_other: String = Other\n",
      "per_hispanic: String = Hispanic\n",
      "per_mexican: String = Mexican\n",
      "per_puerto_rican: String = Puerto_Rican\n",
      "per_cuban: String = Cuban\n",
      "per_hispanic_other: String = Hispanic_Other\n",
      "per_not_hispanic: String = Not_Hispanic\n",
      "extractYear: org.apache.spark.sql.expressions.UserDefinedFunction = UserDefinedFunction(<function1>,StringType,Some(List(StringType)))\n"
     ]
    }
   ],
   "source": [
    "import org.apache.spark.sql.functions.{udf, input_file_name};\n",
    "\n",
    "// All column name strings defined beforehand, for uniformity and ease of editting\n",
    "val pop = \"Population\"\n",
    "val per_male = \"Male\"\n",
    "val per_female = \"Female\"\n",
    "val per_under_5 = \"Under_5\"\n",
    "val per_5_9 = \"5_9\"\n",
    "val per_10_14 = \"10_14\"\n",
    "val per_15_19 = \"15_19\"\n",
    "val per_20_24 = \"20_24\"\n",
    "val per_25_34 = \"25_34\"\n",
    "val per_35_44 = \"35_44\"\n",
    "val per_45_54 = \"45_54\"\n",
    "val per_55_59 = \"55_59\"\n",
    "val per_60_64 = \"60_64\"\n",
    "val per_65_74 = \"65_74\"\n",
    "val per_75_84 = \"75_84\"\n",
    "val per_85_plus = \"85plus\"\n",
    "\n",
    "val per_one_race = \"One_Race\"\n",
    "val per_only_white = \"Only_White\"\n",
    "val per_only_black = \"Only_Black\"\n",
    "val per_only_native = \"Only_Native\"\n",
    "val per_only_cherokee = \"Only_Cherokee\"\n",
    "val per_only_chippewa = \"Only_Chippewa\"\n",
    "val per_only_navajo = \"Only_Navajo\"\n",
    "val per_only_sioux = \"Only_Sioux\"\n",
    "val per_only_asian = \"Only_Asian\"\n",
    "val per_only_indian = \"Only_Indian\"\n",
    "val per_only_chinese = \"Only_Chinese\"\n",
    "val per_only_filipino = \"Only_Filipino\"\n",
    "val per_only_japanese = \"Only_Japanese\"\n",
    "val per_only_korean = \"Only_Korean\"\n",
    "val per_only_vietnamese = \"Only_Vietnamese\"\n",
    "val per_only_other_asian = \"Only_Asian_Other\"\n",
    "val per_only_pacific_islander = \"Only_Pacific\"\n",
    "val per_only_hawaiian = \"Only_Hawaiian\"\n",
    "val per_only_guam = \"Only_Guamanian\"\n",
    "val per_only_samoan = \"Only_Samoan\"\n",
    "val per_only_pacific_other = \"Only_Pacific_Other\"\n",
    "val per_only_other = \"Only_Other\"\n",
    "val per_two_races = \"Twoplus_Races\"\n",
    "val per_white_black = \"White_Black\"\n",
    "val per_white_native = \"White_Native\"\n",
    "val per_white_asian = \"White_Asian\"\n",
    "val per_black_native = \"Black_Native\"\n",
    "\n",
    "val per_white = \"White\"\n",
    "val per_black = \"Black\"\n",
    "val per_native = \"Native\"\n",
    "val per_asian = \"Asian\"\n",
    "val per_pacific = \"Pacific\"\n",
    "val per_other = \"Other\"\n",
    "\n",
    "val per_hispanic = \"Hispanic\"\n",
    "val per_mexican = \"Mexican\"\n",
    "val per_puerto_rican = \"Puerto_Rican\"\n",
    "val per_cuban = \"Cuban\"\n",
    "val per_hispanic_other = \"Hispanic_Other\"\n",
    "val per_not_hispanic = \"Not_Hispanic\"\n",
    "\n",
    "val extractYear = udf((filename: String) => filename.split(\"/\").last.substring(7,11))"
   ]
  },
  {
   "cell_type": "code",
   "execution_count": 2,
   "metadata": {},
   "outputs": [
    {
     "data": {
      "application/vnd.jupyter.widget-view+json": {
       "model_id": "54d6c80082ca41d2a67d1708c9f44a72",
       "version_major": 2,
       "version_minor": 0
      },
      "text/plain": [
       "VBox()"
      ]
     },
     "metadata": {},
     "output_type": "display_data"
    },
    {
     "data": {
      "application/vnd.jupyter.widget-view+json": {
       "model_id": "",
       "version_major": 2,
       "version_minor": 0
      },
      "text/plain": [
       "FloatProgress(value=0.0, bar_style='info', description='Progress:', layout=Layout(height='25px', width='50%'),…"
      ]
     },
     "metadata": {},
     "output_type": "display_data"
    },
    {
     "name": "stdout",
     "output_type": "stream",
     "text": [
      "first: Boolean = true\n",
      "genAge: org.apache.spark.sql.DataFrame = null\n",
      "complexRace: org.apache.spark.sql.DataFrame = null\n",
      "simpleRace: org.apache.spark.sql.DataFrame = null\n",
      "hispanic: org.apache.spark.sql.DataFrame = null\n"
     ]
    }
   ],
   "source": [
    "var first: Boolean = true\n",
    "var genAge: org.apache.spark.sql.DataFrame = null\n",
    "var complexRace: org.apache.spark.sql.DataFrame = null\n",
    "var simpleRace: org.apache.spark.sql.DataFrame = null\n",
    "var hispanic: org.apache.spark.sql.DataFrame = null\n",
    "\n",
    "for (i <- 2011 to 2016) {\n",
    "    val rawDemIntermediate = spark.read.option(\"header\", \"true\").\n",
    "        csv(s\"s3://agimodeltrainer/DATA/DEM/ACSDP5Y${i}.csv\").\n",
    "        filter($\"GEO_ID\" =!= \"id\"). // Removes 2nd header line\n",
    "        withColumn(\"FIPS\", substring($\"GEO_ID\", 10, 5)).\n",
    "        withColumn(\"Year\", extractYear(input_file_name))\n",
    "\n",
    "    rawDemIntermediate.cache\n",
    "\n",
    "    val genAgeIntermediate = rawDemIntermediate.select(\n",
    "            $\"FIPS\",\n",
    "            $\"Year\".cast(\"Int\"),\n",
    "            $\"DP05_0001E\".as(pop).cast(\"Int\"),\n",
    "            $\"DP05_0002PE\".as(per_male).cast(\"Double\"),\n",
    "            $\"DP05_0003PE\".as(per_female).cast(\"Double\"),\n",
    "            $\"DP05_0004PE\".as(per_under_5).cast(\"Double\"),\n",
    "            $\"DP05_0005PE\".as(per_5_9).cast(\"Double\"),\n",
    "            $\"DP05_0006PE\".as(per_10_14).cast(\"Double\"),\n",
    "            $\"DP05_0007PE\".as(per_15_19).cast(\"Double\"),\n",
    "            $\"DP05_0008PE\".as(per_20_24).cast(\"Double\"),\n",
    "            $\"DP05_0009PE\".as(per_25_34).cast(\"Double\"),\n",
    "            $\"DP05_0010PE\".as(per_35_44).cast(\"Double\"),\n",
    "            $\"DP05_0011PE\".as(per_45_54).cast(\"Double\"),\n",
    "            $\"DP05_0012PE\".as(per_55_59).cast(\"Double\"),\n",
    "            $\"DP05_0013PE\".as(per_60_64).cast(\"Double\"),\n",
    "            $\"DP05_0014PE\".as(per_65_74).cast(\"Double\"),\n",
    "            $\"DP05_0015PE\".as(per_75_84).cast(\"Double\"),\n",
    "            $\"DP05_0016PE\".as(per_85_plus).cast(\"Double\")\n",
    "    )\n",
    "\n",
    "    val complexRaceIntermediate = rawDemIntermediate.select(\n",
    "            $\"FIPS\",\n",
    "            $\"Year\".cast(\"Int\"),\n",
    "            $\"DP05_0031PE\".as(per_one_race).cast(\"Double\"),\n",
    "            $\"DP05_0032PE\".as(per_only_white).cast(\"Double\"),\n",
    "            $\"DP05_0033PE\".as(per_only_black).cast(\"Double\"),\n",
    "            $\"DP05_0034PE\".as(per_only_native).cast(\"Double\"),\n",
    "            $\"DP05_0035PE\".as(per_only_cherokee).cast(\"Double\"),\n",
    "            $\"DP05_0036PE\".as(per_only_chippewa).cast(\"Double\"),\n",
    "            $\"DP05_0037PE\".as(per_only_navajo).cast(\"Double\"),\n",
    "            $\"DP05_0038PE\".as(per_only_sioux).cast(\"Double\"),\n",
    "            $\"DP05_0039PE\".as(per_only_asian).cast(\"Double\"),\n",
    "            $\"DP05_0040PE\".as(per_only_indian).cast(\"Double\"),\n",
    "            $\"DP05_0041PE\".as(per_only_chinese).cast(\"Double\"),\n",
    "            $\"DP05_0042PE\".as(per_only_filipino).cast(\"Double\"),\n",
    "            $\"DP05_0043PE\".as(per_only_japanese).cast(\"Double\"),\n",
    "            $\"DP05_0044PE\".as(per_only_korean).cast(\"Double\"),\n",
    "            $\"DP05_0045PE\".as(per_only_vietnamese).cast(\"Double\"),\n",
    "            $\"DP05_0046PE\".as(per_only_other_asian).cast(\"Double\"),\n",
    "            $\"DP05_0047PE\".as(per_only_pacific_islander).cast(\"Double\"),\n",
    "            $\"DP05_0048PE\".as(per_only_hawaiian).cast(\"Double\"),\n",
    "            $\"DP05_0049PE\".as(per_only_guam).cast(\"Double\"),\n",
    "            $\"DP05_0050PE\".as(per_only_samoan).cast(\"Double\"),\n",
    "            $\"DP05_0051PE\".as(per_only_pacific_other).cast(\"Double\"),\n",
    "            $\"DP05_0052PE\".as(per_only_other).cast(\"Double\"),\n",
    "            $\"DP05_0053PE\".as(per_two_races).cast(\"Double\"),\n",
    "            $\"DP05_0054PE\".as(per_white_black).cast(\"Double\"),\n",
    "            $\"DP05_0055PE\".as(per_white_native).cast(\"Double\"),\n",
    "            $\"DP05_0056PE\".as(per_white_asian).cast(\"Double\"),\n",
    "            $\"DP05_0057PE\".as(per_black_native).cast(\"Double\")\n",
    "    )\n",
    "\n",
    "    val simpleRaceIntermediate = rawDemIntermediate.select(\n",
    "            $\"FIPS\",\n",
    "            $\"Year\".cast(\"Int\"),\n",
    "            $\"DP05_0059PE\".as(per_white).cast(\"Double\"),\n",
    "            $\"DP05_0060PE\".as(per_black).cast(\"Double\"),\n",
    "            $\"DP05_0061PE\".as(per_native).cast(\"Double\"),\n",
    "            $\"DP05_0062PE\".as(per_asian).cast(\"Double\"),\n",
    "            $\"DP05_0063PE\".as(per_pacific).cast(\"Double\"),\n",
    "            $\"DP05_0064PE\".as(per_other).cast(\"Double\")\n",
    "    )\n",
    "\n",
    "    val hispanicIntermediate = rawDemIntermediate.select(\n",
    "            $\"FIPS\",\n",
    "            $\"Year\".cast(\"Int\"),\n",
    "            $\"DP05_0066PE\".as(per_hispanic).cast(\"Double\"),\n",
    "            $\"DP05_0067PE\".as(per_mexican).cast(\"Double\"),\n",
    "            $\"DP05_0068PE\".as(per_puerto_rican).cast(\"Double\"),\n",
    "            $\"DP05_0069PE\".as(per_cuban).cast(\"Double\"),\n",
    "            $\"DP05_0070PE\".as(per_hispanic_other).cast(\"Double\"),\n",
    "            $\"DP05_0071PE\".as(per_not_hispanic).cast(\"Double\")\n",
    "    )\n",
    "    \n",
    "    if (first) {\n",
    "        first = false\n",
    "        genAge = genAgeIntermediate\n",
    "        complexRace = complexRaceIntermediate\n",
    "        simpleRace = simpleRaceIntermediate\n",
    "        hispanic = hispanicIntermediate\n",
    "    } else {\n",
    "        genAge = genAge.union(genAgeIntermediate)\n",
    "        complexRace = complexRace.union(complexRaceIntermediate)\n",
    "        simpleRace = simpleRace.union(simpleRaceIntermediate)\n",
    "        hispanic = hispanic.union(hispanicIntermediate)\n",
    "    }\n",
    "}"
   ]
  },
  {
   "cell_type": "code",
   "execution_count": 3,
   "metadata": {},
   "outputs": [
    {
     "data": {
      "application/vnd.jupyter.widget-view+json": {
       "model_id": "7dd435eb5ae14197a4a8f8ad27dacdcc",
       "version_major": 2,
       "version_minor": 0
      },
      "text/plain": [
       "VBox()"
      ]
     },
     "metadata": {},
     "output_type": "display_data"
    },
    {
     "data": {
      "application/vnd.jupyter.widget-view+json": {
       "model_id": "",
       "version_major": 2,
       "version_minor": 0
      },
      "text/plain": [
       "FloatProgress(value=0.0, bar_style='info', description='Progress:', layout=Layout(height='25px', width='50%'),…"
      ]
     },
     "metadata": {},
     "output_type": "display_data"
    },
    {
     "name": "stdout",
     "output_type": "stream",
     "text": [
      "tables: List[org.apache.spark.sql.DataFrame] = List([FIPS: string, Year: int ... 16 more fields], [FIPS: string, Year: int ... 27 more fields], [FIPS: string, Year: int ... 6 more fields], [FIPS: string, Year: int ... 6 more fields])\n",
      "Test passed\n"
     ]
    }
   ],
   "source": [
    "// Test to make sure counts of all tables are the same, and no null values\n",
    "val tables = List(genAge, complexRace, simpleRace, hispanic)\n",
    "\n",
    "if (tables.exists(_.count != tables.head.count) || tables.exists(t => { t.count != t.na.drop.count } )) {\n",
    "    println(\"Test failed\")\n",
    "} else { \n",
    "    println(\"Test passed\")\n",
    "}"
   ]
  },
  {
   "cell_type": "code",
   "execution_count": 4,
   "metadata": {},
   "outputs": [
    {
     "data": {
      "application/vnd.jupyter.widget-view+json": {
       "model_id": "daeb7415cb3147c485f617e8fd3964ec",
       "version_major": 2,
       "version_minor": 0
      },
      "text/plain": [
       "VBox()"
      ]
     },
     "metadata": {},
     "output_type": "display_data"
    },
    {
     "data": {
      "application/vnd.jupyter.widget-view+json": {
       "model_id": "",
       "version_major": 2,
       "version_minor": 0
      },
      "text/plain": [
       "FloatProgress(value=0.0, bar_style='info', description='Progress:', layout=Layout(height='25px', width='50%'),…"
      ]
     },
     "metadata": {},
     "output_type": "display_data"
    },
    {
     "name": "stdout",
     "output_type": "stream",
     "text": [
      "rawDem17: org.apache.spark.sql.DataFrame = [GEO_ID: string, NAME: string ... 358 more fields]\n",
      "res15: rawDem17.type = [GEO_ID: string, NAME: string ... 358 more fields]\n",
      "genAge17: org.apache.spark.sql.DataFrame = [FIPS: string, Year: int ... 16 more fields]\n",
      "complexRace17: org.apache.spark.sql.DataFrame = [FIPS: string, Year: int ... 27 more fields]\n",
      "simpleRace17: org.apache.spark.sql.DataFrame = [FIPS: string, Year: int ... 6 more fields]\n",
      "hispanic17: org.apache.spark.sql.DataFrame = [FIPS: string, Year: int ... 6 more fields]\n",
      "genAge: org.apache.spark.sql.DataFrame = [FIPS: string, Year: int ... 16 more fields]\n",
      "complexRace: org.apache.spark.sql.DataFrame = [FIPS: string, Year: int ... 27 more fields]\n",
      "simpleRace: org.apache.spark.sql.DataFrame = [FIPS: string, Year: int ... 6 more fields]\n",
      "hispanic: org.apache.spark.sql.DataFrame = [FIPS: string, Year: int ... 6 more fields]\n"
     ]
    }
   ],
   "source": [
    "// >>>>>>>>>>>>>>>>>>>>>>>>>>>>>>> Schema change from 2011-2016!!!!!!!!!!!!!!!!!!!!!!!!!!!!!!!!!\n",
    "// And we start the data cleaning dance all over again....\n",
    "val rawDem17 = spark.read.option(\"header\", \"true\").\n",
    "    csv(\"s3://agimodeltrainer/DATA/DEM/ACSDP5Y2017.csv\").\n",
    "    filter($\"GEO_ID\" =!= \"id\"). // Removes 2nd header line\n",
    "    withColumn(\"FIPS\", substring($\"GEO_ID\", 10, 5)).\n",
    "    withColumn(\"Year\", extractYear(input_file_name))\n",
    "\n",
    "rawDem17.cache\n",
    "\n",
    "val genAge17 = rawDem17.select(\n",
    "        $\"FIPS\",\n",
    "        $\"Year\".cast(\"Int\"),\n",
    "        $\"DP05_0001E\".as(pop).cast(\"Int\"),\n",
    "        $\"DP05_0002PE\".as(per_male).cast(\"Double\"),\n",
    "        $\"DP05_0003PE\".as(per_female).cast(\"Double\"),\n",
    "        $\"DP05_0005PE\".as(per_under_5).cast(\"Double\"),\n",
    "        $\"DP05_0006PE\".as(per_5_9).cast(\"Double\"),\n",
    "        $\"DP05_0007PE\".as(per_10_14).cast(\"Double\"),\n",
    "        $\"DP05_0008PE\".as(per_15_19).cast(\"Double\"),\n",
    "        $\"DP05_0009PE\".as(per_20_24).cast(\"Double\"),\n",
    "        $\"DP05_0010PE\".as(per_25_34).cast(\"Double\"),\n",
    "        $\"DP05_0011PE\".as(per_35_44).cast(\"Double\"),\n",
    "        $\"DP05_0012PE\".as(per_45_54).cast(\"Double\"),\n",
    "        $\"DP05_0013PE\".as(per_55_59).cast(\"Double\"),\n",
    "        $\"DP05_0014PE\".as(per_60_64).cast(\"Double\"),\n",
    "        $\"DP05_0015PE\".as(per_65_74).cast(\"Double\"),\n",
    "        $\"DP05_0016PE\".as(per_75_84).cast(\"Double\"),\n",
    "        $\"DP05_0017PE\".as(per_85_plus).cast(\"Double\")\n",
    "    )\n",
    "\n",
    "val complexRace17 = rawDem17.select(\n",
    "        $\"FIPS\",\n",
    "        $\"Year\".cast(\"Int\"),\n",
    "        $\"DP05_0036PE\".as(per_one_race).cast(\"Double\"),\n",
    "        $\"DP05_0037PE\".as(per_only_white).cast(\"Double\"),\n",
    "        $\"DP05_0038PE\".as(per_only_black).cast(\"Double\"),\n",
    "        $\"DP05_0039PE\".as(per_only_native).cast(\"Double\"),\n",
    "        $\"DP05_0040PE\".as(per_only_cherokee).cast(\"Double\"),\n",
    "        $\"DP05_0041PE\".as(per_only_chippewa).cast(\"Double\"),\n",
    "        $\"DP05_0042PE\".as(per_only_navajo).cast(\"Double\"),\n",
    "        $\"DP05_0043PE\".as(per_only_sioux).cast(\"Double\"),\n",
    "        $\"DP05_0044PE\".as(per_only_asian).cast(\"Double\"),\n",
    "        $\"DP05_0045PE\".as(per_only_indian).cast(\"Double\"),\n",
    "        $\"DP05_0046PE\".as(per_only_chinese).cast(\"Double\"),\n",
    "        $\"DP05_0047PE\".as(per_only_filipino).cast(\"Double\"),\n",
    "        $\"DP05_0048PE\".as(per_only_japanese).cast(\"Double\"),\n",
    "        $\"DP05_0049PE\".as(per_only_korean).cast(\"Double\"),\n",
    "        $\"DP05_0050PE\".as(per_only_vietnamese).cast(\"Double\"),\n",
    "        $\"DP05_0051PE\".as(per_only_other_asian).cast(\"Double\"),\n",
    "        $\"DP05_0052PE\".as(per_only_pacific_islander).cast(\"Double\"),\n",
    "        $\"DP05_0053PE\".as(per_only_hawaiian).cast(\"Double\"),\n",
    "        $\"DP05_0054PE\".as(per_only_guam).cast(\"Double\"),\n",
    "        $\"DP05_0055PE\".as(per_only_samoan).cast(\"Double\"),\n",
    "        $\"DP05_0056PE\".as(per_only_pacific_other).cast(\"Double\"),\n",
    "        $\"DP05_0057PE\".as(per_only_other).cast(\"Double\"),\n",
    "        $\"DP05_0058PE\".as(per_two_races).cast(\"Double\"),\n",
    "        $\"DP05_0059PE\".as(per_white_black).cast(\"Double\"),\n",
    "        $\"DP05_0060PE\".as(per_white_native).cast(\"Double\"),\n",
    "        $\"DP05_0061PE\".as(per_white_asian).cast(\"Double\"),\n",
    "        $\"DP05_0062PE\".as(per_black_native).cast(\"Double\")\n",
    "    )\n",
    "\n",
    "val simpleRace17 = rawDem17.select(\n",
    "        $\"FIPS\",\n",
    "        $\"Year\".cast(\"Int\"),\n",
    "        $\"DP05_0064PE\".as(per_white).cast(\"Double\"),\n",
    "        $\"DP05_0065PE\".as(per_black).cast(\"Double\"),\n",
    "        $\"DP05_0066PE\".as(per_native).cast(\"Double\"),\n",
    "        $\"DP05_0067PE\".as(per_asian).cast(\"Double\"),\n",
    "        $\"DP05_0068PE\".as(per_pacific).cast(\"Double\"),\n",
    "        $\"DP05_0069PE\".as(per_other).cast(\"Double\")\n",
    "    )\n",
    "\n",
    "val hispanic17 = rawDem17.select(\n",
    "        $\"FIPS\",\n",
    "        $\"Year\".cast(\"Int\"),\n",
    "        $\"DP05_0071PE\".as(per_hispanic).cast(\"Double\"),\n",
    "        $\"DP05_0072PE\".as(per_mexican).cast(\"Double\"),\n",
    "        $\"DP05_0073PE\".as(per_puerto_rican).cast(\"Double\"),\n",
    "        $\"DP05_0074PE\".as(per_cuban).cast(\"Double\"),\n",
    "        $\"DP05_0075PE\".as(per_hispanic_other).cast(\"Double\"),\n",
    "        $\"DP05_0076PE\".as(per_not_hispanic).cast(\"Double\")\n",
    "    )\n",
    "\n",
    "genAge = genAge.union(genAge17)\n",
    "complexRace = complexRace.union(complexRace17)\n",
    "simpleRace = simpleRace.union(simpleRace17)\n",
    "hispanic = hispanic.union(hispanic17)"
   ]
  },
  {
   "cell_type": "code",
   "execution_count": 5,
   "metadata": {},
   "outputs": [
    {
     "data": {
      "application/vnd.jupyter.widget-view+json": {
       "model_id": "8c0121c6d04d422aadc65f7efe97ae45",
       "version_major": 2,
       "version_minor": 0
      },
      "text/plain": [
       "VBox()"
      ]
     },
     "metadata": {},
     "output_type": "display_data"
    },
    {
     "data": {
      "application/vnd.jupyter.widget-view+json": {
       "model_id": "",
       "version_major": 2,
       "version_minor": 0
      },
      "text/plain": [
       "FloatProgress(value=0.0, bar_style='info', description='Progress:', layout=Layout(height='25px', width='50%'),…"
      ]
     },
     "metadata": {},
     "output_type": "display_data"
    },
    {
     "name": "stdout",
     "output_type": "stream",
     "text": [
      "tables: List[org.apache.spark.sql.DataFrame] = List([FIPS: string, Year: int ... 16 more fields], [FIPS: string, Year: int ... 27 more fields], [FIPS: string, Year: int ... 6 more fields], [FIPS: string, Year: int ... 6 more fields])\n",
      "Test passed\n"
     ]
    }
   ],
   "source": [
    "// Test to make sure counts of all tables are the same, and no null values\n",
    "val tables = List(genAge, complexRace, simpleRace, hispanic)\n",
    "\n",
    "if (tables.exists(_.count != tables.head.count) || tables.exists(t => { t.count != t.na.drop.count } )) {\n",
    "    println(\"Test failed\")\n",
    "} else { \n",
    "    println(\"Test passed\")\n",
    "}"
   ]
  },
  {
   "cell_type": "code",
   "execution_count": 6,
   "metadata": {},
   "outputs": [
    {
     "data": {
      "application/vnd.jupyter.widget-view+json": {
       "model_id": "e390e8b144e24da8bc7fcb2d3a0ee047",
       "version_major": 2,
       "version_minor": 0
      },
      "text/plain": [
       "VBox()"
      ]
     },
     "metadata": {},
     "output_type": "display_data"
    },
    {
     "data": {
      "application/vnd.jupyter.widget-view+json": {
       "model_id": "",
       "version_major": 2,
       "version_minor": 0
      },
      "text/plain": [
       "FloatProgress(value=0.0, bar_style='info', description='Progress:', layout=Layout(height='25px', width='50%'),…"
      ]
     },
     "metadata": {},
     "output_type": "display_data"
    },
    {
     "name": "stdout",
     "output_type": "stream",
     "text": [
      "root\n",
      " |-- FIPS: string (nullable = true)\n",
      " |-- Year: integer (nullable = true)\n",
      " |-- Population: integer (nullable = true)\n",
      " |-- Male: double (nullable = true)\n",
      " |-- Female: double (nullable = true)\n",
      " |-- Under_5: double (nullable = true)\n",
      " |-- 5_9: double (nullable = true)\n",
      " |-- 10_14: double (nullable = true)\n",
      " |-- 15_19: double (nullable = true)\n",
      " |-- 20_24: double (nullable = true)\n",
      " |-- 25_34: double (nullable = true)\n",
      " |-- 35_44: double (nullable = true)\n",
      " |-- 45_54: double (nullable = true)\n",
      " |-- 55_59: double (nullable = true)\n",
      " |-- 60_64: double (nullable = true)\n",
      " |-- 65_74: double (nullable = true)\n",
      " |-- 75_84: double (nullable = true)\n",
      " |-- 85plus: double (nullable = true)\n",
      "\n",
      "+-----+----+----------+----+------+-------+---+-----+-----+-----+-----+-----+-----+-----+-----+-----+-----+------+\n",
      "| FIPS|Year|Population|Male|Female|Under_5|5_9|10_14|15_19|20_24|25_34|35_44|45_54|55_59|60_64|65_74|75_84|85plus|\n",
      "+-----+----+----------+----+------+-------+---+-----+-----+-----+-----+-----+-----+-----+-----+-----+-----+------+\n",
      "|02060|2012|       929|53.4|  46.6|    4.1|7.0| 10.9|  7.2|  4.0| 10.0|  9.4| 23.4| 11.5|  3.1|  6.6|  1.7|   1.2|\n",
      "|30023|2014|      9243|52.9|  47.1|    4.3|5.0|  4.7|  8.6|  4.0| 10.8| 11.3| 15.0|  8.0|  8.9| 10.7|  6.5|   2.2|\n",
      "|51730|2015|     32123|46.0|  54.0|    7.3|5.3|  4.9|  5.2|  8.9| 14.1| 10.4| 14.7|  6.9|  7.2|  8.4|  4.3|   2.6|\n",
      "|19191|2014|     20957|49.5|  50.5|    4.6|5.9|  5.5|  9.9|  9.4|  9.3| 10.2| 14.4|  7.4|  6.1|  8.3|  6.0|   3.0|\n",
      "|47051|2013|     40985|48.5|  51.5|    5.2|6.5|  6.3|  7.2|  7.3| 10.1| 11.9| 13.9|  7.1|  6.7|  9.9|  5.8|   2.0|\n",
      "|05063|2011|     36279|49.1|  50.9|    6.7|6.9|  6.5|  6.9|  5.6| 12.4| 13.0| 14.4|  6.4|  6.0|  8.2|  4.9|   2.0|\n",
      "|12083|2015|    336811|48.0|  52.0|    5.0|5.5|  5.0|  5.2|  5.4| 10.1| 10.1| 12.6|  6.6|  7.2| 15.2|  9.1|   3.0|\n",
      "|40027|2011|    251643|50.0|  50.0|    6.4|6.8|  6.0|  7.9| 11.0| 15.2| 12.7| 13.4|  5.7|  4.9|  5.8|  3.1|   1.1|\n",
      "|54009|2014|     23787|48.7|  51.3|    4.2|5.3|  5.2|  7.5|  6.0|  9.3| 11.7| 14.3|  7.5|  8.9| 10.4|  7.1|   2.7|\n",
      "|28013|2016|     14724|47.7|  52.3|    6.3|6.3|  7.7|  6.6|  5.9| 10.5| 12.3| 13.4|  6.2|  7.5|  9.3|  5.8|   2.3|\n",
      "|17133|2013|     33181|49.3|  50.7|    5.8|5.9|  8.3|  6.5|  4.8| 11.1| 13.1| 17.0|  7.1|  5.9|  7.5|  4.6|   2.5|\n",
      "|27013|2014|     64720|50.3|  49.7|    5.8|5.3|  5.4|  8.9| 15.9| 14.5| 10.0| 11.1|  5.8|  5.0|  6.1|  4.0|   2.1|\n",
      "|12005|2013|    170704|49.6|  50.4|    6.2|5.8|  6.1|  6.2|  6.9| 13.3| 12.6| 15.3|  7.0|  5.7|  8.4|  5.0|   1.6|\n",
      "|30071|2013|      4205|50.3|  49.7|    6.2|5.8|  6.2|  7.3|  2.5|  9.5|  8.5| 17.9|  9.6|  6.2| 10.1|  7.4|   2.9|\n",
      "|09009|2012|    860995|48.2|  51.8|    5.6|5.8|  6.6|  7.3|  6.8| 12.6| 13.3| 15.3|  6.6|  5.7|  7.2|  4.6|   2.7|\n",
      "|72039|2014|     18242|49.1|  50.9|    6.1|6.1|  7.2|  7.2|  7.9| 12.7| 11.4| 14.1|  5.7|  6.7|  8.7|  4.5|   1.7|\n",
      "|28143|2015|     10477|46.9|  53.1|    8.6|8.5|  8.3|  6.0|  7.3| 15.8| 12.4| 11.6|  4.9|  6.5|  5.7|  3.6|   0.8|\n",
      "|53001|2011|     18289|51.1|  48.9|   11.0|8.6|  9.1|  8.5|  7.0| 13.1| 12.1| 11.2|  5.1|  3.3|  6.0|  3.4|   1.7|\n",
      "|13091|2015|     21180|53.0|  47.0|    5.8|5.8|  6.0|  6.3|  7.6| 12.1| 14.2| 14.7|  6.8|  6.1|  8.5|  4.6|   1.5|\n",
      "|48163|2013|     17522|58.8|  41.2|    6.5|6.7|  6.7|  8.2|  9.5| 17.8| 11.8| 11.7|  4.6|  4.2|  7.0|  3.5|   1.8|\n",
      "+-----+----+----------+----+------+-------+---+-----+-----+-----+-----+-----+-----+-----+-----+-----+-----+------+\n",
      "only showing top 20 rows\n",
      "\n",
      "root\n",
      " |-- FIPS: string (nullable = true)\n",
      " |-- Year: integer (nullable = true)\n",
      " |-- One_Race: double (nullable = true)\n",
      " |-- Only_White: double (nullable = true)\n",
      " |-- Only_Black: double (nullable = true)\n",
      " |-- Only_Native: double (nullable = true)\n",
      " |-- Only_Cherokee: double (nullable = true)\n",
      " |-- Only_Chippewa: double (nullable = true)\n",
      " |-- Only_Navajo: double (nullable = true)\n",
      " |-- Only_Sioux: double (nullable = true)\n",
      " |-- Only_Asian: double (nullable = true)\n",
      " |-- Only_Indian: double (nullable = true)\n",
      " |-- Only_Chinese: double (nullable = true)\n",
      " |-- Only_Filipino: double (nullable = true)\n",
      " |-- Only_Japanese: double (nullable = true)\n",
      " |-- Only_Korean: double (nullable = true)\n",
      " |-- Only_Vietnamese: double (nullable = true)\n",
      " |-- Only_Asian_Other: double (nullable = true)\n",
      " |-- Only_Pacific: double (nullable = true)\n",
      " |-- Only_Hawaiian: double (nullable = true)\n",
      " |-- Only_Guamanian: double (nullable = true)\n",
      " |-- Only_Samoan: double (nullable = true)\n",
      " |-- Only_Pacific_Other: double (nullable = true)\n",
      " |-- Only_Other: double (nullable = true)\n",
      " |-- Twoplus_Races: double (nullable = true)\n",
      " |-- White_Black: double (nullable = true)\n",
      " |-- White_Native: double (nullable = true)\n",
      " |-- White_Asian: double (nullable = true)\n",
      " |-- Black_Native: double (nullable = true)\n",
      "\n",
      "+-----+----+--------+----------+----------+-----------+-------------+-------------+-----------+----------+----------+-----------+------------+-------------+-------------+-----------+---------------+----------------+------------+-------------+--------------+-----------+------------------+----------+-------------+-----------+------------+-----------+------------+\n",
      "| FIPS|Year|One_Race|Only_White|Only_Black|Only_Native|Only_Cherokee|Only_Chippewa|Only_Navajo|Only_Sioux|Only_Asian|Only_Indian|Only_Chinese|Only_Filipino|Only_Japanese|Only_Korean|Only_Vietnamese|Only_Asian_Other|Only_Pacific|Only_Hawaiian|Only_Guamanian|Only_Samoan|Only_Pacific_Other|Only_Other|Twoplus_Races|White_Black|White_Native|White_Asian|Black_Native|\n",
      "+-----+----+--------+----------+----------+-----------+-------------+-------------+-----------+----------+----------+-----------+------------+-------------+-------------+-----------+---------------+----------------+------------+-------------+--------------+-----------+------------------+----------+-------------+-----------+------------+-----------+------------+\n",
      "|47163|2016|    98.1|      94.7|       1.9|        0.2|          0.1|          0.0|        0.0|       0.0|       0.5|        0.1|         0.2|          0.1|          0.0|        0.0|            0.1|             0.0|         0.0|          0.0|           0.0|        0.0|               0.0|       0.7|          1.9|        0.8|         0.6|        0.2|         0.0|\n",
      "|18061|2014|    98.8|      97.5|       0.6|        0.1|          0.0|          0.1|        0.0|       0.0|       0.4|        0.1|         0.1|          0.0|          0.0|        0.0|            0.0|             0.1|         0.0|          0.0|           0.0|        0.0|               0.0|       0.2|          1.2|        0.4|         0.5|        0.2|         0.0|\n",
      "|40115|2017|    87.9|      68.3|       1.1|       15.4|          7.3|          0.0|        0.0|       0.0|       0.7|        0.0|         0.1|          0.1|          0.0|        0.1|            0.1|             0.3|         0.7|          0.2|           0.0|        0.0|               0.5|       1.8|         12.1|        0.4|        10.4|        0.2|         0.2|\n",
      "|72091|2014|    98.9|      86.7|       4.2|        0.0|          0.0|          0.0|        0.0|       0.0|       0.0|        0.0|         0.0|          0.0|          0.0|        0.0|            0.0|             0.0|         0.0|          0.0|           0.0|        0.0|               0.0|       8.0|          1.1|        0.8|         0.0|        0.0|         0.0|\n",
      "|39123|2014|    98.4|      95.7|       1.0|        0.1|          0.1|          0.0|        0.0|       0.0|       0.4|        0.0|         0.1|          0.0|          0.0|        0.0|            0.1|             0.2|         0.0|          0.0|           0.0|        0.0|               0.0|       1.2|          1.6|        0.7|         0.4|        0.1|         0.0|\n",
      "|28011|2014|    99.7|      33.2|      64.2|        0.1|          0.0|          0.0|        0.0|       0.0|       0.7|        0.3|         0.2|          0.1|          0.0|        0.0|            0.0|             0.0|         0.0|          0.0|           0.0|        0.0|               0.0|       1.5|          0.3|        0.2|         0.1|        0.0|         0.0|\n",
      "|29095|2016|    97.0|      66.6|      23.7|        0.5|          0.2|          0.0|        0.0|       0.0|       1.7|        0.2|         0.3|          0.2|          0.1|        0.2|            0.4|             0.4|         0.2|          0.1|           0.0|        0.1|               0.0|       4.2|          3.0|        1.1|         0.6|        0.4|         0.1|\n",
      "|38047|2016|    99.0|      98.2|       0.1|        0.4|          0.0|          0.4|        0.0|       0.0|       0.3|        0.0|         0.0|          0.0|          0.0|        0.0|            0.3|             0.0|         0.0|          0.0|           0.0|        0.0|               0.0|       0.1|          1.0|        0.0|         0.2|        0.9|         0.0|\n",
      "|05057|2013|    97.6|      66.0|      29.6|        0.2|          0.0|          0.0|        0.0|       0.0|       0.0|        0.0|         0.0|          0.0|          0.0|        0.0|            0.0|             0.0|         0.0|          0.0|           0.0|        0.0|               0.0|       1.7|          2.4|        0.9|         0.8|        0.0|         0.0|\n",
      "|40023|2013|    86.0|      63.7|      10.3|       10.2|          0.7|          0.0|        0.0|       0.0|       0.4|        0.0|         0.0|          0.0|          0.0|        0.0|            0.3|             0.0|         0.0|          0.0|           0.0|        0.0|               0.0|       1.4|         14.0|        1.6|        10.5|        0.1|         0.7|\n",
      "|55043|2017|    99.1|      96.5|       1.3|        0.2|          0.0|          0.1|        0.0|       0.0|       0.8|        0.3|         0.1|          0.2|          0.0|        0.1|            0.0|             0.1|         0.0|          0.0|           0.0|        0.0|               0.0|       0.4|          0.9|        0.3|         0.2|        0.1|         0.0|\n",
      "|26159|2017|    95.4|      86.4|       3.3|        0.9|          0.0|          0.1|        0.0|       0.0|       0.6|        0.2|         0.1|          0.1|          0.1|        0.1|            0.1|             0.0|         0.1|          0.1|           0.0|        0.0|               0.0|       4.1|          4.6|        1.6|         1.2|        0.2|         0.1|\n",
      "|27123|2013|    96.4|      70.8|      11.0|        0.7|          0.0|          0.3|        0.0|       0.1|      12.3|        0.8|         1.0|          0.3|          0.1|        0.5|            0.7|             8.8|         0.0|          0.0|           0.0|        0.0|               0.0|       1.6|          3.6|        1.3|         0.7|        0.7|         0.2|\n",
      "|04023|2013|    98.1|      74.6|       0.5|        0.2|          0.0|          0.0|        0.0|       0.0|       0.7|        0.0|         0.1|          0.1|          0.0|        0.2|            0.0|             0.2|         0.1|          0.1|           0.0|        0.0|               0.0|      22.0|          1.9|        0.5|         0.3|        0.0|         0.0|\n",
      "|23013|2014|    98.6|      96.9|       0.6|        0.3|          0.0|          0.0|        0.0|       0.0|       0.7|        0.0|         0.1|          0.0|          0.1|        0.1|            0.2|             0.1|         0.0|          0.0|           0.0|        0.0|               0.0|       0.1|          1.4|        0.3|         0.9|        0.0|         0.0|\n",
      "|29187|2012|    99.0|      93.6|       4.7|        0.3|          0.1|          0.0|        0.0|       0.1|       0.2|        0.0|         0.0|          0.1|          0.0|        0.0|            0.0|             0.0|         0.0|          0.0|           0.0|        0.0|               0.0|       0.2|          1.0|        0.1|         0.5|        0.1|         0.0|\n",
      "|54053|2014|    98.3|      97.5|       0.7|        0.0|          0.0|          0.0|        0.0|       0.0|       0.1|        0.0|         0.0|          0.0|          0.0|        0.1|            0.0|             0.0|         0.0|          0.0|           0.0|        0.0|               0.0|       0.0|          1.7|        0.4|         0.7|        0.0|         0.0|\n",
      "|16055|2015|    97.5|      94.4|       0.4|        1.5|          0.1|          0.1|        0.0|       0.0|       0.9|        0.1|         0.2|          0.3|          0.1|        0.0|            0.0|             0.1|         0.1|          0.0|           0.0|        0.0|               0.0|       0.4|          2.5|        0.3|         1.0|        0.7|         0.0|\n",
      "|12115|2017|    98.4|      91.3|       4.5|        0.2|          0.1|          0.0|        0.0|       0.0|       1.7|        0.3|         0.3|          0.2|          0.1|        0.1|            0.4|             0.4|         0.0|          0.0|           0.0|        0.0|               0.0|       0.8|          1.6|        0.6|         0.3|        0.3|         0.0|\n",
      "|47089|2015|    98.3|      94.8|       2.6|        0.2|          0.0|          0.0|        0.0|       0.1|       0.2|        0.0|         0.0|          0.0|          0.1|        0.1|            0.0|             0.0|         0.0|          0.0|           0.0|        0.0|               0.0|       0.5|          1.7|        0.5|         0.6|        0.0|         0.0|\n",
      "+-----+----+--------+----------+----------+-----------+-------------+-------------+-----------+----------+----------+-----------+------------+-------------+-------------+-----------+---------------+----------------+------------+-------------+--------------+-----------+------------------+----------+-------------+-----------+------------+-----------+------------+\n",
      "only showing top 20 rows\n",
      "\n",
      "root\n",
      " |-- FIPS: string (nullable = true)\n",
      " |-- Year: integer (nullable = true)\n",
      " |-- White: double (nullable = true)\n",
      " |-- Black: double (nullable = true)\n",
      " |-- Native: double (nullable = true)\n",
      " |-- Asian: double (nullable = true)\n",
      " |-- Pacific: double (nullable = true)\n",
      " |-- Other: double (nullable = true)\n",
      "\n",
      "+-----+----+-----+-----+------+-----+-------+-----+\n",
      "| FIPS|Year|White|Black|Native|Asian|Pacific|Other|\n",
      "+-----+----+-----+-----+------+-----+-------+-----+\n",
      "|47141|2016| 95.9|  2.7|   0.8|  1.6|    0.2|  0.5|\n",
      "|13249|2013| 70.8| 27.5|   0.0|  0.5|    0.0|  4.5|\n",
      "|55009|2017| 88.1|  3.7|   3.6|  3.6|    0.0|  4.4|\n",
      "|02185|2017| 36.4|  2.1|  57.6|  6.5|    3.1|  1.6|\n",
      "|48225|2014| 69.0| 26.7|   1.0|  0.3|    0.0|  4.7|\n",
      "|18025|2012| 98.3|  0.5|   1.3|  0.0|    0.0|  0.4|\n",
      "|13209|2016| 69.9| 26.9|   0.5|  0.4|    0.0|  3.1|\n",
      "|18153|2014| 94.1|  5.6|   0.3|  0.1|    0.0|  0.3|\n",
      "|12095|2012| 67.3| 22.0|   0.8|  5.7|    0.3|  6.9|\n",
      "|24043|2017| 86.0| 13.0|   1.2|  2.3|    0.3|  1.2|\n",
      "|13019|2017| 85.6| 12.2|   0.9|  1.1|    0.0|  1.1|\n",
      "|29023|2014| 93.2|  6.3|   1.6|  1.0|    0.2|  0.4|\n",
      "|47177|2015| 95.3|  1.7|   3.2|  0.7|    0.2|  2.6|\n",
      "|27037|2014| 87.1|  6.4|   1.1|  5.4|    0.2|  2.9|\n",
      "|54007|2012| 98.9|  0.7|   0.8|  0.1|    0.0|  0.1|\n",
      "|31119|2015| 94.1|  2.0|   1.9|  1.2|    0.0|  2.9|\n",
      "|35013|2013| 90.9|  2.0|   1.7|  1.5|    0.1|  5.7|\n",
      "|27077|2012| 97.0|  1.5|   1.6|  1.4|    0.0|  0.0|\n",
      "|72053|2014| 61.4| 11.3|   0.3|  0.6|    0.1| 29.3|\n",
      "|40025|2013| 84.0|  0.7|   1.9|  0.2|    0.0| 14.6|\n",
      "+-----+----+-----+-----+------+-----+-------+-----+\n",
      "only showing top 20 rows\n",
      "\n",
      "root\n",
      " |-- FIPS: string (nullable = true)\n",
      " |-- Year: integer (nullable = true)\n",
      " |-- Hispanic: double (nullable = true)\n",
      " |-- Mexican: double (nullable = true)\n",
      " |-- Puerto_Rican: double (nullable = true)\n",
      " |-- Cuban: double (nullable = true)\n",
      " |-- Hispanic_Other: double (nullable = true)\n",
      " |-- Not_Hispanic: double (nullable = true)\n",
      "\n",
      "+-----+----+--------+-------+------------+-----+--------------+------------+\n",
      "| FIPS|Year|Hispanic|Mexican|Puerto_Rican|Cuban|Hispanic_Other|Not_Hispanic|\n",
      "+-----+----+--------+-------+------------+-----+--------------+------------+\n",
      "|54041|2016|     0.8|    0.4|         0.1|  0.0|           0.3|        99.2|\n",
      "|48163|2014|    78.0|   68.5|         0.2|  0.2|           9.2|        22.0|\n",
      "|40107|2012|     3.0|    2.0|         0.1|  0.2|           0.7|        97.0|\n",
      "|54013|2014|     0.3|    0.3|         0.0|  0.0|           0.0|        99.7|\n",
      "|46011|2017|     2.6|    1.4|         0.3|  0.0|           1.0|        97.4|\n",
      "|51171|2014|     6.5|    2.7|         0.8|  0.2|           2.8|        93.5|\n",
      "|06033|2012|    17.2|   14.8|         0.5|  0.0|           2.0|        82.8|\n",
      "|23027|2012|     0.9|    0.3|         0.3|  0.1|           0.2|        99.1|\n",
      "|47057|2015|     2.6|    1.9|         0.1|  0.2|           0.5|        97.4|\n",
      "|02290|2012|     1.2|    0.9|         0.0|  0.0|           0.3|        98.8|\n",
      "|02230|2013|     1.1|    1.0|         0.0|  0.0|           0.1|        98.9|\n",
      "|40035|2017|     3.4|    2.9|         0.1|  0.0|           0.4|        96.6|\n",
      "|49019|2015|    10.1|    8.0|         0.0|  0.0|           2.1|        89.9|\n",
      "|31097|2017|     9.9|    8.3|         0.6|  0.0|           1.1|        90.1|\n",
      "|48303|2013|    32.5|   28.6|         0.3|  0.0|           3.6|        67.5|\n",
      "|18113|2015|    10.0|    9.9|         0.0|  0.0|           0.0|        90.0|\n",
      "|51155|2014|     1.4|    0.7|         0.2|  0.0|           0.4|        98.6|\n",
      "|54063|2015|     1.0|    0.9|         0.1|  0.0|           0.1|        99.0|\n",
      "|31011|2015|     1.7|    1.5|         0.0|  0.0|           0.1|        98.3|\n",
      "|22001|2016|     2.2|    1.1|         0.0|  0.0|           1.1|        97.8|\n",
      "+-----+----+--------+-------+------------+-----+--------------+------------+\n",
      "only showing top 20 rows\n",
      "\n"
     ]
    }
   ],
   "source": [
    "for (table <- tables) {\n",
    "    table.count\n",
    "    table.printSchema\n",
    "    table.orderBy(rand).show\n",
    "}"
   ]
  },
  {
   "cell_type": "code",
   "execution_count": 7,
   "metadata": {},
   "outputs": [
    {
     "data": {
      "application/vnd.jupyter.widget-view+json": {
       "model_id": "a6170de448374264beac37aeeba5b808",
       "version_major": 2,
       "version_minor": 0
      },
      "text/plain": [
       "VBox()"
      ]
     },
     "metadata": {},
     "output_type": "display_data"
    },
    {
     "data": {
      "application/vnd.jupyter.widget-view+json": {
       "model_id": "",
       "version_major": 2,
       "version_minor": 0
      },
      "text/plain": [
       "FloatProgress(value=0.0, bar_style='info', description='Progress:', layout=Layout(height='25px', width='50%'),…"
      ]
     },
     "metadata": {},
     "output_type": "display_data"
    }
   ],
   "source": [
    "genAge.write.parquet(\"s3://agimodeltrainer/Clean_Data/Age_and_Gender.parquet\")\n",
    "complexRace.write.parquet(\"s3://agimodeltrainer/Clean_Data/Complex_Race.parquet\")\n",
    "simpleRace.write.parquet(\"s3://agimodeltrainer/Clean_Data/Simple_Race.parquet\")\n",
    "hispanic.write.parquet(\"s3://agimodeltrainer/Clean_Data/Hispanic.parquet\")"
   ]
  },
  {
   "cell_type": "code",
   "execution_count": 8,
   "metadata": {},
   "outputs": [
    {
     "data": {
      "application/vnd.jupyter.widget-view+json": {
       "model_id": "997a304eecda4e94aeb7a0f41f4f163d",
       "version_major": 2,
       "version_minor": 0
      },
      "text/plain": [
       "VBox()"
      ]
     },
     "metadata": {},
     "output_type": "display_data"
    },
    {
     "data": {
      "application/vnd.jupyter.widget-view+json": {
       "model_id": "",
       "version_major": 2,
       "version_minor": 0
      },
      "text/plain": [
       "FloatProgress(value=0.0, bar_style='info', description='Progress:', layout=Layout(height='25px', width='50%'),…"
      ]
     },
     "metadata": {},
     "output_type": "display_data"
    },
    {
     "name": "stdout",
     "output_type": "stream",
     "text": [
      "tables: List[String] = List(Age_and_Gender, Complex_Race, Simple_Race, Hispanic)\n",
      "Age_and_Gender\n",
      "Count: 22543\n",
      "Count after drop: 22543\n",
      "root\n",
      " |-- FIPS: string (nullable = true)\n",
      " |-- Year: integer (nullable = true)\n",
      " |-- Population: integer (nullable = true)\n",
      " |-- Male: double (nullable = true)\n",
      " |-- Female: double (nullable = true)\n",
      " |-- Under_5: double (nullable = true)\n",
      " |-- 5_9: double (nullable = true)\n",
      " |-- 10_14: double (nullable = true)\n",
      " |-- 15_19: double (nullable = true)\n",
      " |-- 20_24: double (nullable = true)\n",
      " |-- 25_34: double (nullable = true)\n",
      " |-- 35_44: double (nullable = true)\n",
      " |-- 45_54: double (nullable = true)\n",
      " |-- 55_59: double (nullable = true)\n",
      " |-- 60_64: double (nullable = true)\n",
      " |-- 65_74: double (nullable = true)\n",
      " |-- 75_84: double (nullable = true)\n",
      " |-- 85plus: double (nullable = true)\n",
      "\n",
      "+-----+----+----------+----+------+-------+---+-----+-----+-----+-----+-----+-----+-----+-----+-----+-----+------+\n",
      "| FIPS|Year|Population|Male|Female|Under_5|5_9|10_14|15_19|20_24|25_34|35_44|45_54|55_59|60_64|65_74|75_84|85plus|\n",
      "+-----+----+----------+----+------+-------+---+-----+-----+-----+-----+-----+-----+-----+-----+-----+-----+------+\n",
      "|48313|2015|     13838|62.5|  37.5|    4.8|4.0|  4.8|  3.6| 13.8| 19.0| 14.3| 10.7|  5.6|  5.0|  8.0|  5.0|   1.6|\n",
      "|51121|2016|     97227|51.8|  48.2|    4.6|4.4|  4.3| 12.2| 19.1| 14.0| 10.5| 10.3|  4.5|  5.0|  6.4|  3.2|   1.4|\n",
      "|12015|2012|    160380|48.6|  51.4|    3.4|3.8|  4.2|  4.5|  3.9|  6.9|  8.9| 13.0|  7.5|  9.4| 18.2| 11.3|   4.9|\n",
      "|13057|2016|    230629|49.2|  50.8|    6.4|7.6|  7.6|  6.8|  5.7| 11.8| 15.1| 15.3|  6.4|  5.4|  7.9|  3.0|   1.0|\n",
      "|24033|2011|    858539|48.0|  52.0|    6.9|6.2|  6.7|  7.9|  7.9| 14.6| 14.7| 14.8|  6.2|  4.8|  5.7|  2.7|   0.8|\n",
      "|27155|2013|      3507|50.5|  49.5|    4.8|5.2|  7.0|  6.3|  3.6|  9.5|  9.6| 14.7|  7.9|  5.2| 10.4| 10.5|   5.2|\n",
      "|40023|2016|     15051|48.3|  51.7|    6.6|6.7|  7.4|  5.3|  5.8| 10.7| 10.9| 13.1|  6.9|  7.1| 11.2|  6.3|   1.9|\n",
      "|48327|2013|      2213|51.6|  48.4|    5.4|5.2| 13.4|  8.2|  3.1|  8.9|  8.1| 13.1|  5.2|  6.6| 11.7|  5.7|   5.4|\n",
      "|01033|2017|     54435|48.0|  52.0|    5.7|6.0|  6.0|  5.9|  5.9| 12.0| 11.9| 13.7|  7.2|  6.9| 10.8|  6.0|   2.1|\n",
      "|26149|2014|     60998|49.6|  50.4|    6.7|7.1|  7.2|  6.9|  5.6| 11.8| 11.6| 14.1|  6.9|  6.4|  8.6|  5.0|   2.1|\n",
      "|39063|2014|     75290|48.6|  51.4|    6.1|6.3|  6.7|  7.0|  7.0| 12.6| 12.1| 14.1|  7.1|  5.9|  8.1|  4.3|   2.8|\n",
      "|39159|2015|     53470|47.7|  52.3|    6.1|7.3|  8.0|  6.7|  5.6| 12.2| 15.9| 15.6|  6.8|  4.8|  6.5|  2.9|   1.4|\n",
      "|20065|2016|      2577|49.6|  50.4|    5.2|4.9|  5.9|  4.8|  3.8| 10.4|  8.6| 13.7|  9.0|  7.9| 12.5|  9.7|   3.6|\n",
      "|42131|2011|     28333|50.0|  50.0|    5.4|6.1|  6.2|  7.1|  6.0| 10.5| 13.0| 15.6|  7.3|  7.1|  8.9|  5.0|   1.9|\n",
      "|28077|2013|     12734|48.7|  51.3|    7.1|6.1|  7.3|  7.1|  5.7| 11.3| 12.3| 14.7|  5.8|  7.5|  8.6|  5.2|   1.4|\n",
      "|19125|2011|     33372|49.7|  50.3|    6.5|6.7|  7.2|  9.2|  5.6| 10.8| 12.1| 14.4|  5.7|  6.0|  7.7|  5.4|   2.4|\n",
      "|21051|2011|     22001|53.4|  46.6|    6.2|6.0|  5.6|  7.3|  6.3| 14.5| 15.7| 14.4|  6.0|  6.1|  7.1|  3.5|   1.3|\n",
      "|02068|2017|      2303|50.7|  49.3|    3.5|2.9|  4.9|  5.8| 13.8| 13.8| 12.2| 14.9|  7.3| 13.3|  5.0|  2.5|   0.0|\n",
      "|31119|2017|     35062|49.7|  50.3|    7.3|6.3|  7.3|  6.8|  6.9| 12.9| 11.3| 12.4|  8.2|  5.3|  7.8|  4.5|   2.9|\n",
      "|41031|2017|     22707|51.1|  48.9|    6.4|7.1|  6.4|  7.2|  4.8| 11.8| 11.7| 12.4|  6.4|  7.4| 11.4|  4.9|   2.0|\n",
      "+-----+----+----------+----+------+-------+---+-----+-----+-----+-----+-----+-----+-----+-----+-----+-----+------+\n",
      "only showing top 20 rows\n",
      "\n",
      "Complex_Race\n",
      "Count: 22543\n",
      "Count after drop: 22543\n",
      "root\n",
      " |-- FIPS: string (nullable = true)\n",
      " |-- Year: integer (nullable = true)\n",
      " |-- One_Race: double (nullable = true)\n",
      " |-- Only_White: double (nullable = true)\n",
      " |-- Only_Black: double (nullable = true)\n",
      " |-- Only_Native: double (nullable = true)\n",
      " |-- Only_Cherokee: double (nullable = true)\n",
      " |-- Only_Chippewa: double (nullable = true)\n",
      " |-- Only_Navajo: double (nullable = true)\n",
      " |-- Only_Sioux: double (nullable = true)\n",
      " |-- Only_Asian: double (nullable = true)\n",
      " |-- Only_Indian: double (nullable = true)\n",
      " |-- Only_Chinese: double (nullable = true)\n",
      " |-- Only_Filipino: double (nullable = true)\n",
      " |-- Only_Japanese: double (nullable = true)\n",
      " |-- Only_Korean: double (nullable = true)\n",
      " |-- Only_Vietnamese: double (nullable = true)\n",
      " |-- Only_Asian_Other: double (nullable = true)\n",
      " |-- Only_Pacific: double (nullable = true)\n",
      " |-- Only_Hawaiian: double (nullable = true)\n",
      " |-- Only_Guamanian: double (nullable = true)\n",
      " |-- Only_Samoan: double (nullable = true)\n",
      " |-- Only_Pacific_Other: double (nullable = true)\n",
      " |-- Only_Other: double (nullable = true)\n",
      " |-- Twoplus_Races: double (nullable = true)\n",
      " |-- White_Black: double (nullable = true)\n",
      " |-- White_Native: double (nullable = true)\n",
      " |-- White_Asian: double (nullable = true)\n",
      " |-- Black_Native: double (nullable = true)\n",
      "\n",
      "+-----+----+--------+----------+----------+-----------+-------------+-------------+-----------+----------+----------+-----------+------------+-------------+-------------+-----------+---------------+----------------+------------+-------------+--------------+-----------+------------------+----------+-------------+-----------+------------+-----------+------------+\n",
      "| FIPS|Year|One_Race|Only_White|Only_Black|Only_Native|Only_Cherokee|Only_Chippewa|Only_Navajo|Only_Sioux|Only_Asian|Only_Indian|Only_Chinese|Only_Filipino|Only_Japanese|Only_Korean|Only_Vietnamese|Only_Asian_Other|Only_Pacific|Only_Hawaiian|Only_Guamanian|Only_Samoan|Only_Pacific_Other|Only_Other|Twoplus_Races|White_Black|White_Native|White_Asian|Black_Native|\n",
      "+-----+----+--------+----------+----------+-----------+-------------+-------------+-----------+----------+----------+-----------+------------+-------------+-------------+-----------+---------------+----------------+------------+-------------+--------------+-----------+------------------+----------+-------------+-----------+------------+-----------+------------+\n",
      "|28143|2015|    99.0|      21.1|      75.5|        0.0|          0.0|          0.0|        0.0|       0.0|       0.7|        0.0|         0.0|          0.0|          0.1|        0.0|            0.7|             0.0|         0.0|          0.0|           0.0|        0.0|               0.0|       1.6|          1.0|        0.5|         0.0|        0.1|         0.0|\n",
      "|21149|2013|    98.8|      98.0|       0.4|        0.1|          0.1|          0.0|        0.0|       0.0|       0.2|        0.0|         0.0|          0.0|          0.0|        0.0|            0.2|             0.0|         0.0|          0.0|           0.0|        0.0|               0.0|       0.1|          1.2|        0.8|         0.0|        0.0|         0.0|\n",
      "|12133|2013|    96.2|      79.7|      14.6|        1.0|          0.0|          0.0|        0.0|       0.2|       0.2|        0.1|         0.0|          0.0|          0.0|        0.0|            0.0|             0.1|         0.0|          0.0|           0.0|        0.0|               0.0|       0.7|          3.8|        0.8|         1.3|        0.4|         0.3|\n",
      "|35015|2016|    98.6|      90.8|       1.4|        1.2|          0.1|          0.0|        0.2|       0.0|       0.5|        0.1|         0.0|          0.1|          0.0|        0.0|            0.3|             0.0|         0.1|          0.0|           0.1|        0.0|               0.0|       4.6|          1.4|        0.1|         0.4|        0.4|         0.0|\n",
      "|16019|2016|    97.5|      89.7|       0.4|        0.4|          0.0|          0.0|        0.0|       0.1|       0.9|        0.0|         0.2|          0.1|          0.3|        0.1|            0.1|             0.0|         0.1|          0.0|           0.0|        0.0|               0.1|       6.0|          2.5|        0.5|         0.8|        0.6|         0.0|\n",
      "|13319|2013|    97.8|      59.9|      37.6|        0.1|          0.0|          0.0|        0.0|       0.0|       0.0|        0.0|         0.0|          0.0|          0.0|        0.0|            0.0|             0.0|         0.0|          0.0|           0.0|        0.0|               0.0|       0.2|          2.2|        2.0|         0.0|        0.0|         0.1|\n",
      "|01053|2012|    99.4|      63.0|      32.2|        3.7|          0.3|          0.0|        0.0|       0.0|       0.4|        0.0|         0.0|          0.0|          0.0|        0.0|            0.2|             0.2|         0.0|          0.0|           0.0|        0.0|               0.0|       0.0|          0.6|        0.2|         0.3|        0.1|         0.0|\n",
      "|38091|2017|   100.0|      99.4|       0.0|        0.0|          0.0|          0.0|        0.0|       0.0|       0.0|        0.0|         0.0|          0.0|          0.0|        0.0|            0.0|             0.0|         0.0|          0.0|           0.0|        0.0|               0.0|       0.6|          0.0|        0.0|         0.0|        0.0|         0.0|\n",
      "|05119|2012|    98.2|      59.4|      35.0|        0.3|          0.1|          0.0|        0.0|       0.0|       2.1|        0.8|         0.2|          0.2|          0.0|        0.2|            0.3|             0.3|         0.0|          0.0|           0.0|        0.0|               0.0|       1.5|          1.8|        0.6|         0.5|        0.2|         0.1|\n",
      "|47017|2015|    98.3|      86.7|      10.4|        0.4|          0.2|          0.0|        0.0|       0.0|       0.2|        0.1|         0.0|          0.0|          0.0|        0.0|            0.0|             0.0|         0.0|          0.0|           0.0|        0.0|               0.0|       0.6|          1.7|        0.9|         0.4|        0.1|         0.0|\n",
      "|55057|2016|    99.0|      94.4|       2.4|        1.5|          0.0|          0.1|        0.0|       0.0|       0.5|        0.1|         0.2|          0.1|          0.0|        0.1|            0.0|             0.1|         0.0|          0.0|           0.0|        0.0|               0.0|       0.3|          1.0|        0.2|         0.4|        0.2|         0.0|\n",
      "|20023|2015|    99.1|      94.7|       0.0|        0.0|          0.0|          0.0|        0.0|       0.0|       1.2|        0.0|         0.0|          0.9|          0.1|        0.0|            0.1|             0.0|         0.0|          0.0|           0.0|        0.0|               0.0|       3.2|          0.9|        0.1|         0.6|        0.1|         0.0|\n",
      "|48241|2014|    98.7|      79.5|      16.6|        0.4|          0.1|          0.0|        0.0|       0.0|       0.5|        0.0|         0.2|          0.0|          0.1|        0.1|            0.1|             0.1|         0.0|          0.0|           0.0|        0.0|               0.0|       1.7|          1.3|        0.5|         0.3|        0.1|         0.0|\n",
      "|17173|2013|    99.7|      98.7|       0.4|        0.2|          0.1|          0.0|        0.0|       0.0|       0.3|        0.0|         0.1|          0.0|          0.0|        0.0|            0.0|             0.2|         0.0|          0.0|           0.0|        0.0|               0.0|       0.0|          0.3|        0.0|         0.2|        0.0|         0.0|\n",
      "|28137|2011|    98.8|      67.1|      30.0|        0.0|          0.0|          0.0|        0.0|       0.0|       0.6|        0.0|         0.3|          0.1|          0.0|        0.1|            0.1|             0.1|         0.0|          0.0|           0.0|        0.0|               0.0|       1.1|          1.2|        0.5|         0.3|        0.1|         0.1|\n",
      "|13143|2013|    98.3|      92.1|       4.6|        0.1|          0.0|          0.0|        0.0|       0.0|       0.7|        0.3|         0.2|          0.0|          0.1|        0.0|            0.0|             0.2|         0.0|          0.0|           0.0|        0.0|               0.0|       0.8|          1.7|        0.6|         0.6|        0.2|         0.1|\n",
      "|49021|2016|    97.9|      91.4|       0.7|        2.6|          0.0|          0.0|        0.7|       0.0|       0.7|        0.0|         0.2|          0.1|          0.3|        0.0|            0.0|             0.1|         0.3|          0.2|           0.0|        0.0|               0.0|       2.2|          2.1|        0.6|         0.4|        0.5|         0.0|\n",
      "|53045|2012|    95.2|      86.3|       1.3|        3.3|          0.2|          0.1|        0.0|       0.0|       1.5|        0.0|         0.4|          0.3|          0.0|        0.7|            0.1|             0.0|         0.1|          0.0|           0.1|        0.0|               0.0|       2.8|          4.8|        0.7|         2.7|        0.4|         0.0|\n",
      "|39129|2016|    97.7|      93.7|       3.2|        0.2|          0.0|          0.0|        0.0|       0.0|       0.3|        0.0|         0.0|          0.0|          0.0|        0.0|            0.0|             0.3|         0.0|          0.0|           0.0|        0.0|               0.0|       0.2|          2.3|        0.9|         0.4|        0.3|         0.1|\n",
      "|21019|2012|    98.7|      94.9|       2.8|        0.2|          0.1|          0.0|        0.0|       0.0|       0.5|        0.2|         0.1|          0.1|          0.0|        0.0|            0.0|             0.1|         0.0|          0.0|           0.0|        0.0|               0.0|       0.3|          1.3|        0.7|         0.4|        0.1|         0.0|\n",
      "+-----+----+--------+----------+----------+-----------+-------------+-------------+-----------+----------+----------+-----------+------------+-------------+-------------+-----------+---------------+----------------+------------+-------------+--------------+-----------+------------------+----------+-------------+-----------+------------+-----------+------------+\n",
      "only showing top 20 rows\n",
      "\n",
      "Simple_Race\n",
      "Count: 22543\n",
      "Count after drop: 22543\n",
      "root\n",
      " |-- FIPS: string (nullable = true)\n",
      " |-- Year: integer (nullable = true)\n",
      " |-- White: double (nullable = true)\n",
      " |-- Black: double (nullable = true)\n",
      " |-- Native: double (nullable = true)\n",
      " |-- Asian: double (nullable = true)\n",
      " |-- Pacific: double (nullable = true)\n",
      " |-- Other: double (nullable = true)\n",
      "\n",
      "+-----+----+-----+-----+------+-----+-------+-----+\n",
      "| FIPS|Year|White|Black|Native|Asian|Pacific|Other|\n",
      "+-----+----+-----+-----+------+-----+-------+-----+\n",
      "|40013|2016| 79.2|  2.3|  19.9|  0.8|    0.1|  2.6|\n",
      "|19033|2016| 96.4|  2.3|   0.8|  1.4|    0.1|  0.8|\n",
      "|48387|2012| 79.6| 17.9|   1.8|  0.2|    0.1|  1.9|\n",
      "|28107|2013| 49.0| 50.9|   0.1|  0.1|    0.0|  0.4|\n",
      "|30095|2011| 97.8|  0.4|   1.8|  0.2|    0.2|  0.9|\n",
      "|72109|2016| 51.2| 41.2|   0.8|  0.0|    0.1|  7.0|\n",
      "|26025|2014| 85.4| 12.9|   1.7|  2.2|    0.1|  0.8|\n",
      "|54061|2012| 92.8|  4.6|   0.6|  3.6|    0.1|  0.4|\n",
      "|38029|2016| 98.6|  0.0|   1.7|  1.7|    0.0|  0.0|\n",
      "|08021|2014| 94.1|  1.2|   5.2|  0.3|    0.0|  4.7|\n",
      "|04025|2014| 93.8|  1.0|   3.0|  1.4|    0.1|  3.0|\n",
      "|28017|2015| 55.6| 43.8|   0.5|  0.5|    0.2|  0.8|\n",
      "|31107|2013| 90.2|  0.8|   9.9|  0.5|    0.0|  0.6|\n",
      "|41037|2012| 93.7|  0.5|   4.7|  1.0|    0.2|  3.5|\n",
      "|48443|2016| 69.8|  1.3|   0.4|  0.0|    0.0| 28.5|\n",
      "|55115|2012| 90.9|  0.8|   8.8|  0.6|    0.1|  0.7|\n",
      "|05117|2015| 86.8| 12.8|   0.5|  0.1|    0.0|  0.4|\n",
      "|22037|2013| 54.6| 45.4|   0.6|  0.4|    0.0|  0.0|\n",
      "|39009|2015| 93.4|  3.6|   1.6|  3.8|    0.1|  0.5|\n",
      "|25015|2017| 90.5|  3.8|   0.8|  6.4|    0.1|  1.3|\n",
      "+-----+----+-----+-----+------+-----+-------+-----+\n",
      "only showing top 20 rows\n",
      "\n",
      "Hispanic\n",
      "Count: 22543\n",
      "Count after drop: 22543\n",
      "root\n",
      " |-- FIPS: string (nullable = true)\n",
      " |-- Year: integer (nullable = true)\n",
      " |-- Hispanic: double (nullable = true)\n",
      " |-- Mexican: double (nullable = true)\n",
      " |-- Puerto_Rican: double (nullable = true)\n",
      " |-- Cuban: double (nullable = true)\n",
      " |-- Hispanic_Other: double (nullable = true)\n",
      " |-- Not_Hispanic: double (nullable = true)\n",
      "\n",
      "+-----+----+--------+-------+------------+-----+--------------+------------+\n",
      "| FIPS|Year|Hispanic|Mexican|Puerto_Rican|Cuban|Hispanic_Other|Not_Hispanic|\n",
      "+-----+----+--------+-------+------------+-----+--------------+------------+\n",
      "|12093|2014|    24.6|   20.2|         1.4|  1.3|           1.7|        75.4|\n",
      "|46015|2015|     0.4|    0.2|         0.0|  0.0|           0.2|        99.6|\n",
      "|29009|2016|     8.6|    7.2|         0.0|  0.0|           1.4|        91.4|\n",
      "|51009|2016|     2.2|    1.0|         0.1|  0.0|           1.1|        97.8|\n",
      "|35033|2015|    82.4|    5.7|         0.0|  0.0|          76.7|        17.6|\n",
      "|19121|2014|     1.4|    1.2|         0.1|  0.1|           0.0|        98.6|\n",
      "|37077|2017|     7.6|    5.7|         0.9|  0.1|           0.9|        92.4|\n",
      "|37175|2013|     2.9|    1.4|         0.4|  0.5|           0.7|        97.1|\n",
      "|46035|2013|     1.8|    1.2|         0.0|  0.1|           0.5|        98.2|\n",
      "|27033|2015|     7.0|    6.5|         0.1|  0.0|           0.5|        93.0|\n",
      "|45081|2015|    14.8|   10.9|         0.9|  0.0|           3.1|        85.2|\n",
      "|38025|2013|     2.7|    1.6|         0.4|  0.0|           0.7|        97.3|\n",
      "|31089|2014|     3.5|    2.2|         0.0|  1.3|           0.1|        96.5|\n",
      "|46045|2017|     1.7|    1.4|         0.0|  0.0|           0.3|        98.3|\n",
      "|05141|2014|     2.8|    2.7|         0.0|  0.1|           0.0|        97.2|\n",
      "|16043|2013|    12.6|   12.1|         0.0|  0.0|           0.5|        87.4|\n",
      "|13139|2016|    27.4|   20.6|         0.8|  0.2|           5.7|        72.6|\n",
      "|27037|2017|     6.8|    4.7|         0.5|  0.1|           1.5|        93.2|\n",
      "|05045|2016|     3.9|    2.9|         0.2|  0.0|           0.8|        96.1|\n",
      "|48323|2016|    95.4|   93.8|         0.4|  0.0|           1.2|         4.6|\n",
      "+-----+----+--------+-------+------------+-----+--------------+------------+\n",
      "only showing top 20 rows\n",
      "\n"
     ]
    }
   ],
   "source": [
    "val tables = List(\"Age_and_Gender\", \"Complex_Race\", \"Simple_Race\", \"Hispanic\")\n",
    "\n",
    "for (t <- tables) {\n",
    "    println(t)\n",
    "    val test = spark.read.parquet(s\"s3://agimodeltrainer/Clean_Data/${t}.parquet\")\n",
    "    println(\"Count: \" + test.count)\n",
    "    println(\"Count after drop: \" + test.na.drop.count)\n",
    "    test.printSchema\n",
    "    test.orderBy(rand).show\n",
    "}\n"
   ]
  },
  {
   "cell_type": "code",
   "execution_count": null,
   "metadata": {},
   "outputs": [],
   "source": []
  }
 ],
 "metadata": {
  "kernelspec": {
   "display_name": "Spark",
   "language": "",
   "name": "sparkkernel"
  },
  "language_info": {
   "codemirror_mode": "text/x-scala",
   "mimetype": "text/x-scala",
   "name": "scala",
   "pygments_lexer": "scala"
  }
 },
 "nbformat": 4,
 "nbformat_minor": 4
}
