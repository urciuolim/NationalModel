{
 "cells": [
  {
   "cell_type": "code",
   "execution_count": 1,
   "metadata": {},
   "outputs": [
    {
     "data": {
      "application/vnd.jupyter.widget-view+json": {
       "model_id": "094ba18521fe408794b2ac7cb2a840bb",
       "version_major": 2,
       "version_minor": 0
      },
      "text/plain": [
       "VBox()"
      ]
     },
     "metadata": {},
     "output_type": "display_data"
    },
    {
     "name": "stdout",
     "output_type": "stream",
     "text": [
      "Starting Spark application\n"
     ]
    },
    {
     "data": {
      "text/html": [
       "<table>\n",
       "<tr><th>ID</th><th>YARN Application ID</th><th>Kind</th><th>State</th><th>Spark UI</th><th>Driver log</th><th>Current session?</th></tr><tr><td>15</td><td>application_1598467819421_0016</td><td>spark</td><td>idle</td><td><a target=\"_blank\" href=\"http://ip-172-31-46-94.us-east-2.compute.internal:20888/proxy/application_1598467819421_0016/\">Link</a></td><td><a target=\"_blank\" href=\"http://ip-172-31-33-64.us-east-2.compute.internal:8042/node/containerlogs/container_1598467819421_0016_01_000001/livy\">Link</a></td><td>✔</td></tr></table>"
      ],
      "text/plain": [
       "<IPython.core.display.HTML object>"
      ]
     },
     "metadata": {},
     "output_type": "display_data"
    },
    {
     "data": {
      "application/vnd.jupyter.widget-view+json": {
       "model_id": "",
       "version_major": 2,
       "version_minor": 0
      },
      "text/plain": [
       "FloatProgress(value=0.0, bar_style='info', description='Progress:', layout=Layout(height='25px', width='50%'),…"
      ]
     },
     "metadata": {},
     "output_type": "display_data"
    },
    {
     "name": "stdout",
     "output_type": "stream",
     "text": [
      "SparkSession available as 'spark'.\n"
     ]
    },
    {
     "data": {
      "application/vnd.jupyter.widget-view+json": {
       "model_id": "",
       "version_major": 2,
       "version_minor": 0
      },
      "text/plain": [
       "FloatProgress(value=0.0, bar_style='info', description='Progress:', layout=Layout(height='25px', width='50%'),…"
      ]
     },
     "metadata": {},
     "output_type": "display_data"
    },
    {
     "name": "stdout",
     "output_type": "stream",
     "text": [
      "import org.apache.spark.sql.Row\n",
      "import org.apache.spark.sql.functions.round\n",
      "pop_18_24: String = Pop_18_24\n",
      "per_less_hs_grad_18_24: String = Less_HS_Grad_18_24\n",
      "per_hs_grad_18_24: String = HS_Grad_18_24\n",
      "per_some_college_18_24: String = Some_College_18_24\n",
      "per_bachelor_18_24: String = Bachelor_18_24\n",
      "pop_25: String = Pop_25plus\n",
      "per_less_9th_25: String = Less_9th_25plus\n",
      "per_9th_12th_25: String = 9_12th_25plus\n",
      "per_hs_25: String = HS_Grad_25plus\n",
      "per_some_college_25: String = Some_College_25plus\n",
      "per_assoc_25: String = Associate_25plus\n",
      "per_bach_25: String = Bachelor_25plus\n",
      "per_grad_25: String = Gradplus_25plus\n",
      "eduParsed11: org.apache.spark.sql.DataFrame = [FIPS: string, Year: int ... 13 more fields]\n",
      "+-----+----+---------+------------------+-------------+------------------+--------------+----------+---------------+-------------+--------------+-------------------+----------------+---------------+---------------+\n",
      "| FIPS|Year|Pop_18_24|Less_HS_Grad_18_24|HS_Grad_18_24|Some_College_18_24|Bachelor_18_24|Pop_25plus|Less_9th_25plus|9_12th_25plus|HS_Grad_25plus|Some_College_25plus|Associate_25plus|Bachelor_25plus|Gradplus_25plus|\n",
      "+-----+----+---------+------------------+-------------+------------------+--------------+----------+---------------+-------------+--------------+-------------------+----------------+---------------+---------------+\n",
      "|13213|2011|     3463|              33.5|         42.0|              22.2|           2.2|     25564|           12.8|         18.8|          40.3|               16.7|             4.0|            4.1|            3.4|\n",
      "|13215|2011|    23279|              15.1|         36.3|              42.5|           6.1|    116945|            4.9|         10.8|          29.0|               26.2|             7.4|           13.5|            8.2|\n",
      "|13217|2011|     8817|              21.8|         37.5|              38.2|           2.6|     61587|            4.8|         11.6|          33.4|               23.9|             6.9|           12.7|            6.7|\n",
      "|13219|2011|     2470|              17.1|         29.8|              41.5|          11.6|     20615|            2.3|          7.7|          18.1|               21.1|             5.6|           23.8|           21.4|\n",
      "|13221|2011|     1126|              30.4|         35.1|              33.8|           0.7|      9953|            5.8|         18.1|          32.6|               22.0|             6.7|            7.0|            7.8|\n",
      "|13223|2011|    11112|              18.1|         41.2|              37.1|           3.6|     85904|            3.6|          8.5|          36.9|               22.1|             6.5|           15.5|            6.8|\n",
      "|13225|2011|     4614|              11.0|         35.7|              51.0|           2.3|     16380|            8.0|         11.8|          34.3|               21.6|             6.4|           11.4|            6.4|\n",
      "|13227|2011|     2119|              22.1|         44.7|              29.6|           3.5|     20698|            7.1|         12.5|          34.2|               18.7|             5.7|           14.5|            7.4|\n",
      "|13229|2011|     1493|              31.3|         45.7|              22.6|           0.3|     12129|            9.3|         13.1|          40.8|               20.5|             4.8|            5.8|            5.6|\n",
      "|13231|2011|     1350|              11.7|         42.4|              43.7|           2.2|     11508|            4.3|         12.3|          37.9|               23.7|             6.0|            9.2|            6.4|\n",
      "|13233|2011|     3923|              31.4|         34.7|              30.3|           3.6|     26405|           10.8|         16.5|          38.3|               19.2|             4.1|            6.1|            5.1|\n",
      "|13235|2011|      841|              26.0|         40.5|              20.0|          13.4|      8637|            4.6|         19.2|          45.3|               15.0|             8.6|            5.2|            2.1|\n",
      "|13237|2011|     1755|              34.5|         34.3|              27.6|           3.5|     15040|            6.6|         11.8|          38.1|               18.0|             6.7|           12.6|            6.2|\n",
      "|13239|2011|      297|              21.9|         29.0|              49.2|           0.0|      1570|           12.3|         19.9|          36.4|               17.8|             5.9|            6.8|            0.8|\n",
      "|13241|2011|     1045|              18.6|         42.1|              33.4|           5.9|     11895|            5.0|         11.7|          33.8|               20.3|             5.1|           14.4|            9.8|\n",
      "|13243|2011|      755|              24.5|         24.9|              46.8|           3.8|      5195|            7.9|         20.0|          33.8|               15.4|             8.1|            7.2|            7.6|\n",
      "|13245|2011|    24918|              22.0|         35.4|              35.3|           7.2|    124671|            5.3|         12.4|          32.2|               22.8|             7.6|           12.6|            7.1|\n",
      "|13247|2011|     7630|              21.7|         31.4|              38.6|           8.3|     53969|            5.6|          9.3|          29.7|               23.2|             8.5|           15.1|            8.6|\n",
      "|13249|2011|      532|              53.4|         29.1|              11.5|           6.0|      3109|            8.8|         23.7|          33.0|               17.0|             6.2|            7.6|            3.7|\n",
      "|13251|2011|     1462|              25.1|         49.1|              25.3|           0.5|      9491|           10.0|         15.0|          42.3|               16.8|             4.0|            7.6|            4.2|\n",
      "+-----+----+---------+------------------+-------------+------------------+--------------+----------+---------------+-------------+--------------+-------------------+----------------+---------------+---------------+\n",
      "only showing top 20 rows\n",
      "\n"
     ]
    }
   ],
   "source": [
    "/*\n",
    "* Author: Mike Urciuoli\n",
    "* email: urciuolim@gmail.com\n",
    "* description: The purpose of this notebook is to show how to clean the Census educational attainment dataset for\n",
    "*              usage in a county prediction model. The overall goal of the project is to predict some feature\n",
    "*              of a county based on other input features. The dataset is split into files by year, and each year the\n",
    "*              overall schema may change, so cleaning each individual year seems to be best. Ultimately we want educational\n",
    "*              attainment for two age groups, where each attainment level is represented by a percentage.\n",
    "*/\n",
    "\n",
    "import org.apache.spark.sql.Row\n",
    "import org.apache.spark.sql.functions.round\n",
    "val pop_18_24 = \"Pop_18_24\"\n",
    "val per_less_hs_grad_18_24 = \"Less_HS_Grad_18_24\"\n",
    "val per_hs_grad_18_24 = \"HS_Grad_18_24\"\n",
    "val per_some_college_18_24 = \"Some_College_18_24\"\n",
    "val per_bachelor_18_24 = \"Bachelor_18_24\"\n",
    "val pop_25 = \"Pop_25plus\"\n",
    "val per_less_9th_25 = \"Less_9th_25plus\"\n",
    "val per_9th_12th_25 = \"9_12th_25plus\"\n",
    "val per_hs_25 = \"HS_Grad_25plus\"\n",
    "val per_some_college_25 = \"Some_College_25plus\"\n",
    "val per_assoc_25 = \"Associate_25plus\"\n",
    "val per_bach_25 = \"Bachelor_25plus\"\n",
    "val per_grad_25 = \"Gradplus_25plus\"\n",
    "\n",
    "val eduParsed11 = spark.read.option(\"header\", \"true\").\n",
    "    csv(\"s3://agimodeltrainer/DATA/EDU/ACSST5Y2011.csv\").\n",
    "    filter($\"GEO_ID\" =!= \"id\"). // Removes 2nd header line\n",
    "    withColumn(\"FIPS\", substring($\"GEO_ID\", 10, 5)).\n",
    "    withColumn(\"Year\", lit(2011)).\n",
    "    select(\n",
    "        $\"FIPS\",\n",
    "        $\"Year\".cast(\"Int\"),\n",
    "        $\"S1501_C01_001E\".as(pop_18_24).cast(\"Int\"),\n",
    "        $\"S1501_C01_002E\".as(per_less_hs_grad_18_24).cast(\"Double\"),\n",
    "        $\"S1501_C01_003E\".as(per_hs_grad_18_24).cast(\"Double\"),\n",
    "        $\"S1501_C01_004E\".as(per_some_college_18_24).cast(\"Double\"),\n",
    "        $\"S1501_C01_005E\".as(per_bachelor_18_24).cast(\"Double\"),\n",
    "        $\"S1501_C01_006E\".as(pop_25).cast(\"Int\"),\n",
    "        $\"S1501_C01_007E\".as(per_less_9th_25).cast(\"Double\"),\n",
    "        $\"S1501_C01_008E\".as(per_9th_12th_25).cast(\"Double\"),\n",
    "        $\"S1501_C01_009E\".as(per_hs_25).cast(\"Double\"),\n",
    "        $\"S1501_C01_010E\".as(per_some_college_25).cast(\"Double\"),\n",
    "        $\"S1501_C01_011E\".as(per_assoc_25).cast(\"Double\"),\n",
    "        $\"S1501_C01_012E\".as(per_bach_25).cast(\"Double\"),\n",
    "        $\"S1501_C01_013E\".as(per_grad_25).cast(\"Double\")\n",
    "    ).na.fill(0) // Rows with null values seem to be where population = 0 (and percentages are NaN)\n",
    "eduParsed11.show\n",
    "// Use these lines to search for null values in rows\n",
    "// eduRaw11.count\n",
    "// val noNA = eduRaw11.na.drop\n",
    "// eduRaw11.unionAll(noNA).except(eduRaw11.intersect(noNA)).show"
   ]
  },
  {
   "cell_type": "code",
   "execution_count": 2,
   "metadata": {},
   "outputs": [
    {
     "data": {
      "application/vnd.jupyter.widget-view+json": {
       "model_id": "bd313f2044cd4ceea800261d4001b3e5",
       "version_major": 2,
       "version_minor": 0
      },
      "text/plain": [
       "VBox()"
      ]
     },
     "metadata": {},
     "output_type": "display_data"
    },
    {
     "data": {
      "application/vnd.jupyter.widget-view+json": {
       "model_id": "",
       "version_major": 2,
       "version_minor": 0
      },
      "text/plain": [
       "FloatProgress(value=0.0, bar_style='info', description='Progress:', layout=Layout(height='25px', width='50%'),…"
      ]
     },
     "metadata": {},
     "output_type": "display_data"
    },
    {
     "name": "stdout",
     "output_type": "stream",
     "text": [
      "eduParsed12: org.apache.spark.sql.DataFrame = [FIPS: string, Year: int ... 13 more fields]\n",
      "+-----+----+---------+------------------+-------------+------------------+--------------+----------+---------------+-------------+--------------+-------------------+----------------+---------------+---------------+\n",
      "| FIPS|Year|Pop_18_24|Less_HS_Grad_18_24|HS_Grad_18_24|Some_College_18_24|Bachelor_18_24|Pop_25plus|Less_9th_25plus|9_12th_25plus|HS_Grad_25plus|Some_College_25plus|Associate_25plus|Bachelor_25plus|Gradplus_25plus|\n",
      "+-----+----+---------+------------------+-------------+------------------+--------------+----------+---------------+-------------+--------------+-------------------+----------------+---------------+---------------+\n",
      "|05105|2012|      817|              20.9|         38.3|              36.5|           4.3|      7253|            6.7|         11.3|          44.3|               23.1|             4.8|            6.5|            3.2|\n",
      "|05107|2012|     1953|              37.4|         24.2|              35.8|           2.6|     13616|            9.9|         17.1|          30.3|               20.1|             9.4|            8.8|            4.4|\n",
      "|05109|2012|      942|              29.0|         29.8|              38.5|           2.7|      7551|            6.5|         15.1|          37.0|               23.6|             5.2|            7.9|            4.5|\n",
      "|05111|2012|     2012|              23.7|         44.8|              28.6|           2.9|     16548|           11.4|         15.7|          42.0|               17.8|             4.1|            6.0|            2.9|\n",
      "|05113|2012|     1384|              14.4|         41.8|              43.9|           0.0|     14288|            5.8|         11.5|          38.0|               26.1|             6.9|            7.9|            3.8|\n",
      "|05115|2012|     8897|              15.1|         31.9|              48.7|           4.2|     38585|            7.2|         10.7|          34.8|               22.2|             5.0|           13.2|            6.8|\n",
      "|05117|2012|      583|              23.0|         40.5|              35.2|           1.4|      6198|            7.7|         15.7|          44.5|               18.7|             3.3|            7.3|            2.9|\n",
      "|05119|2012|    35839|              16.3|         30.9|              42.2|          10.5|    255353|            3.5|          7.4|          27.4|               23.7|             6.4|           19.9|           11.7|\n",
      "|05121|2012|     1467|              15.0|         38.0|              44.6|           2.3|     12327|            9.0|         10.9|          40.2|               21.7|             7.3|            7.3|            3.7|\n",
      "|05123|2012|     2429|              29.1|         33.3|              36.7|           0.9|     18977|            8.3|         15.3|          37.4|               21.6|             6.2|            7.5|            3.7|\n",
      "|05125|2012|     8037|              22.6|         35.8|              35.1|           6.6|     73424|            3.2|          7.9|          35.8|               23.2|             6.8|           16.3|            6.9|\n",
      "|05127|2012|      962|              20.1|         41.1|              38.9|           0.0|      7383|           10.8|         14.3|          38.2|               20.5|             6.0|            6.8|            3.5|\n",
      "|05129|2012|      543|              20.1|         37.9|              42.0|           0.0|      5920|            7.9|         17.8|          38.6|               19.2|             5.5|            7.2|            3.8|\n",
      "|05131|2012|    12143|              20.4|         33.9|              41.6|           4.0|     81884|            7.1|         10.5|          31.6|               24.6|             7.5|           12.6|            6.1|\n",
      "|05133|2012|     1571|              34.4|         34.1|              28.0|           3.5|     10436|           16.5|         17.2|          32.1|               19.9|             5.7|            5.9|            2.7|\n",
      "|05135|2012|     1122|              27.5|         34.6|              34.1|           3.7|     12449|            4.7|         10.9|          46.0|               21.4|             5.8|            7.0|            4.2|\n",
      "|05137|2012|      982|              13.8|         45.5|              39.6|           1.0|      8946|            7.9|         11.6|          39.0|               22.0|             6.5|            8.5|            4.5|\n",
      "|05139|2012|     3392|              22.0|         35.9|              39.2|           2.9|     28190|            5.4|         12.6|          35.8|               22.3|             7.9|           11.1|            5.0|\n",
      "|05141|2012|     1263|              34.0|         32.6|              30.6|           2.9|     12408|            8.3|          9.7|          38.8|               22.5|             7.1|            9.3|            4.3|\n",
      "|05143|2012|    29823|              12.1|         28.0|              50.5|           9.4|    122596|            8.4|          9.3|          28.9|               20.8|             4.6|           17.5|           10.5|\n",
      "+-----+----+---------+------------------+-------------+------------------+--------------+----------+---------------+-------------+--------------+-------------------+----------------+---------------+---------------+\n",
      "only showing top 20 rows\n",
      "\n"
     ]
    }
   ],
   "source": [
    "val eduParsed12 = spark.read.option(\"header\", \"true\").\n",
    "    csv(\"s3://agimodeltrainer/DATA/EDU/ACSST5Y2012.csv\").\n",
    "    filter($\"GEO_ID\" =!= \"id\"). // Removes 2nd header line\n",
    "    withColumn(\"FIPS\", substring($\"GEO_ID\", 10, 5)).\n",
    "    withColumn(\"Year\", lit(2012)).\n",
    "    select(\n",
    "        $\"FIPS\",\n",
    "        $\"Year\".cast(\"Int\"),\n",
    "        $\"S1501_C01_001E\".as(pop_18_24).cast(\"Int\"),\n",
    "        $\"S1501_C01_002E\".as(per_less_hs_grad_18_24).cast(\"Double\"),\n",
    "        $\"S1501_C01_003E\".as(per_hs_grad_18_24).cast(\"Double\"),\n",
    "        $\"S1501_C01_004E\".as(per_some_college_18_24).cast(\"Double\"),\n",
    "        $\"S1501_C01_005E\".as(per_bachelor_18_24).cast(\"Double\"),\n",
    "        $\"S1501_C01_006E\".as(pop_25).cast(\"Int\"),\n",
    "        $\"S1501_C01_007E\".as(per_less_9th_25).cast(\"Double\"),\n",
    "        $\"S1501_C01_008E\".as(per_9th_12th_25).cast(\"Double\"),\n",
    "        $\"S1501_C01_009E\".as(per_hs_25).cast(\"Double\"),\n",
    "        $\"S1501_C01_010E\".as(per_some_college_25).cast(\"Double\"),\n",
    "        $\"S1501_C01_011E\".as(per_assoc_25).cast(\"Double\"),\n",
    "        $\"S1501_C01_012E\".as(per_bach_25).cast(\"Double\"),\n",
    "        $\"S1501_C01_013E\".as(per_grad_25).cast(\"Double\")\n",
    "    ).na.fill(0)\n",
    "eduParsed12.show"
   ]
  },
  {
   "cell_type": "code",
   "execution_count": 3,
   "metadata": {},
   "outputs": [
    {
     "data": {
      "application/vnd.jupyter.widget-view+json": {
       "model_id": "aff51107397b49e086b3d64489264efe",
       "version_major": 2,
       "version_minor": 0
      },
      "text/plain": [
       "VBox()"
      ]
     },
     "metadata": {},
     "output_type": "display_data"
    },
    {
     "data": {
      "application/vnd.jupyter.widget-view+json": {
       "model_id": "",
       "version_major": 2,
       "version_minor": 0
      },
      "text/plain": [
       "FloatProgress(value=0.0, bar_style='info', description='Progress:', layout=Layout(height='25px', width='50%'),…"
      ]
     },
     "metadata": {},
     "output_type": "display_data"
    },
    {
     "name": "stdout",
     "output_type": "stream",
     "text": [
      "eduParsed13: org.apache.spark.sql.DataFrame = [FIPS: string, Year: int ... 13 more fields]\n",
      "+-----+----+---------+------------------+-------------+------------------+--------------+----------+---------------+-------------+--------------+-------------------+----------------+---------------+---------------+\n",
      "| FIPS|Year|Pop_18_24|Less_HS_Grad_18_24|HS_Grad_18_24|Some_College_18_24|Bachelor_18_24|Pop_25plus|Less_9th_25plus|9_12th_25plus|HS_Grad_25plus|Some_College_25plus|Associate_25plus|Bachelor_25plus|Gradplus_25plus|\n",
      "+-----+----+---------+------------------+-------------+------------------+--------------+----------+---------------+-------------+--------------+-------------------+----------------+---------------+---------------+\n",
      "|13121|2013|   101833|              15.1|         22.7|              48.0|          14.2|    622408|            3.6|          6.1|          18.3|               18.3|             5.5|           29.7|           18.5|\n",
      "|13123|2013|     2056|              26.6|         40.3|              30.3|           2.8|     20182|           10.4|         13.1|          32.4|               20.9|             6.8|           10.4|            5.9|\n",
      "|13125|2013|      208|              13.5|         36.1|              45.2|           5.3|      2088|            8.5|         13.3|          43.3|               19.3|             6.0|            5.3|            4.3|\n",
      "|13127|2013|     6836|              19.9|         45.4|              30.3|           4.4|     54359|            4.1|          9.4|          28.9|               23.5|             8.1|           15.7|           10.3|\n",
      "|13129|2013|     5025|              34.5|         33.7|              27.3|           4.4|     35715|           11.7|         15.0|          34.7|               18.7|             5.8|            8.4|            5.8|\n",
      "|13131|2013|     2160|              37.6|         30.8|              29.8|           1.8|     16545|            9.9|         17.5|          39.2|               14.8|             7.3|            6.8|            4.5|\n",
      "|13133|2013|     1115|              20.0|         46.0|              26.2|           7.8|     11774|            8.4|         12.9|          37.0|               14.7|             5.5|           12.1|            9.4|\n",
      "|13135|2013|    72158|              20.8|         31.0|              39.5|           8.7|    516632|            6.7|          6.3|          23.5|               20.5|             9.0|           23.1|           10.9|\n",
      "|13137|2013|     3950|              21.2|         37.0|              39.7|           2.0|     29055|           10.4|         11.7|          34.1|               20.1|             6.6|           10.2|            7.0|\n",
      "|13139|2013|    17013|              24.3|         35.9|              35.5|           4.3|    115478|           11.1|         10.1|          30.2|               19.7|             6.0|           14.1|            8.7|\n",
      "|13141|2013|     1048|              38.8|         34.2|              23.8|           3.2|      6557|            7.3|         17.0|          43.6|               17.0|             5.3|            7.1|            2.7|\n",
      "|13143|2013|     2479|              22.1|         41.8|              30.5|           5.6|     18988|            9.3|         16.6|          37.2|               18.3|             4.6|            8.9|            5.2|\n",
      "|13145|2013|     2467|              23.4|         25.5|              43.3|           7.7|     22311|            3.8|          7.1|          28.7|               24.6|             8.5|           15.4|           11.9|\n",
      "|13147|2013|     2174|              31.1|         34.5|              27.7|           6.7|     17577|            5.2|         14.4|          38.3|               19.4|             7.1|           10.2|            5.3|\n",
      "|13149|2013|     1046|              26.3|         29.5|              41.8|           2.4|      7791|            7.0|         20.3|          38.9|               18.0|             7.5|            5.6|            2.6|\n",
      "|13151|2013|    18112|              21.5|         32.1|              40.5|           5.9|    129349|            2.7|          7.7|          30.9|               24.0|             8.6|           17.8|            8.2|\n",
      "|13153|2013|    14081|              15.9|         36.0|              41.2|           6.9|     91340|            3.5|          7.7|          29.0|               26.6|             9.2|           14.5|            9.5|\n",
      "|13155|2013|      758|              40.6|         28.0|              21.9|           9.5|      6572|            5.3|         13.6|          40.1|               23.4|             7.2|            4.8|            5.5|\n",
      "|13157|2013|     4817|              20.4|         35.7|              39.0|           4.9|     39851|            8.0|         10.9|          35.4|               19.6|             6.6|           12.8|            6.7|\n",
      "|13159|2013|     1070|              23.4|         43.2|              31.4|           2.1|      9284|            5.8|         10.6|          41.5|               20.5|             8.2|            8.0|            5.3|\n",
      "+-----+----+---------+------------------+-------------+------------------+--------------+----------+---------------+-------------+--------------+-------------------+----------------+---------------+---------------+\n",
      "only showing top 20 rows\n",
      "\n"
     ]
    }
   ],
   "source": [
    "val eduParsed13 = spark.read.option(\"header\", \"true\").\n",
    "    csv(\"s3://agimodeltrainer/DATA/EDU/ACSST5Y2013.csv\").\n",
    "    filter($\"GEO_ID\" =!= \"id\"). // Removes 2nd header line\n",
    "    withColumn(\"FIPS\", substring($\"GEO_ID\", 10, 5)).\n",
    "    withColumn(\"Year\", lit(2013)).\n",
    "    select(\n",
    "        $\"FIPS\",\n",
    "        $\"Year\".cast(\"Int\"),\n",
    "        $\"S1501_C01_001E\".as(pop_18_24).cast(\"Int\"),\n",
    "        $\"S1501_C01_002E\".as(per_less_hs_grad_18_24).cast(\"Double\"),\n",
    "        $\"S1501_C01_003E\".as(per_hs_grad_18_24).cast(\"Double\"),\n",
    "        $\"S1501_C01_004E\".as(per_some_college_18_24).cast(\"Double\"),\n",
    "        $\"S1501_C01_005E\".as(per_bachelor_18_24).cast(\"Double\"),\n",
    "        $\"S1501_C01_006E\".as(pop_25).cast(\"Int\"),\n",
    "        $\"S1501_C01_007E\".as(per_less_9th_25).cast(\"Double\"),\n",
    "        $\"S1501_C01_008E\".as(per_9th_12th_25).cast(\"Double\"),\n",
    "        $\"S1501_C01_009E\".as(per_hs_25).cast(\"Double\"),\n",
    "        $\"S1501_C01_010E\".as(per_some_college_25).cast(\"Double\"),\n",
    "        $\"S1501_C01_011E\".as(per_assoc_25).cast(\"Double\"),\n",
    "        $\"S1501_C01_012E\".as(per_bach_25).cast(\"Double\"),\n",
    "        $\"S1501_C01_013E\".as(per_grad_25).cast(\"Double\")\n",
    "    ).na.fill(0)\n",
    "eduParsed13.show"
   ]
  },
  {
   "cell_type": "code",
   "execution_count": 4,
   "metadata": {},
   "outputs": [
    {
     "data": {
      "application/vnd.jupyter.widget-view+json": {
       "model_id": "fdd7805246644701832e995fcb50f729",
       "version_major": 2,
       "version_minor": 0
      },
      "text/plain": [
       "VBox()"
      ]
     },
     "metadata": {},
     "output_type": "display_data"
    },
    {
     "data": {
      "application/vnd.jupyter.widget-view+json": {
       "model_id": "",
       "version_major": 2,
       "version_minor": 0
      },
      "text/plain": [
       "FloatProgress(value=0.0, bar_style='info', description='Progress:', layout=Layout(height='25px', width='50%'),…"
      ]
     },
     "metadata": {},
     "output_type": "display_data"
    },
    {
     "name": "stdout",
     "output_type": "stream",
     "text": [
      "eduParsed14: org.apache.spark.sql.DataFrame = [FIPS: string, Year: int ... 13 more fields]\n",
      "+-----+----+---------+------------------+-------------+------------------+--------------+----------+---------------+-------------+--------------+-------------------+----------------+---------------+---------------+\n",
      "| FIPS|Year|Pop_18_24|Less_HS_Grad_18_24|HS_Grad_18_24|Some_College_18_24|Bachelor_18_24|Pop_25plus|Less_9th_25plus|9_12th_25plus|HS_Grad_25plus|Some_College_25plus|Associate_25plus|Bachelor_25plus|Gradplus_25plus|\n",
      "+-----+----+---------+------------------+-------------+------------------+--------------+----------+---------------+-------------+--------------+-------------------+----------------+---------------+---------------+\n",
      "|13161|2014|     1290|              41.4|         26.4|              24.3|           7.8|      9602|            8.3|         12.8|          42.8|               18.5|             8.7|            4.9|            4.1|\n",
      "|13163|2014|     1618|              29.7|         36.1|              33.1|           1.2|     10847|           10.1|         18.1|          42.2|               16.0|             4.4|            6.4|            2.8|\n",
      "|13165|2014|      673|              32.4|         18.9|              44.0|           4.8|      5935|            9.9|         17.1|          35.3|               16.2|             9.2|            8.5|            3.9|\n",
      "|13167|2014|      924|              23.6|         41.8|              34.6|           0.0|      6926|            6.6|         17.4|          40.0|               20.2|             6.2|            5.7|            3.9|\n",
      "|13169|2014|     2314|              18.5|         43.3|              36.6|           1.6|     19297|            3.0|          9.4|          39.0|               22.5|             7.7|           11.9|            6.6|\n",
      "|13171|2014|     2809|              18.6|         27.7|              52.7|           1.1|     11601|            5.3|         11.1|          37.6|               23.8|             5.6|           10.9|            5.8|\n",
      "|13173|2014|      869|              28.0|         28.4|              34.8|           8.9|      6716|            9.5|         12.6|          29.7|               25.1|            10.9|            7.0|            5.3|\n",
      "|13175|2014|     4117|              26.9|         37.4|              30.3|           5.4|     31835|            6.8|         12.3|          43.9|               15.9|             6.5|            8.2|            6.3|\n",
      "|13177|2014|     2349|              29.4|         21.9|              38.7|          10.0|     18626|            3.7|         10.8|          29.2|               25.1|             8.9|           13.1|            9.2|\n",
      "|13179|2014|     9522|              11.1|         45.1|              40.8|           3.0|     36049|            2.9|          6.9|          31.1|               30.6|             9.0|           13.3|            6.2|\n",
      "|13181|2014|      650|              19.1|         33.1|              40.9|           6.9|      5614|            4.8|         12.9|          43.1|               20.7|             7.6|            5.9|            5.0|\n",
      "|13183|2014|     1869|              22.7|         44.5|              31.3|           1.5|      9377|            2.9|         12.8|          38.4|               21.7|            10.3|           10.3|            3.6|\n",
      "|13185|2014|    20789|              14.4|         25.9|              54.6|           5.0|     64014|            4.7|         11.5|          29.4|               23.5|             7.9|           14.4|            8.6|\n",
      "|13187|2014|     5561|               8.3|         21.5|              61.5|           8.7|     19024|            5.4|          8.6|          30.1|               22.2|             6.2|           17.4|           10.1|\n",
      "|13189|2014|     1758|              42.0|         16.6|              39.2|           2.3|     14294|            8.5|         17.5|          35.2|               17.4|             6.0|            9.7|            5.6|\n",
      "|13191|2014|     1070|               2.0|         51.3|              43.6|           3.1|     10256|           10.4|         10.9|          37.3|               19.8|             7.4|            8.8|            5.3|\n",
      "|13193|2014|     1431|              43.2|         18.8|              35.9|           2.1|      9833|           11.0|         18.8|          38.6|               18.3|             4.6|            5.4|            3.3|\n",
      "|13195|2014|     2287|              22.3|         35.6|              34.6|           7.4|     19246|            6.4|         13.2|          39.5|               19.6|             6.5|            8.6|            6.2|\n",
      "|13197|2014|      755|              29.0|         46.1|              19.2|           5.7|      6011|            6.5|         17.5|          36.9|               23.4|             2.2|            7.5|            5.9|\n",
      "|13199|2014|     1837|              34.5|         28.5|              31.6|           5.4|     14724|            9.7|         18.3|          38.2|               19.9|             4.6|            6.0|            3.3|\n",
      "+-----+----+---------+------------------+-------------+------------------+--------------+----------+---------------+-------------+--------------+-------------------+----------------+---------------+---------------+\n",
      "only showing top 20 rows\n",
      "\n"
     ]
    }
   ],
   "source": [
    "val eduParsed14 = spark.read.option(\"header\", \"true\").\n",
    "    csv(\"s3://agimodeltrainer/DATA/EDU/ACSST5Y2014.csv\").\n",
    "    filter($\"GEO_ID\" =!= \"id\"). // Removes 2nd header line\n",
    "    withColumn(\"FIPS\", substring($\"GEO_ID\", 10, 5)).\n",
    "    withColumn(\"Year\", lit(2014)).\n",
    "    select(\n",
    "        $\"FIPS\",\n",
    "        $\"Year\".cast(\"Int\"),\n",
    "        $\"S1501_C01_001E\".as(pop_18_24).cast(\"Int\"),\n",
    "        $\"S1501_C01_002E\".as(per_less_hs_grad_18_24).cast(\"Double\"),\n",
    "        $\"S1501_C01_003E\".as(per_hs_grad_18_24).cast(\"Double\"),\n",
    "        $\"S1501_C01_004E\".as(per_some_college_18_24).cast(\"Double\"),\n",
    "        $\"S1501_C01_005E\".as(per_bachelor_18_24).cast(\"Double\"),\n",
    "        $\"S1501_C01_006E\".as(pop_25).cast(\"Int\"),\n",
    "        $\"S1501_C01_007E\".as(per_less_9th_25).cast(\"Double\"),\n",
    "        $\"S1501_C01_008E\".as(per_9th_12th_25).cast(\"Double\"),\n",
    "        $\"S1501_C01_009E\".as(per_hs_25).cast(\"Double\"),\n",
    "        $\"S1501_C01_010E\".as(per_some_college_25).cast(\"Double\"),\n",
    "        $\"S1501_C01_011E\".as(per_assoc_25).cast(\"Double\"),\n",
    "        $\"S1501_C01_012E\".as(per_bach_25).cast(\"Double\"),\n",
    "        $\"S1501_C01_013E\".as(per_grad_25).cast(\"Double\")\n",
    "    ).na.fill(0)\n",
    "eduParsed14.show"
   ]
  },
  {
   "cell_type": "code",
   "execution_count": 5,
   "metadata": {},
   "outputs": [
    {
     "data": {
      "application/vnd.jupyter.widget-view+json": {
       "model_id": "8bf245e62983410091e15a2c4246f41f",
       "version_major": 2,
       "version_minor": 0
      },
      "text/plain": [
       "VBox()"
      ]
     },
     "metadata": {},
     "output_type": "display_data"
    },
    {
     "data": {
      "application/vnd.jupyter.widget-view+json": {
       "model_id": "",
       "version_major": 2,
       "version_minor": 0
      },
      "text/plain": [
       "FloatProgress(value=0.0, bar_style='info', description='Progress:', layout=Layout(height='25px', width='50%'),…"
      ]
     },
     "metadata": {},
     "output_type": "display_data"
    },
    {
     "name": "stdout",
     "output_type": "stream",
     "text": [
      "eduParsed15: org.apache.spark.sql.DataFrame = [FIPS: string, Year: int ... 13 more fields]\n",
      "+-----+----+---------+------------------+-------------+------------------+--------------+----------+---------------+-------------+--------------+-------------------+----------------+---------------+---------------+\n",
      "| FIPS|Year|Pop_18_24|Less_HS_Grad_18_24|HS_Grad_18_24|Some_College_18_24|Bachelor_18_24|Pop_25plus|Less_9th_25plus|9_12th_25plus|HS_Grad_25plus|Some_College_25plus|Associate_25plus|Bachelor_25plus|Gradplus_25plus|\n",
      "+-----+----+---------+------------------+-------------+------------------+--------------+----------+---------------+-------------+--------------+-------------------+----------------+---------------+---------------+\n",
      "|01025|2015|     2188|              23.5|         55.9|              19.5|           1.1|     17128|            4.7|         14.7|          43.9|               16.7|             7.0|            8.4|            4.5|\n",
      "|01027|2015|     1027|              18.9|         40.0|              37.7|           3.4|      9535|           10.6|         14.3|          36.3|               21.0|             8.2|            5.8|            3.8|\n",
      "|01029|2015|     1101|              18.7|         42.1|              32.2|           6.9|     10420|            6.5|         18.3|          38.3|               20.2|             4.6|            6.9|            5.1|\n",
      "|01031|2015|     4296|              19.9|         29.3|              42.7|           8.2|     34464|            5.5|          9.8|          29.5|               21.9|             9.5|           15.2|            8.6|\n",
      "|01033|2015|     4584|              20.8|         31.3|              44.4|           3.5|     38008|            4.5|         11.6|          34.5|               23.3|             7.5|           11.3|            7.3|\n",
      "|01035|2015|     1114|              22.1|         52.2|              23.0|           2.7|      8905|            7.4|         14.5|          44.5|               18.3|             7.1|            4.5|            3.7|\n",
      "|01037|2015|      960|              19.6|         28.9|              51.6|           0.0|      8022|            9.0|         16.9|          37.6|               21.5|             6.5|            5.1|            3.4|\n",
      "|01039|2015|     3007|              21.5|         39.6|              36.7|           2.2|     26470|            7.5|         12.7|          33.6|               22.3|             9.6|            9.6|            4.7|\n",
      "|01041|2015|     1176|              23.0|         37.1|              32.2|           7.7|      9548|            9.3|         12.7|          38.0|               18.3|             7.4|           10.0|            4.3|\n",
      "|01043|2015|     6909|              20.6|         30.6|              44.7|           4.1|     55773|            6.4|         11.8|          34.7|               22.0|            10.7|            9.1|            5.4|\n",
      "|01045|2015|     4703|              15.8|         37.7|              38.4|           8.1|     33245|            4.9|          9.8|          32.2|               26.1|            10.7|           10.8|            5.5|\n",
      "|01047|2015|     3931|              17.7|         35.9|              43.3|           3.1|     27453|            6.2|         15.7|          34.6|               21.3|             8.1|            8.2|            5.9|\n",
      "|01049|2015|     5951|              24.1|         30.6|              42.5|           2.8|     47227|           12.1|         15.5|          35.2|               17.1|             8.9|            6.3|            4.9|\n",
      "|01051|2015|     7691|              20.7|         34.3|              37.0|           8.0|     54452|            3.8|          9.6|          35.4|               20.8|             9.0|           13.4|            8.0|\n",
      "|01053|2015|     3484|              30.9|         36.2|              29.5|           3.4|     26007|            6.7|         13.5|          42.1|               18.7|             6.6|            8.4|            4.2|\n",
      "|01055|2015|     9064|              19.8|         32.2|              43.2|           4.7|     71591|            6.3|         11.2|          31.9|               25.9|             8.5|           10.1|            6.0|\n",
      "|01057|2015|     1353|              16.6|         31.8|              49.6|           2.1|     11880|            8.3|         14.1|          38.8|               18.2|             6.4|            8.4|            5.7|\n",
      "|01059|2015|     2891|              23.3|         33.7|              39.3|           3.7|     21075|           11.1|         14.3|          37.5|               19.0|             6.7|            7.4|            4.0|\n",
      "|01061|2015|     2105|              24.7|         39.1|              32.6|           3.6|     18762|            8.4|         12.5|          37.1|               22.2|             7.4|            9.3|            3.0|\n",
      "|01063|2015|      746|              22.3|         29.9|              46.2|           1.6|      5923|            7.8|         16.3|          38.9|               20.0|             6.0|            7.8|            3.2|\n",
      "+-----+----+---------+------------------+-------------+------------------+--------------+----------+---------------+-------------+--------------+-------------------+----------------+---------------+---------------+\n",
      "only showing top 20 rows\n",
      "\n"
     ]
    }
   ],
   "source": [
    "// For some reason this year has totals listed for values that in the past have been percents\n",
    "// i.e. column S1501_C01_002E used to be a % of the 18-24 population, now it is a total #\n",
    "// minor change needed to select statement but more or less the same\n",
    "val eduParsed15 = spark.read.option(\"header\", \"true\").\n",
    "    csv(\"s3://agimodeltrainer/DATA/EDU/ACSST5Y2015.csv\").\n",
    "    filter($\"GEO_ID\" =!= \"id\"). // Removes 2nd header line\n",
    "    withColumn(\"FIPS\", substring($\"GEO_ID\", 10, 5)).\n",
    "    withColumn(\"Year\", lit(2015)).\n",
    "    select(\n",
    "        $\"FIPS\",\n",
    "        $\"Year\".cast(\"Int\"),\n",
    "        $\"S1501_C01_001E\".as(pop_18_24).cast(\"Int\"),\n",
    "        (round(($\"S1501_C01_002E\"/$\"S1501_C01_001E\")*lit(100), 1)).as(per_less_hs_grad_18_24).cast(\"Double\"),\n",
    "        (round(($\"S1501_C01_003E\"/$\"S1501_C01_001E\")*lit(100), 1)).as(per_hs_grad_18_24).cast(\"Double\"),\n",
    "        (round(($\"S1501_C01_004E\"/$\"S1501_C01_001E\")*lit(100), 1)).as(per_some_college_18_24).cast(\"Double\"),\n",
    "        (round(($\"S1501_C01_005E\"/$\"S1501_C01_001E\")*lit(100), 1)).as(per_bachelor_18_24).cast(\"Double\"),\n",
    "        $\"S1501_C01_006E\".as(pop_25).cast(\"Int\"),\n",
    "        (round(($\"S1501_C01_007E\"/$\"S1501_C01_006E\")*lit(100), 1)).as(per_less_9th_25).cast(\"Double\"),\n",
    "        (round(($\"S1501_C01_008E\"/$\"S1501_C01_006E\")*lit(100), 1)).as(per_9th_12th_25).cast(\"Double\"),\n",
    "        (round(($\"S1501_C01_009E\"/$\"S1501_C01_006E\")*lit(100), 1)).as(per_hs_25).cast(\"Double\"),\n",
    "        (round(($\"S1501_C01_010E\"/$\"S1501_C01_006E\")*lit(100), 1)).as(per_some_college_25).cast(\"Double\"),\n",
    "        (round(($\"S1501_C01_011E\"/$\"S1501_C01_006E\")*lit(100), 1)).as(per_assoc_25).cast(\"Double\"),\n",
    "        (round(($\"S1501_C01_012E\"/$\"S1501_C01_006E\")*lit(100), 1)).as(per_bach_25).cast(\"Double\"),\n",
    "        (round(($\"S1501_C01_013E\"/$\"S1501_C01_006E\")*lit(100), 1)).as(per_grad_25).cast(\"Double\")\n",
    "    ).na.fill(0)\n",
    "eduParsed15.show"
   ]
  },
  {
   "cell_type": "code",
   "execution_count": 6,
   "metadata": {},
   "outputs": [
    {
     "data": {
      "application/vnd.jupyter.widget-view+json": {
       "model_id": "1b109e4b0bfa49728faf59a1918cbc66",
       "version_major": 2,
       "version_minor": 0
      },
      "text/plain": [
       "VBox()"
      ]
     },
     "metadata": {},
     "output_type": "display_data"
    },
    {
     "data": {
      "application/vnd.jupyter.widget-view+json": {
       "model_id": "",
       "version_major": 2,
       "version_minor": 0
      },
      "text/plain": [
       "FloatProgress(value=0.0, bar_style='info', description='Progress:', layout=Layout(height='25px', width='50%'),…"
      ]
     },
     "metadata": {},
     "output_type": "display_data"
    },
    {
     "name": "stdout",
     "output_type": "stream",
     "text": [
      "eduParsed16: org.apache.spark.sql.DataFrame = [FIPS: string, Year: int ... 13 more fields]\n",
      "+-----+----+---------+------------------+-------------+------------------+--------------+----------+---------------+-------------+--------------+-------------------+----------------+---------------+---------------+\n",
      "| FIPS|Year|Pop_18_24|Less_HS_Grad_18_24|HS_Grad_18_24|Some_College_18_24|Bachelor_18_24|Pop_25plus|Less_9th_25plus|9_12th_25plus|HS_Grad_25plus|Some_College_25plus|Associate_25plus|Bachelor_25plus|Gradplus_25plus|\n",
      "+-----+----+---------+------------------+-------------+------------------+--------------+----------+---------------+-------------+--------------+-------------------+----------------+---------------+---------------+\n",
      "|01131|2016|     1080|              22.3|         44.8|              30.0|           2.9|      7441|            6.3|         13.8|          44.9|               17.4|             6.3|            7.3|            4.0|\n",
      "|01133|2016|     1699|              23.5|         32.9|              40.3|           3.3|     17274|            9.2|         14.8|          34.3|               20.3|             8.2|            8.0|            5.1|\n",
      "|02013|2016|      347|              16.7|         62.0|              17.0|           4.3|      2545|            8.3|          7.3|          42.0|               23.3|             7.0|            9.8|            2.1|\n",
      "|02016|2016|      663|               8.7|         50.5|              31.8|           8.9|      4153|            5.0|          7.5|          40.3|               25.1|             6.4|           11.5|            4.2|\n",
      "|02020|2016|    33049|              12.7|         35.3|              44.1|           7.9|    191431|            2.8|          3.9|          24.0|               26.5|             8.5|           21.7|           12.6|\n",
      "|02050|2016|     1962|              39.4|         42.8|              16.1|           1.7|      9503|            8.8|         10.2|          45.4|               20.1|             3.9|            7.1|            4.4|\n",
      "|02060|2016|       73|              17.8|         49.3|              30.1|           2.7|       649|            3.4|          4.0|          34.8|               31.4|             7.2|           13.4|            5.7|\n",
      "|02068|2016|      241|              14.1|         34.0|              24.5|          27.4|      1503|            0.8|          3.0|          23.4|               25.7|             8.6|           29.9|            8.6|\n",
      "|02070|2016|      574|              23.9|         47.9|              24.7|           3.5|      2824|            7.3|          5.9|          36.9|               26.7|             5.6|           10.9|            6.7|\n",
      "|02090|2016|    14401|               8.5|         32.4|              51.5|           7.6|     61221|            1.7|          3.9|          22.2|               29.7|             9.2|           20.7|           12.7|\n",
      "|02100|2016|      218|               0.9|         78.9|              18.8|           1.4|      1847|            1.2|          3.4|          25.7|               23.2|             6.2|           27.8|           12.7|\n",
      "|02105|2016|      136|              15.4|         60.3|              24.3|           0.0|      1579|            3.2|          6.3|          33.9|               25.9|             6.5|           16.5|            7.8|\n",
      "|02110|2016|     2990|              15.2|         43.1|              34.3|           7.4|     22288|            1.0|          3.3|          21.2|               27.6|             7.4|           25.3|           14.2|\n",
      "|02122|2016|     4815|              19.7|         39.0|              35.3|           6.1|     39538|            1.8|          5.4|          32.2|               28.5|             8.4|           14.7|            9.0|\n",
      "|02130|2016|     1186|              21.4|         41.1|              31.5|           6.1|      9428|            2.0|          5.9|          31.7|               29.4|             7.1|           15.6|            8.2|\n",
      "|02150|2016|     1181|              15.8|         42.8|              40.5|           0.9|      8998|            5.1|          4.3|          27.3|               30.3|             8.3|           17.4|            7.4|\n",
      "|02158|2016|     1004|              33.0|         55.7|              11.1|           0.3|      3773|            8.1|         13.5|          52.2|               19.3|             2.1|            2.9|            1.9|\n",
      "|02164|2016|      140|              26.4|         45.7|              22.1|           5.7|       835|            6.2|          7.4|          42.5|               27.5|             3.8|            7.5|            4.9|\n",
      "|02170|2016|     8854|              19.5|         45.0|              33.0|           2.4|     62756|            1.8|          5.8|          31.8|               30.0|             9.9|           13.7|            6.9|\n",
      "|02180|2016|     1063|              21.3|         54.8|              22.5|           1.4|      5406|            5.1|         10.0|          43.1|               23.9|             4.1|           10.3|            3.6|\n",
      "+-----+----+---------+------------------+-------------+------------------+--------------+----------+---------------+-------------+--------------+-------------------+----------------+---------------+---------------+\n",
      "only showing top 20 rows\n",
      "\n"
     ]
    }
   ],
   "source": [
    "val eduParsed16 = spark.read.option(\"header\", \"true\").\n",
    "    csv(\"s3://agimodeltrainer/DATA/EDU/ACSST5Y2016.csv\").\n",
    "    filter($\"GEO_ID\" =!= \"id\"). // Removes 2nd header line\n",
    "    withColumn(\"FIPS\", substring($\"GEO_ID\", 10, 5)).\n",
    "    withColumn(\"Year\", lit(2016)).\n",
    "    select(\n",
    "        $\"FIPS\",\n",
    "        $\"Year\".cast(\"Int\"),\n",
    "        $\"S1501_C01_001E\".as(pop_18_24).cast(\"Int\"),\n",
    "        (round(($\"S1501_C01_002E\"/$\"S1501_C01_001E\")*lit(100), 1)).as(per_less_hs_grad_18_24).cast(\"Double\"),\n",
    "        (round(($\"S1501_C01_003E\"/$\"S1501_C01_001E\")*lit(100), 1)).as(per_hs_grad_18_24).cast(\"Double\"),\n",
    "        (round(($\"S1501_C01_004E\"/$\"S1501_C01_001E\")*lit(100), 1)).as(per_some_college_18_24).cast(\"Double\"),\n",
    "        (round(($\"S1501_C01_005E\"/$\"S1501_C01_001E\")*lit(100), 1)).as(per_bachelor_18_24).cast(\"Double\"),\n",
    "        $\"S1501_C01_006E\".as(pop_25).cast(\"Int\"),\n",
    "        (round(($\"S1501_C01_007E\"/$\"S1501_C01_006E\")*lit(100), 1)).as(per_less_9th_25).cast(\"Double\"),\n",
    "        (round(($\"S1501_C01_008E\"/$\"S1501_C01_006E\")*lit(100), 1)).as(per_9th_12th_25).cast(\"Double\"),\n",
    "        (round(($\"S1501_C01_009E\"/$\"S1501_C01_006E\")*lit(100), 1)).as(per_hs_25).cast(\"Double\"),\n",
    "        (round(($\"S1501_C01_010E\"/$\"S1501_C01_006E\")*lit(100), 1)).as(per_some_college_25).cast(\"Double\"),\n",
    "        (round(($\"S1501_C01_011E\"/$\"S1501_C01_006E\")*lit(100), 1)).as(per_assoc_25).cast(\"Double\"),\n",
    "        (round(($\"S1501_C01_012E\"/$\"S1501_C01_006E\")*lit(100), 1)).as(per_bach_25).cast(\"Double\"),\n",
    "        (round(($\"S1501_C01_013E\"/$\"S1501_C01_006E\")*lit(100), 1)).as(per_grad_25).cast(\"Double\")\n",
    "    ).na.fill(0)\n",
    "eduParsed16.show"
   ]
  },
  {
   "cell_type": "code",
   "execution_count": 7,
   "metadata": {},
   "outputs": [
    {
     "data": {
      "application/vnd.jupyter.widget-view+json": {
       "model_id": "ed7a47fccdd64ce9add75789c7d07314",
       "version_major": 2,
       "version_minor": 0
      },
      "text/plain": [
       "VBox()"
      ]
     },
     "metadata": {},
     "output_type": "display_data"
    },
    {
     "data": {
      "application/vnd.jupyter.widget-view+json": {
       "model_id": "",
       "version_major": 2,
       "version_minor": 0
      },
      "text/plain": [
       "FloatProgress(value=0.0, bar_style='info', description='Progress:', layout=Layout(height='25px', width='50%'),…"
      ]
     },
     "metadata": {},
     "output_type": "display_data"
    },
    {
     "name": "stdout",
     "output_type": "stream",
     "text": [
      "eduParsed17: org.apache.spark.sql.DataFrame = [FIPS: string, Year: int ... 13 more fields]\n",
      "+-----+----+---------+------------------+-------------+------------------+--------------+----------+---------------+-------------+--------------+-------------------+----------------+---------------+---------------+\n",
      "| FIPS|Year|Pop_18_24|Less_HS_Grad_18_24|HS_Grad_18_24|Some_College_18_24|Bachelor_18_24|Pop_25plus|Less_9th_25plus|9_12th_25plus|HS_Grad_25plus|Some_College_25plus|Associate_25plus|Bachelor_25plus|Gradplus_25plus|\n",
      "+-----+----+---------+------------------+-------------+------------------+--------------+----------+---------------+-------------+--------------+-------------------+----------------+---------------+---------------+\n",
      "|01005|2017|     2253|              25.9|         42.3|              28.6|           3.2|     18434|            8.5|         18.4|          35.5|               18.2|             7.3|            7.6|            4.4|\n",
      "|01007|2017|     1993|              21.7|         32.4|              44.0|           2.0|     15859|            5.6|         12.3|          43.9|               19.8|             5.2|            8.1|            5.1|\n",
      "|01011|2017|      935|              19.8|         54.0|              25.1|           1.1|      7377|            4.5|         24.2|          36.6|               17.0|             4.3|            6.6|            6.8|\n",
      "|01015|2017|    11122|              14.8|         30.1|              48.8|           6.2|     78975|            5.0|         11.8|          32.2|               25.8|             7.4|           10.2|            7.6|\n",
      "|01017|2017|     2941|              12.8|         46.5|              37.4|           3.3|     23698|            6.1|         13.1|          38.4|               21.6|             7.5|            9.0|            4.3|\n",
      "|01025|2017|     2190|              12.0|         58.0|              27.7|           2.2|     16921|            5.4|         13.1|          44.3|               17.3|             6.9|            8.4|            4.6|\n",
      "|01057|2017|     1344|              17.6|         30.1|              49.2|           3.1|     11715|            7.2|         13.1|          37.9|               20.0|             7.1|           10.1|            4.6|\n",
      "|01101|2017|    23851|              17.8|         31.7|              42.1|           8.3|    149318|            4.4|          9.9|          25.6|               21.3|             6.6|           19.4|           12.9|\n",
      "|01095|2017|     7941|              20.2|         36.3|              38.5|           5.0|     63248|            8.4|         11.6|          31.3|               22.6|             8.3|           11.6|            6.1|\n",
      "|01009|2017|     4627|              17.3|         32.0|              47.6|           3.0|     39475|            7.3|         12.9|          32.3|               21.9|            12.5|            8.7|            4.4|\n",
      "|01067|2017|     1406|              11.3|         43.0|              43.0|           2.7|     12123|            7.0|         12.4|          33.9|               22.0|             7.6|            9.0|            8.1|\n",
      "|01089|2017|    34556|              11.0|         30.2|              48.4|          10.5|    239756|            3.0|          6.2|          21.1|               20.8|             8.4|           25.2|           15.4|\n",
      "|01001|2017|     4770|              16.2|         40.4|              34.2|           9.2|     36757|            3.0|          9.3|          33.6|               21.5|             7.6|           14.5|           10.5|\n",
      "|01123|2017|     3472|              23.6|         40.5|              32.9|           3.0|     28609|            4.7|         14.5|          34.0|               20.1|             8.5|           12.1|            6.1|\n",
      "|01061|2017|     2007|              21.3|         42.3|              32.9|           3.5|     18666|            7.3|         13.7|          35.7|               22.8|             9.4|            7.5|            3.6|\n",
      "|01131|2017|      976|              17.0|         44.4|              36.1|           2.6|      7242|            6.3|         14.6|          43.2|               18.6|             5.3|            8.0|            4.0|\n",
      "|01133|2017|     1688|              27.8|         33.8|              35.0|           3.4|     17255|            8.0|         14.7|          36.2|               19.9|             8.2|            7.8|            5.1|\n",
      "|01003|2017|    15339|              20.1|         33.2|              37.7|           9.0|    143022|            2.6|          7.2|          27.8|               22.0|             9.6|           20.4|           10.3|\n",
      "|01043|2017|     6626|              20.4|         34.3|              40.3|           4.9|     56720|            6.4|         11.5|          35.9|               20.7|            10.7|            9.5|            5.4|\n",
      "|01051|2017|     7436|              16.9|         41.8|              34.2|           7.1|     55278|            4.1|          9.5|          34.1|               20.2|             9.2|           14.4|            8.4|\n",
      "+-----+----+---------+------------------+-------------+------------------+--------------+----------+---------------+-------------+--------------+-------------------+----------------+---------------+---------------+\n",
      "only showing top 20 rows\n",
      "\n"
     ]
    }
   ],
   "source": [
    "val eduParsed17 = spark.read.option(\"header\", \"true\").\n",
    "    csv(\"s3://agimodeltrainer/DATA/EDU/ACSST5Y2017.csv\").\n",
    "    filter($\"GEO_ID\" =!= \"id\"). // Removes 2nd header line\n",
    "    withColumn(\"FIPS\", substring($\"GEO_ID\", 10, 5)).\n",
    "    withColumn(\"Year\", lit(2017)).\n",
    "    select(\n",
    "        $\"FIPS\",\n",
    "        $\"Year\".cast(\"Int\"),\n",
    "        $\"S1501_C01_001E\".as(pop_18_24).cast(\"Int\"),\n",
    "        $\"S1501_C02_002E\".as(per_less_hs_grad_18_24).cast(\"Double\"),\n",
    "        $\"S1501_C02_003E\".as(per_hs_grad_18_24).cast(\"Double\"),\n",
    "        $\"S1501_C02_004E\".as(per_some_college_18_24).cast(\"Double\"),\n",
    "        $\"S1501_C02_005E\".as(per_bachelor_18_24).cast(\"Double\"),\n",
    "        $\"S1501_C01_006E\".as(pop_25).cast(\"Int\"),\n",
    "        $\"S1501_C02_007E\".as(per_less_9th_25).cast(\"Double\"),\n",
    "        $\"S1501_C02_008E\".as(per_9th_12th_25).cast(\"Double\"),\n",
    "        $\"S1501_C02_009E\".as(per_hs_25).cast(\"Double\"),\n",
    "        $\"S1501_C02_010E\".as(per_some_college_25).cast(\"Double\"),\n",
    "        $\"S1501_C02_011E\".as(per_assoc_25).cast(\"Double\"),\n",
    "        $\"S1501_C02_012E\".as(per_bach_25).cast(\"Double\"),\n",
    "        $\"S1501_C02_013E\".as(per_grad_25).cast(\"Double\")\n",
    "    ).na.fill(0)\n",
    "eduParsed17.show"
   ]
  },
  {
   "cell_type": "code",
   "execution_count": 8,
   "metadata": {},
   "outputs": [
    {
     "data": {
      "application/vnd.jupyter.widget-view+json": {
       "model_id": "5dacaca592ab4c3583d41978355a2918",
       "version_major": 2,
       "version_minor": 0
      },
      "text/plain": [
       "VBox()"
      ]
     },
     "metadata": {},
     "output_type": "display_data"
    },
    {
     "data": {
      "application/vnd.jupyter.widget-view+json": {
       "model_id": "",
       "version_major": 2,
       "version_minor": 0
      },
      "text/plain": [
       "FloatProgress(value=0.0, bar_style='info', description='Progress:', layout=Layout(height='25px', width='50%'),…"
      ]
     },
     "metadata": {},
     "output_type": "display_data"
    },
    {
     "name": "stdout",
     "output_type": "stream",
     "text": [
      "toAdd: Array[org.apache.spark.sql.DataFrame] = Array([FIPS: string, Year: int ... 13 more fields], [FIPS: string, Year: int ... 13 more fields], [FIPS: string, Year: int ... 13 more fields], [FIPS: string, Year: int ... 13 more fields], [FIPS: string, Year: int ... 13 more fields], [FIPS: string, Year: int ... 13 more fields])\n",
      "eduParsedTotal: org.apache.spark.sql.DataFrame = [FIPS: string, Year: int ... 13 more fields]\n",
      "+-----+----+---------+------------------+-------------+------------------+--------------+----------+---------------+-------------+--------------+-------------------+----------------+---------------+---------------+\n",
      "| FIPS|Year|Pop_18_24|Less_HS_Grad_18_24|HS_Grad_18_24|Some_College_18_24|Bachelor_18_24|Pop_25plus|Less_9th_25plus|9_12th_25plus|HS_Grad_25plus|Some_College_25plus|Associate_25plus|Bachelor_25plus|Gradplus_25plus|\n",
      "+-----+----+---------+------------------+-------------+------------------+--------------+----------+---------------+-------------+--------------+-------------------+----------------+---------------+---------------+\n",
      "|18095|2015|    11600|              21.3|         36.1|              38.5|           4.1|     89672|            3.2|          9.5|          39.1|               21.8|             8.9|           11.9|            5.6|\n",
      "|56043|2016|      443|              28.7|         44.9|              26.2|           0.2|      5836|            3.6|          8.9|          30.8|               27.0|             8.6|           14.9|            6.2|\n",
      "|51630|2016|     5613|               3.6|         25.3|              60.3|          10.9|     16441|            3.2|          5.5|          25.0|               18.8|             5.1|           25.1|           17.2|\n",
      "|37091|2014|     2612|              17.6|         26.6|              52.1|           3.7|     17000|            7.4|         16.0|          31.5|               21.4|             9.3|            8.8|            5.6|\n",
      "|28041|2017|     1100|              21.3|         32.7|              46.0|           0.0|      9920|            6.3|         17.8|          36.8|               23.5|             6.9|            6.1|            2.6|\n",
      "|01109|2011|     6815|               9.1|         15.3|              68.3|           7.3|     18888|            6.4|         13.7|          35.0|               18.6|             2.9|           14.8|            8.6|\n",
      "|42107|2012|    10841|              14.9|         43.3|              33.6|           8.2|    107544|            3.7|         10.4|          48.9|               14.5|             8.5|            8.9|            5.1|\n",
      "|53039|2015|     1478|              24.0|         36.6|              29.9|           9.5|     14966|            4.8|          6.6|          29.0|               27.4|             8.8|           16.0|            7.5|\n",
      "|27023|2015|      922|              22.7|         29.7|              42.7|           4.9|      8449|            5.7|          4.7|          36.0|               24.4|            13.3|           11.8|            4.1|\n",
      "|17079|2011|      748|              14.7|         30.3|              50.5|           4.4|      6793|            3.9|          6.4|          38.2|               23.0|            13.5|            8.3|            6.8|\n",
      "|19137|2015|      718|              21.4|         36.9|              39.6|           2.1|      7388|            3.9|          7.7|          37.6|               23.4|            12.4|           10.9|            4.1|\n",
      "|08069|2016|    48368|               6.8|         21.9|              58.6|          12.7|    210378|            1.4|          3.0|          19.4|               22.1|             8.9|           27.8|           17.5|\n",
      "|55075|2015|     3109|              12.1|         34.6|              50.2|           3.2|     30072|            2.5|          6.6|          42.6|               24.7|             9.3|            9.9|            4.4|\n",
      "|32033|2014|      944|              30.3|         40.1|              25.2|           4.3|      6854|            5.5|          9.4|          34.0|               26.0|             9.6|            9.2|            6.3|\n",
      "|51830|2016|     6022|               1.9|          8.5|              80.9|           8.7|      7318|            2.1|          3.2|          14.5|               16.8|             6.7|           27.9|           28.8|\n",
      "|28115|2011|     2546|              25.3|         32.9|              40.7|           1.2|     19139|           10.7|         15.3|          35.3|               18.8|             9.3|            6.8|            3.8|\n",
      "|31077|2013|      152|              30.9|         32.9|              32.2|           3.9|      1744|            3.7|          3.6|          42.7|               24.8|            10.3|            9.9|            5.0|\n",
      "|48351|2011|     1157|              26.6|         36.1|              33.7|           3.5|      9919|            5.6|         13.8|          47.5|               20.4|             5.0|            5.9|            1.8|\n",
      "|13211|2013|     1273|              12.3|         37.5|              41.6|           8.7|     12244|            6.5|         11.8|          35.2|               18.4|             5.4|           14.3|            8.4|\n",
      "|19159|2012|      321|              18.4|         20.2|              51.7|           9.7|      3530|            5.9|          5.4|          37.8|               20.9|            10.7|           13.0|            6.3|\n",
      "+-----+----+---------+------------------+-------------+------------------+--------------+----------+---------------+-------------+--------------+-------------------+----------------+---------------+---------------+\n",
      "only showing top 20 rows\n",
      "\n"
     ]
    }
   ],
   "source": [
    "val toAdd = Array(eduParsed12, eduParsed13, eduParsed14, eduParsed15, eduParsed16, eduParsed17)\n",
    "var eduParsedTotal = eduParsed11\n",
    "for (edu <- toAdd) { eduParsedTotal = eduParsedTotal.union(edu) }\n",
    "eduParsedTotal.orderBy(rand(1234L)).show"
   ]
  },
  {
   "cell_type": "code",
   "execution_count": 9,
   "metadata": {},
   "outputs": [
    {
     "data": {
      "application/vnd.jupyter.widget-view+json": {
       "model_id": "a93f0b31a3b5412286114452adcf78f3",
       "version_major": 2,
       "version_minor": 0
      },
      "text/plain": [
       "VBox()"
      ]
     },
     "metadata": {},
     "output_type": "display_data"
    },
    {
     "data": {
      "application/vnd.jupyter.widget-view+json": {
       "model_id": "",
       "version_major": 2,
       "version_minor": 0
      },
      "text/plain": [
       "FloatProgress(value=0.0, bar_style='info', description='Progress:', layout=Layout(height='25px', width='50%'),…"
      ]
     },
     "metadata": {},
     "output_type": "display_data"
    },
    {
     "name": "stdout",
     "output_type": "stream",
     "text": [
      "cols: Array[String] = Array(FIPS, Year, Pop_18_24, Less_HS_Grad_18_24, HS_Grad_18_24, Some_College_18_24, Bachelor_18_24, Pop_25plus, Less_9th_25plus, 9_12th_25plus, HS_Grad_25plus, Some_College_25plus, Associate_25plus, Bachelor_25plus, Gradplus_25plus)\n",
      "+-------+------------------+------------------+------------------+------------------+-----------------+------------------+-----------------+\n",
      "|summary|              FIPS|              Year|         Pop_18_24|Less_HS_Grad_18_24|    HS_Grad_18_24|Some_College_18_24|   Bachelor_18_24|\n",
      "+-------+------------------+------------------+------------------+------------------+-----------------+------------------+-----------------+\n",
      "|  count|             22543|             22543|             22543|             22543|            22543|             22543|            22543|\n",
      "|   mean|  31396.3048396398| 2013.999733841991|  9761.21146253826|18.841347646719605|35.02992059619393|40.059424211506915|6.060258173268865|\n",
      "| stddev|16290.446102103326|2.0000665236370105|32098.925661811307| 8.733527683879915| 9.58871869659731|11.543248183388101|4.774712995035703|\n",
      "|    min|             01001|              2011|                 0|               0.0|              0.0|               0.0|              0.0|\n",
      "|    max|             72153|              2017|           1068857|             100.0|            100.0|             100.0|             72.0|\n",
      "+-------+------------------+------------------+------------------+------------------+-----------------+------------------+-----------------+\n",
      "\n",
      "+-------+-----------------+-----------------+------------------+------------------+-------------------+------------------+------------------+-----------------+\n",
      "|summary|       Pop_25plus|  Less_9th_25plus|     9_12th_25plus|    HS_Grad_25plus|Some_College_25plus|  Associate_25plus|   Bachelor_25plus|  Gradplus_25plus|\n",
      "+-------+-----------------+-----------------+------------------+------------------+-------------------+------------------+------------------+-----------------+\n",
      "|  count|            22543|            22543|             22543|             22543|              22543|             22543|             22543|            22543|\n",
      "|   mean|65668.79204187552|6.232551124517588| 9.191296633101183|34.660861464756216|  21.62572860755001|  8.15592423368673|13.251075721953598|6.883928492214872|\n",
      "| stddev|208965.4653239034|4.572209287901514|3.7665499843311783| 7.068670413438518|  4.206400823487578|2.5294765356906703| 5.417331353253077|4.069793508745834|\n",
      "|    min|               56|              0.0|               0.0|               6.5|                3.0|               0.0|               0.0|              0.0|\n",
      "|    max|          6801851|             38.2|              32.8|              78.6|               42.8|              21.7|              43.7|             45.9|\n",
      "+-------+-----------------+-----------------+------------------+------------------+-------------------+------------------+------------------+-----------------+\n",
      "\n"
     ]
    }
   ],
   "source": [
    "// Description of each of the above columns. A few points:\n",
    "// 1. There is at least one business in each county, as indicated by the min value in the Total column.\n",
    "// 2. The average number of businesses for each category of number of employees (1-4 => 1-4 Employees)\n",
    "//    shrinks as number of employees increases.\n",
    "// These numbers are based on all NAICS codes, and we could get more specific descriptions for a specifc code if we wanted to.\n",
    "\n",
    "val cols = eduParsedTotal.columns\n",
    "// Description show in two halves for formatting reasons\n",
    "eduParsedTotal.describe(cols.slice(0, cols.size/2):_*).show\n",
    "eduParsedTotal.describe(cols.slice(cols.size/2, cols.size):_*).show"
   ]
  },
  {
   "cell_type": "code",
   "execution_count": 12,
   "metadata": {},
   "outputs": [
    {
     "data": {
      "application/vnd.jupyter.widget-view+json": {
       "model_id": "53ea471a926045a08ace45a78a4177c8",
       "version_major": 2,
       "version_minor": 0
      },
      "text/plain": [
       "VBox()"
      ]
     },
     "metadata": {},
     "output_type": "display_data"
    },
    {
     "data": {
      "application/vnd.jupyter.widget-view+json": {
       "model_id": "",
       "version_major": 2,
       "version_minor": 0
      },
      "text/plain": [
       "FloatProgress(value=0.0, bar_style='info', description='Progress:', layout=Layout(height='25px', width='50%'),…"
      ]
     },
     "metadata": {},
     "output_type": "display_data"
    }
   ],
   "source": [
    "eduParsedTotal.write.parquet(\"s3://agimodeltrainer/Clean_Data/Educational_Attainment.parquet\")"
   ]
  },
  {
   "cell_type": "code",
   "execution_count": 13,
   "metadata": {},
   "outputs": [
    {
     "data": {
      "application/vnd.jupyter.widget-view+json": {
       "model_id": "e045ff584de14f52b77270d4a3709cde",
       "version_major": 2,
       "version_minor": 0
      },
      "text/plain": [
       "VBox()"
      ]
     },
     "metadata": {},
     "output_type": "display_data"
    },
    {
     "data": {
      "application/vnd.jupyter.widget-view+json": {
       "model_id": "",
       "version_major": 2,
       "version_minor": 0
      },
      "text/plain": [
       "FloatProgress(value=0.0, bar_style='info', description='Progress:', layout=Layout(height='25px', width='50%'),…"
      ]
     },
     "metadata": {},
     "output_type": "display_data"
    },
    {
     "name": "stdout",
     "output_type": "stream",
     "text": [
      "test: org.apache.spark.sql.DataFrame = [FIPS: string, Year: int ... 13 more fields]\n",
      "root\n",
      " |-- FIPS: string (nullable = true)\n",
      " |-- Year: integer (nullable = true)\n",
      " |-- Pop_18_24: integer (nullable = true)\n",
      " |-- Less_HS_Grad_18_24: double (nullable = true)\n",
      " |-- HS_Grad_18_24: double (nullable = true)\n",
      " |-- Some_College_18_24: double (nullable = true)\n",
      " |-- Bachelor_18_24: double (nullable = true)\n",
      " |-- Pop_25plus: integer (nullable = true)\n",
      " |-- Less_9th_25plus: double (nullable = true)\n",
      " |-- 9_12th_25plus: double (nullable = true)\n",
      " |-- HS_Grad_25plus: double (nullable = true)\n",
      " |-- Some_College_25plus: double (nullable = true)\n",
      " |-- Associate_25plus: double (nullable = true)\n",
      " |-- Bachelor_25plus: double (nullable = true)\n",
      " |-- Gradplus_25plus: double (nullable = true)\n",
      "\n",
      "+-----+----+---------+------------------+-------------+------------------+--------------+----------+---------------+-------------+--------------+-------------------+----------------+---------------+---------------+\n",
      "| FIPS|Year|Pop_18_24|Less_HS_Grad_18_24|HS_Grad_18_24|Some_College_18_24|Bachelor_18_24|Pop_25plus|Less_9th_25plus|9_12th_25plus|HS_Grad_25plus|Some_College_25plus|Associate_25plus|Bachelor_25plus|Gradplus_25plus|\n",
      "+-----+----+---------+------------------+-------------+------------------+--------------+----------+---------------+-------------+--------------+-------------------+----------------+---------------+---------------+\n",
      "|13121|2013|   101833|              15.1|         22.7|              48.0|          14.2|    622408|            3.6|          6.1|          18.3|               18.3|             5.5|           29.7|           18.5|\n",
      "|13123|2013|     2056|              26.6|         40.3|              30.3|           2.8|     20182|           10.4|         13.1|          32.4|               20.9|             6.8|           10.4|            5.9|\n",
      "|13125|2013|      208|              13.5|         36.1|              45.2|           5.3|      2088|            8.5|         13.3|          43.3|               19.3|             6.0|            5.3|            4.3|\n",
      "|13127|2013|     6836|              19.9|         45.4|              30.3|           4.4|     54359|            4.1|          9.4|          28.9|               23.5|             8.1|           15.7|           10.3|\n",
      "|13129|2013|     5025|              34.5|         33.7|              27.3|           4.4|     35715|           11.7|         15.0|          34.7|               18.7|             5.8|            8.4|            5.8|\n",
      "|13131|2013|     2160|              37.6|         30.8|              29.8|           1.8|     16545|            9.9|         17.5|          39.2|               14.8|             7.3|            6.8|            4.5|\n",
      "|13133|2013|     1115|              20.0|         46.0|              26.2|           7.8|     11774|            8.4|         12.9|          37.0|               14.7|             5.5|           12.1|            9.4|\n",
      "|13135|2013|    72158|              20.8|         31.0|              39.5|           8.7|    516632|            6.7|          6.3|          23.5|               20.5|             9.0|           23.1|           10.9|\n",
      "|13137|2013|     3950|              21.2|         37.0|              39.7|           2.0|     29055|           10.4|         11.7|          34.1|               20.1|             6.6|           10.2|            7.0|\n",
      "|13139|2013|    17013|              24.3|         35.9|              35.5|           4.3|    115478|           11.1|         10.1|          30.2|               19.7|             6.0|           14.1|            8.7|\n",
      "|13141|2013|     1048|              38.8|         34.2|              23.8|           3.2|      6557|            7.3|         17.0|          43.6|               17.0|             5.3|            7.1|            2.7|\n",
      "|13143|2013|     2479|              22.1|         41.8|              30.5|           5.6|     18988|            9.3|         16.6|          37.2|               18.3|             4.6|            8.9|            5.2|\n",
      "|13145|2013|     2467|              23.4|         25.5|              43.3|           7.7|     22311|            3.8|          7.1|          28.7|               24.6|             8.5|           15.4|           11.9|\n",
      "|13147|2013|     2174|              31.1|         34.5|              27.7|           6.7|     17577|            5.2|         14.4|          38.3|               19.4|             7.1|           10.2|            5.3|\n",
      "|13149|2013|     1046|              26.3|         29.5|              41.8|           2.4|      7791|            7.0|         20.3|          38.9|               18.0|             7.5|            5.6|            2.6|\n",
      "|13151|2013|    18112|              21.5|         32.1|              40.5|           5.9|    129349|            2.7|          7.7|          30.9|               24.0|             8.6|           17.8|            8.2|\n",
      "|13153|2013|    14081|              15.9|         36.0|              41.2|           6.9|     91340|            3.5|          7.7|          29.0|               26.6|             9.2|           14.5|            9.5|\n",
      "|13155|2013|      758|              40.6|         28.0|              21.9|           9.5|      6572|            5.3|         13.6|          40.1|               23.4|             7.2|            4.8|            5.5|\n",
      "|13157|2013|     4817|              20.4|         35.7|              39.0|           4.9|     39851|            8.0|         10.9|          35.4|               19.6|             6.6|           12.8|            6.7|\n",
      "|13159|2013|     1070|              23.4|         43.2|              31.4|           2.1|      9284|            5.8|         10.6|          41.5|               20.5|             8.2|            8.0|            5.3|\n",
      "+-----+----+---------+------------------+-------------+------------------+--------------+----------+---------------+-------------+--------------+-------------------+----------------+---------------+---------------+\n",
      "only showing top 20 rows\n",
      "\n",
      "res41: Long = 22543\n",
      "res42: Long = 3223\n",
      "res43: Long = 7\n"
     ]
    }
   ],
   "source": [
    "// Quick test to show that data was written successfully.\n",
    "val test = spark.read.parquet(\"s3://agimodeltrainer/Clean_Data/Educational_Attainment.parquet\")\n",
    "test.printSchema\n",
    "test.show\n",
    "test.count\n",
    "test.select(\"FIPS\").distinct.count\n",
    "test.select(\"Year\").distinct.count"
   ]
  },
  {
   "cell_type": "code",
   "execution_count": null,
   "metadata": {},
   "outputs": [],
   "source": []
  }
 ],
 "metadata": {
  "kernelspec": {
   "display_name": "Spark",
   "language": "",
   "name": "sparkkernel"
  },
  "language_info": {
   "codemirror_mode": "text/x-scala",
   "mimetype": "text/x-scala",
   "name": "scala",
   "pygments_lexer": "scala"
  }
 },
 "nbformat": 4,
 "nbformat_minor": 4
}
