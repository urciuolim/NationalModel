{
 "cells": [
  {
   "cell_type": "code",
   "execution_count": 1,
   "metadata": {},
   "outputs": [
    {
     "data": {
      "application/vnd.jupyter.widget-view+json": {
       "model_id": "9d5ff460debf4f69a526d98f0e491b36",
       "version_major": 2,
       "version_minor": 0
      },
      "text/plain": [
       "VBox()"
      ]
     },
     "metadata": {},
     "output_type": "display_data"
    },
    {
     "name": "stdout",
     "output_type": "stream",
     "text": [
      "Starting Spark application\n"
     ]
    },
    {
     "data": {
      "text/html": [
       "<table>\n",
       "<tr><th>ID</th><th>YARN Application ID</th><th>Kind</th><th>State</th><th>Spark UI</th><th>Driver log</th><th>Current session?</th></tr><tr><td>4</td><td>application_1600108946459_0005</td><td>spark</td><td>idle</td><td><a target=\"_blank\" href=\"http://ip-172-31-23-189.us-east-2.compute.internal:20888/proxy/application_1600108946459_0005/\">Link</a></td><td><a target=\"_blank\" href=\"http://ip-172-31-22-36.us-east-2.compute.internal:8042/node/containerlogs/container_1600108946459_0005_01_000002/livy\">Link</a></td><td>✔</td></tr></table>"
      ],
      "text/plain": [
       "<IPython.core.display.HTML object>"
      ]
     },
     "metadata": {},
     "output_type": "display_data"
    },
    {
     "data": {
      "application/vnd.jupyter.widget-view+json": {
       "model_id": "",
       "version_major": 2,
       "version_minor": 0
      },
      "text/plain": [
       "FloatProgress(value=0.0, bar_style='info', description='Progress:', layout=Layout(height='25px', width='50%'),…"
      ]
     },
     "metadata": {},
     "output_type": "display_data"
    },
    {
     "name": "stdout",
     "output_type": "stream",
     "text": [
      "SparkSession available as 'spark'.\n"
     ]
    },
    {
     "data": {
      "application/vnd.jupyter.widget-view+json": {
       "model_id": "",
       "version_major": 2,
       "version_minor": 0
      },
      "text/plain": [
       "FloatProgress(value=0.0, bar_style='info', description='Progress:', layout=Layout(height='25px', width='50%'),…"
      ]
     },
     "metadata": {},
     "output_type": "display_data"
    },
    {
     "name": "stdout",
     "output_type": "stream",
     "text": [
      "columns: scala.collection.immutable.Map[String,Seq[String]] = Map(Census_Business_Patterns -> List(FIPS, Year, Maps), Complex_Race -> List(FIPS, Year, One_Race, Only_White, Only_Black, Only_Native, Only_Cherokee, Only_Chippewa, Only_Navajo, Only_Sioux, Only_Asian, Only_Indian, Only_Chinese, Only_Filipino, Only_Japanese, Only_Korean, Only_Vietnamese, Only_Asian_Other, Only_Pacific, Only_Hawaiian, Only_Guamanian, Only_Samoan, Only_Pacific_Other, Only_Other, Twoplus_Races, White_Black, White_Native, White_Asian, Black_Native), Simple_Race -> List(FIPS, Year, White, Black, Native, Asian, Pacific, Other), Hispanic -> List(FIPS, Year, Hispanic, Mexican, Puerto_Rican, Cuban, Hispanic_Other, Not_Hispanic), Educational_Attainment -> List(FIPS, Year, Pop_18_24, Less_HS_Grad_18_24, HS_Grad_18_24, ...finalTable: org.apache.spark.sql.DataFrame = [FIPS: string, Year: int ... 71 more fields]\n",
      "root\n",
      " |-- FIPS: string (nullable = true)\n",
      " |-- Year: integer (nullable = true)\n",
      " |-- Population: integer (nullable = true)\n",
      " |-- Male: double (nullable = true)\n",
      " |-- Female: double (nullable = true)\n",
      " |-- Under_5: double (nullable = true)\n",
      " |-- 5_9: double (nullable = true)\n",
      " |-- 10_14: double (nullable = true)\n",
      " |-- 15_19: double (nullable = true)\n",
      " |-- 20_24: double (nullable = true)\n",
      " |-- 25_34: double (nullable = true)\n",
      " |-- 35_44: double (nullable = true)\n",
      " |-- 45_54: double (nullable = true)\n",
      " |-- 55_59: double (nullable = true)\n",
      " |-- 60_64: double (nullable = true)\n",
      " |-- 65_74: double (nullable = true)\n",
      " |-- 75_84: double (nullable = true)\n",
      " |-- 85plus: double (nullable = true)\n",
      " |-- Maps: map (nullable = true)\n",
      " |    |-- key: integer\n",
      " |    |-- value: array (valueContainsNull = true)\n",
      " |    |    |-- element: integer (containsNull = true)\n",
      " |-- One_Race: double (nullable = true)\n",
      " |-- Only_White: double (nullable = true)\n",
      " |-- Only_Black: double (nullable = true)\n",
      " |-- Only_Native: double (nullable = true)\n",
      " |-- Only_Cherokee: double (nullable = true)\n",
      " |-- Only_Chippewa: double (nullable = true)\n",
      " |-- Only_Navajo: double (nullable = true)\n",
      " |-- Only_Sioux: double (nullable = true)\n",
      " |-- Only_Asian: double (nullable = true)\n",
      " |-- Only_Indian: double (nullable = true)\n",
      " |-- Only_Chinese: double (nullable = true)\n",
      " |-- Only_Filipino: double (nullable = true)\n",
      " |-- Only_Japanese: double (nullable = true)\n",
      " |-- Only_Korean: double (nullable = true)\n",
      " |-- Only_Vietnamese: double (nullable = true)\n",
      " |-- Only_Asian_Other: double (nullable = true)\n",
      " |-- Only_Pacific: double (nullable = true)\n",
      " |-- Only_Hawaiian: double (nullable = true)\n",
      " |-- Only_Guamanian: double (nullable = true)\n",
      " |-- Only_Samoan: double (nullable = true)\n",
      " |-- Only_Pacific_Other: double (nullable = true)\n",
      " |-- Only_Other: double (nullable = true)\n",
      " |-- Twoplus_Races: double (nullable = true)\n",
      " |-- White_Black: double (nullable = true)\n",
      " |-- White_Native: double (nullable = true)\n",
      " |-- White_Asian: double (nullable = true)\n",
      " |-- Black_Native: double (nullable = true)\n",
      " |-- Pop_18_24: integer (nullable = true)\n",
      " |-- Less_HS_Grad_18_24: double (nullable = true)\n",
      " |-- HS_Grad_18_24: double (nullable = true)\n",
      " |-- Some_College_18_24: double (nullable = true)\n",
      " |-- Bachelor_18_24: double (nullable = true)\n",
      " |-- Pop_25plus: integer (nullable = true)\n",
      " |-- Less_9th_25plus: double (nullable = true)\n",
      " |-- 9_12th_25plus: double (nullable = true)\n",
      " |-- HS_Grad_25plus: double (nullable = true)\n",
      " |-- Some_College_25plus: double (nullable = true)\n",
      " |-- Associate_25plus: double (nullable = true)\n",
      " |-- Bachelor_25plus: double (nullable = true)\n",
      " |-- Gradplus_25plus: double (nullable = true)\n",
      " |-- Hispanic: double (nullable = true)\n",
      " |-- Mexican: double (nullable = true)\n",
      " |-- Puerto_Rican: double (nullable = true)\n",
      " |-- Cuban: double (nullable = true)\n",
      " |-- Hispanic_Other: double (nullable = true)\n",
      " |-- Not_Hispanic: double (nullable = true)\n",
      " |-- Number_of_returns: long (nullable = true)\n",
      " |-- Total_AGI: long (nullable = true)\n",
      " |-- White: double (nullable = true)\n",
      " |-- Black: double (nullable = true)\n",
      " |-- Native: double (nullable = true)\n",
      " |-- Asian: double (nullable = true)\n",
      " |-- Pacific: double (nullable = true)\n",
      " |-- Other: double (nullable = true)\n",
      "\n"
     ]
    }
   ],
   "source": [
    "val columns = spark.read.parquet(\"s3://agimodeltrainer/Clean_Data/ColumnMap.parquet\").as[(String, Seq[String])].collect.toMap\n",
    "val finalTable = spark.read.parquet(\"s3://agimodeltrainer/Clean_Data/FinalTable.parquet\")\n",
    "finalTable.printSchema"
   ]
  },
  {
   "cell_type": "code",
   "execution_count": 2,
   "metadata": {},
   "outputs": [
    {
     "data": {
      "application/vnd.jupyter.widget-view+json": {
       "model_id": "9e3719a067964930bd561b0d6d4f801a",
       "version_major": 2,
       "version_minor": 0
      },
      "text/plain": [
       "VBox()"
      ]
     },
     "metadata": {},
     "output_type": "display_data"
    },
    {
     "data": {
      "application/vnd.jupyter.widget-view+json": {
       "model_id": "",
       "version_major": 2,
       "version_minor": 0
      },
      "text/plain": [
       "FloatProgress(value=0.0, bar_style='info', description='Progress:', layout=Layout(height='25px', width='50%'),…"
      ]
     },
     "metadata": {},
     "output_type": "display_data"
    },
    {
     "name": "stdout",
     "output_type": "stream",
     "text": [
      "import org.apache.spark.sql.{Row, DataFrame}\n",
      "myEval: (table: org.apache.spark.sql.DataFrame, agg: String, col: String)org.apache.spark.sql.Row\n"
     ]
    }
   ],
   "source": [
    "import org.apache.spark.sql.{Row, DataFrame}\n",
    "// Really just a quantile calculator right now, but leaves room for additional custom functions\n",
    "def myEval(table:DataFrame, agg:String, col:String) = {\n",
    "    val columnArray = table.select(col).orderBy(col).map(_.get(0).toString).collect\n",
    "    val percent = agg.substring(0, agg.indexOf('%')).toDouble/100.0\n",
    "    val index = Math.round((columnArray.length-1) * percent).toInt\n",
    "    Row(columnArray(index))\n",
    "}"
   ]
  },
  {
   "cell_type": "code",
   "execution_count": 3,
   "metadata": {},
   "outputs": [
    {
     "data": {
      "application/vnd.jupyter.widget-view+json": {
       "model_id": "473a71fb7b324b53a136265f0a905370",
       "version_major": 2,
       "version_minor": 0
      },
      "text/plain": [
       "VBox()"
      ]
     },
     "metadata": {},
     "output_type": "display_data"
    },
    {
     "data": {
      "application/vnd.jupyter.widget-view+json": {
       "model_id": "",
       "version_major": 2,
       "version_minor": 0
      },
      "text/plain": [
       "FloatProgress(value=0.0, bar_style='info', description='Progress:', layout=Layout(height='25px', width='50%'),…"
      ]
     },
     "metadata": {},
     "output_type": "display_data"
    },
    {
     "name": "stdout",
     "output_type": "stream",
     "text": [
      "import org.apache.spark.sql._\n",
      "import org.apache.spark.sql.types._\n",
      "customSummary: (table: org.apache.spark.sql.DataFrame, columns: Seq[String], aggs: Seq[String])Unit\n"
     ]
    }
   ],
   "source": [
    "import org.apache.spark.sql._\n",
    "import org.apache.spark.sql.types._\n",
    "\n",
    "// Create summary table like same-named built in Spark function. It runs slower but otherwise seems fine\n",
    "def customSummary(table:DataFrame, columns:Seq[String], aggs:Seq[String]) = {\n",
    "    val newTable = new Array[Array[String]](aggs.size)\n",
    "    var newSchema = List(StructField(\"\", StringType, false))\n",
    "    for ((col, i) <- columns.zipWithIndex) {\n",
    "        newSchema = newSchema :+ StructField(col, StringType, false)\n",
    "    }\n",
    "    \n",
    "    for ((agg, i) <- aggs.zipWithIndex) {\n",
    "        newTable(i) = new Array[String](columns.size+1)\n",
    "        newTable(i)(0) = agg.replace(\"!\", \"\")\n",
    "        val flag = !agg.contains('!')\n",
    "        for ((col, j) <- columns.zipWithIndex) {\n",
    "            val temp1 = if (flag) {\n",
    "                table.select(expr(s\"${agg}(${col})\")).collect.head\n",
    "            } else {\n",
    "                myEval(table, agg.replace(\"!\", \"\"), col)\n",
    "            }\n",
    "            newTable(i)(j+1) = try {\n",
    "                temp1.getInt(0).toString\n",
    "            } catch {\n",
    "                case e: ClassCastException => try {\n",
    "                    temp1.getLong(0).toString\n",
    "                } catch {\n",
    "                    case e: ClassCastException => try {\n",
    "                        f\"${temp1.getDouble(0)}%1.2f\"\n",
    "                    } catch {\n",
    "                        case e: ClassCastException => temp1.getString(0)\n",
    "                    }\n",
    "                }\n",
    "            }\n",
    "        }\n",
    "    }\n",
    "    val t = newTable.toSeq.map(Row(_:_*))\n",
    "    val someDF = spark.createDataFrame(\n",
    "        spark.sparkContext.parallelize(t),\n",
    "        StructType(newSchema)\n",
    "    )\n",
    "    someDF.show\n",
    "}"
   ]
  },
  {
   "cell_type": "code",
   "execution_count": 4,
   "metadata": {},
   "outputs": [
    {
     "data": {
      "application/vnd.jupyter.widget-view+json": {
       "model_id": "bed6cecc913a4d64ba1a4a0df3535bec",
       "version_major": 2,
       "version_minor": 0
      },
      "text/plain": [
       "VBox()"
      ]
     },
     "metadata": {},
     "output_type": "display_data"
    },
    {
     "data": {
      "application/vnd.jupyter.widget-view+json": {
       "model_id": "",
       "version_major": 2,
       "version_minor": 0
      },
      "text/plain": [
       "FloatProgress(value=0.0, bar_style='info', description='Progress:', layout=Layout(height='25px', width='50%'),…"
      ]
     },
     "metadata": {},
     "output_type": "display_data"
    },
    {
     "name": "stdout",
     "output_type": "stream",
     "text": [
      "selected: Seq[String] = List(FIPS, Year, White, Black, Native, Asian, Pacific, Other)\n",
      "+-------+------------------+------------------+-----------------+------------------+-----------------+------------------+-------------------+------------------+\n",
      "|summary|              FIPS|              Year|            White|             Black|           Native|             Asian|            Pacific|             Other|\n",
      "+-------+------------------+------------------+-----------------+------------------+-----------------+------------------+-------------------+------------------+\n",
      "|  count|             21972|             21972|            21972|             21972|            21972|             21972|              21972|             21972|\n",
      "|   mean| 30393.87233752048|2014.0003640997634|85.61506007646088| 9.718728381576552|2.883783906790462|1.6029127981066897|0.17578281449117472|2.2876661205170272|\n",
      "| stddev|15153.499264321712|1.9998861772627188| 16.3791392499106|14.657830440780335|8.109682410891063| 3.192560203460612| 1.0172192789519472| 3.747974541489681|\n",
      "|    min|             01001|              2011|              3.8|               0.0|              0.0|               0.0|                0.0|               0.0|\n",
      "|    25%|           18179.0|              2012|             80.0|               1.0|              0.6|               0.4|                0.0|               0.4|\n",
      "|    50%|           29177.0|              2014|             92.4|               2.9|              1.0|               0.8|                0.1|               1.0|\n",
      "|    75%|           45081.0|              2016|             97.1|              11.5|              1.9|               1.6|                0.2|               2.5|\n",
      "|    max|             56045|              2017|            100.0|              87.2|             96.0|              61.7|               34.3|              58.8|\n",
      "+-------+------------------+------------------+-----------------+------------------+-----------------+------------------+-------------------+------------------+\n",
      "\n"
     ]
    }
   ],
   "source": [
    "val selected = columns(\"Simple_Race\")//.diff(Seq(\"FIPS\", \"Year\"))\n",
    "finalTable.select(selected.head, selected.tail: _*).summary().show"
   ]
  },
  {
   "cell_type": "code",
   "execution_count": 5,
   "metadata": {},
   "outputs": [
    {
     "data": {
      "application/vnd.jupyter.widget-view+json": {
       "model_id": "29b4f89862b14f23a7e1283c9bd48613",
       "version_major": 2,
       "version_minor": 0
      },
      "text/plain": [
       "VBox()"
      ]
     },
     "metadata": {},
     "output_type": "display_data"
    },
    {
     "data": {
      "application/vnd.jupyter.widget-view+json": {
       "model_id": "",
       "version_major": 2,
       "version_minor": 0
      },
      "text/plain": [
       "FloatProgress(value=0.0, bar_style='info', description='Progress:', layout=Layout(height='25px', width='50%'),…"
      ]
     },
     "metadata": {},
     "output_type": "display_data"
    },
    {
     "name": "stdout",
     "output_type": "stream",
     "text": [
      "+------+--------+-------+------+-----+------+-----+-------+-----+\n",
      "|      |    FIPS|   Year| White|Black|Native|Asian|Pacific|Other|\n",
      "+------+--------+-------+------+-----+------+-----+-------+-----+\n",
      "| count|   21972|  21972| 21972|21972| 21972|21972|  21972|21972|\n",
      "|  mean|30393.87|2014.00| 85.62| 9.72|  2.88| 1.60|   0.18| 2.29|\n",
      "|stddev|15153.50|   2.00| 16.38|14.66|  8.11| 3.19|   1.02| 3.75|\n",
      "|   min|   01001|   2011|  3.80| 0.00|  0.00| 0.00|   0.00| 0.00|\n",
      "|   25%|   18179|   2012|  80.0|  1.0|   0.6|  0.4|    0.0|  0.4|\n",
      "|   50%|   29177|   2014|  92.4|  2.9|   1.0|  0.8|    0.1|  1.0|\n",
      "|   75%|   45081|   2016|  97.1| 11.5|   1.9|  1.6|    0.2|  2.5|\n",
      "|   max|   56045|   2017|100.00|87.20| 96.00|61.70|  34.30|58.80|\n",
      "+------+--------+-------+------+-----+------+-----+-------+-----+\n",
      "\n"
     ]
    }
   ],
   "source": [
    "customSummary(\n",
    "    finalTable,\n",
    "    selected, \n",
    "    Seq(\"count\", \"mean\", \"stddev\", \"min\", \"!25%\", \"!50%\", \"!75%\", \"max\")\n",
    ")"
   ]
  },
  {
   "cell_type": "code",
   "execution_count": 6,
   "metadata": {},
   "outputs": [
    {
     "data": {
      "application/vnd.jupyter.widget-view+json": {
       "model_id": "2269c0c3b07a428492202b50c8c011e2",
       "version_major": 2,
       "version_minor": 0
      },
      "text/plain": [
       "VBox()"
      ]
     },
     "metadata": {},
     "output_type": "display_data"
    },
    {
     "data": {
      "application/vnd.jupyter.widget-view+json": {
       "model_id": "",
       "version_major": 2,
       "version_minor": 0
      },
      "text/plain": [
       "FloatProgress(value=0.0, bar_style='info', description='Progress:', layout=Layout(height='25px', width='50%'),…"
      ]
     },
     "metadata": {},
     "output_type": "display_data"
    },
    {
     "name": "stdout",
     "output_type": "stream",
     "text": [
      "unpackNAICSMap: (table: org.apache.spark.sql.DataFrame, mapCol: String, naics: Seq[Int], size: Seq[String])org.apache.spark.sql.DataFrame\n",
      "makeSizeSeq: (sizes: Seq[String])Seq[String]\n"
     ]
    }
   ],
   "source": [
    "def unpackNAICSMap(table:DataFrame, mapCol:String, naics:Seq[Int], size:Seq[String]) = {\n",
    "    var newTable = table\n",
    "    for (naic <- naics) {\n",
    "        newTable = newTable.withColumn(naic.toString, col(mapCol)(naic))\n",
    "        for ((s,i) <- size.zipWithIndex) {\n",
    "            if (s != null) {\n",
    "                newTable = newTable.withColumn(naic + \":\" + s, col(naic.toString)(i)).na.fill(0)\n",
    "            }                                  \n",
    "        }\n",
    "        newTable = newTable.drop(naic.toString)\n",
    "    }\n",
    "    newTable\n",
    "}\n",
    "def makeSizeSeq(sizes:Seq[String]) = {\n",
    "    val masterSizes = Seq(\"Total\", \"1_4\", \"5_9\", \"10_19\", \"20_49\", \"50_99\", \"100_249\", \"250_499\", \"500_999\", \"1000_1499\", \"1500_2499\", \"2500_4999\", \"5000plus\")\n",
    "    var outSizes = Seq[String]()\n",
    "    for (s <- masterSizes) {\n",
    "        if (sizes.contains(s)) \n",
    "            outSizes = outSizes :+ s\n",
    "        else\n",
    "            outSizes = outSizes :+ null\n",
    "    }\n",
    "    outSizes\n",
    "}"
   ]
  },
  {
   "cell_type": "raw",
   "metadata": {},
   "source": [
    "val naics = Seq(0, 11)\n",
    "// Sizes are: Total, 1_4, 5_9, 10_19, 20_49, 50_99, 100_249, 250_499, 500_999, 1000_1499, 1500_2499, 2500_4999, 5000plus\n",
    "val sizes = makeSizeSeq(Seq(\"Total\", \"1_4\", \"5_9\"))\n",
    "val naicsSizes = for {n <- naics; s <- sizes; if (s != null)} yield n + \":\" + s\n",
    "val unpack = \"Year\" +: naicsSizes\n",
    "val test1 = unpackNAICSMap(finalTable, \"Maps\", naics, sizes).select(\"FIPS\", unpack: _*)\n",
    "test1.printSchema\n",
    "val finaltest1 = finalTable.\n",
    "    drop(\"Maps\").\n",
    "    join(test1, Seq(\"FIPS\", \"Year\"), \"inner\")\n",
    "finaltest1.printSchema"
   ]
  },
  {
   "cell_type": "code",
   "execution_count": 8,
   "metadata": {},
   "outputs": [
    {
     "data": {
      "application/vnd.jupyter.widget-view+json": {
       "model_id": "06ebe53fb0f2470887986dfbce6b49cc",
       "version_major": 2,
       "version_minor": 0
      },
      "text/plain": [
       "VBox()"
      ]
     },
     "metadata": {},
     "output_type": "display_data"
    },
    {
     "data": {
      "application/vnd.jupyter.widget-view+json": {
       "model_id": "",
       "version_major": 2,
       "version_minor": 0
      },
      "text/plain": [
       "FloatProgress(value=0.0, bar_style='info', description='Progress:', layout=Layout(height='25px', width='50%'),…"
      ]
     },
     "metadata": {},
     "output_type": "display_data"
    },
    {
     "name": "stdout",
     "output_type": "stream",
     "text": [
      "myCorr: (table: org.apache.spark.sql.DataFrame)org.apache.spark.sql.DataFrame\n"
     ]
    }
   ],
   "source": [
    "//TODO: Correlation chart\n",
    "// Perform correlations between each column\n",
    "// Similar to summary, save the comparing column as the left most element\n",
    "// each following element is the correlation between column (leftside) and column (above)\n",
    "// Will probably have to save that dataframe to disk, visualize in python\n",
    "\n",
    "def myCorr(table:DataFrame) = {\n",
    "    val cols = table.columns\n",
    "    var alreadyVisited = Seq[String]()\n",
    "    \n",
    "    var newSchema = List(StructField(\"\", StringType, false))\n",
    "    for (col <- cols) {\n",
    "        newSchema = newSchema :+ StructField(col, DoubleType, true)\n",
    "    }\n",
    "        \n",
    "    var newTableAsSeq = Seq[Seq[Any]]()\n",
    "    for (a <- cols) {\n",
    "        var rowAsSeq = Seq[Any](a)\n",
    "        for (b <- cols) {\n",
    "            if (alreadyVisited.contains(b)) {\n",
    "                rowAsSeq = rowAsSeq :+ null\n",
    "            } else {\n",
    "                try {\n",
    "                    rowAsSeq = rowAsSeq :+ table.select(corr(a, b)).head.getDouble(0)\n",
    "                } catch {case e:NullPointerException => \n",
    "                    rowAsSeq = rowAsSeq :+ null\n",
    "                }\n",
    "            }\n",
    "        }\n",
    "        newTableAsSeq = newTableAsSeq :+ rowAsSeq\n",
    "        alreadyVisited = alreadyVisited :+ a\n",
    "    }\n",
    "    \n",
    "    val t = newTableAsSeq.map(Row(_:_*))\n",
    "    val someDF = spark.createDataFrame(\n",
    "        spark.sparkContext.parallelize(t),\n",
    "        StructType(newSchema)\n",
    "    )\n",
    "    someDF\n",
    "}"
   ]
  },
  {
   "cell_type": "code",
   "execution_count": 9,
   "metadata": {},
   "outputs": [
    {
     "data": {
      "application/vnd.jupyter.widget-view+json": {
       "model_id": "d14a1cea774f4701b362b9d2074d0b53",
       "version_major": 2,
       "version_minor": 0
      },
      "text/plain": [
       "VBox()"
      ]
     },
     "metadata": {},
     "output_type": "display_data"
    },
    {
     "data": {
      "application/vnd.jupyter.widget-view+json": {
       "model_id": "",
       "version_major": 2,
       "version_minor": 0
      },
      "text/plain": [
       "FloatProgress(value=0.0, bar_style='info', description='Progress:', layout=Layout(height='25px', width='50%'),…"
      ]
     },
     "metadata": {},
     "output_type": "display_data"
    },
    {
     "name": "stdout",
     "output_type": "stream",
     "text": [
      "naics: Seq[Int] = List(0, 11, 21, 22, 23, 31, 42, 44, 48, 51, 52, 53, 54, 55, 56, 61, 62, 71, 72, 81, 92)\n",
      "sizes: Seq[String] = List(null, 1_4, 5_9, 10_19, 20_49, 50_99, 100_249, 250_499, 500_999, 1000_1499, 1500_2499, 2500_4999, 5000plus)\n",
      "naicsSizes: Seq[String] = List(0:1_4, 0:5_9, 0:10_19, 0:20_49, 0:50_99, 0:100_249, 0:250_499, 0:500_999, 0:1000_1499, 0:1500_2499, 0:2500_4999, 0:5000plus, 11:1_4, 11:5_9, 11:10_19, 11:20_49, 11:50_99, 11:100_249, 11:250_499, 11:500_999, 11:1000_1499, 11:1500_2499, 11:2500_4999, 11:5000plus, 21:1_4, 21:5_9, 21:10_19, 21:20_49, 21:50_99, 21:100_249, 21:250_499, 21:500_999, 21:1000_1499, 21:1500_2499, 21:2500_4999, 21:5000plus, 22:1_4, 22:5_9, 22:10_19, 22:20_49, 22:50_99, 22:100_249, 22:250_499, 22:500_999, 22:1000_1499, 22:1500_2499, 22:2500_4999, 22:5000plus, 23:1_4, 23:5_9, 23:10_19, 23:20_49, 23:50_99, 23:100_249, 23:250_499, 23:500_999, 23:1000_1499, 23:1500_2499, 23:2500_4999, 23:5000plus, 31:1_4, 31:5_9, 31:10_19, 31:20_49, 31:50_99, 31:100_249, 31:250_499, 31:500_999, 31:1000_149...unpack: Seq[String] = List(Year, 0:1_4, 0:5_9, 0:10_19, 0:20_49, 0:50_99, 0:100_249, 0:250_499, 0:500_999, 0:1000_1499, 0:1500_2499, 0:2500_4999, 0:5000plus, 11:1_4, 11:5_9, 11:10_19, 11:20_49, 11:50_99, 11:100_249, 11:250_499, 11:500_999, 11:1000_1499, 11:1500_2499, 11:2500_4999, 11:5000plus, 21:1_4, 21:5_9, 21:10_19, 21:20_49, 21:50_99, 21:100_249, 21:250_499, 21:500_999, 21:1000_1499, 21:1500_2499, 21:2500_4999, 21:5000plus, 22:1_4, 22:5_9, 22:10_19, 22:20_49, 22:50_99, 22:100_249, 22:250_499, 22:500_999, 22:1000_1499, 22:1500_2499, 22:2500_4999, 22:5000plus, 23:1_4, 23:5_9, 23:10_19, 23:20_49, 23:50_99, 23:100_249, 23:250_499, 23:500_999, 23:1000_1499, 23:1500_2499, 23:2500_4999, 23:5000plus, 31:1_4, 31:5_9, 31:10_19, 31:20_49, 31:50_99, 31:100_249, 31:250_499, 31:500_999, 31:1000_1...test2: org.apache.spark.sql.DataFrame = [FIPS: string, Year: int ... 252 more fields]\n",
      "root\n",
      " |-- FIPS: string (nullable = true)\n",
      " |-- Year: integer (nullable = false)\n",
      " |-- 0:1_4: integer (nullable = false)\n",
      " |-- 0:5_9: integer (nullable = false)\n",
      " |-- 0:10_19: integer (nullable = false)\n",
      " |-- 0:20_49: integer (nullable = false)\n",
      " |-- 0:50_99: integer (nullable = false)\n",
      " |-- 0:100_249: integer (nullable = false)\n",
      " |-- 0:250_499: integer (nullable = false)\n",
      " |-- 0:500_999: integer (nullable = false)\n",
      " |-- 0:1000_1499: integer (nullable = false)\n",
      " |-- 0:1500_2499: integer (nullable = false)\n",
      " |-- 0:2500_4999: integer (nullable = false)\n",
      " |-- 0:5000plus: integer (nullable = false)\n",
      " |-- 11:1_4: integer (nullable = false)\n",
      " |-- 11:5_9: integer (nullable = false)\n",
      " |-- 11:10_19: integer (nullable = false)\n",
      " |-- 11:20_49: integer (nullable = false)\n",
      " |-- 11:50_99: integer (nullable = false)\n",
      " |-- 11:100_249: integer (nullable = false)\n",
      " |-- 11:250_499: integer (nullable = false)\n",
      " |-- 11:500_999: integer (nullable = false)\n",
      " |-- 11:1000_1499: integer (nullable = false)\n",
      " |-- 11:1500_2499: integer (nullable = false)\n",
      " |-- 11:2500_4999: integer (nullable = false)\n",
      " |-- 11:5000plus: integer (nullable = false)\n",
      " |-- 21:1_4: integer (nullable = false)\n",
      " |-- 21:5_9: integer (nullable = false)\n",
      " |-- 21:10_19: integer (nullable = false)\n",
      " |-- 21:20_49: integer (nullable = false)\n",
      " |-- 21:50_99: integer (nullable = false)\n",
      " |-- 21:100_249: integer (nullable = false)\n",
      " |-- 21:250_499: integer (nullable = false)\n",
      " |-- 21:500_999: integer (nullable = false)\n",
      " |-- 21:1000_1499: integer (nullable = false)\n",
      " |-- 21:1500_2499: integer (nullable = false)\n",
      " |-- 21:2500_4999: integer (nullable = false)\n",
      " |-- 21:5000plus: integer (nullable = false)\n",
      " |-- 22:1_4: integer (nullable = false)\n",
      " |-- 22:5_9: integer (nullable = false)\n",
      " |-- 22:10_19: integer (nullable = false)\n",
      " |-- 22:20_49: integer (nullable = false)\n",
      " |-- 22:50_99: integer (nullable = false)\n",
      " |-- 22:100_249: integer (nullable = false)\n",
      " |-- 22:250_499: integer (nullable = false)\n",
      " |-- 22:500_999: integer (nullable = false)\n",
      " |-- 22:1000_1499: integer (nullable = false)\n",
      " |-- 22:1500_2499: integer (nullable = false)\n",
      " |-- 22:2500_4999: integer (nullable = false)\n",
      " |-- 22:5000plus: integer (nullable = false)\n",
      " |-- 23:1_4: integer (nullable = false)\n",
      " |-- 23:5_9: integer (nullable = false)\n",
      " |-- 23:10_19: integer (nullable = false)\n",
      " |-- 23:20_49: integer (nullable = false)\n",
      " |-- 23:50_99: integer (nullable = false)\n",
      " |-- 23:100_249: integer (nullable = false)\n",
      " |-- 23:250_499: integer (nullable = false)\n",
      " |-- 23:500_999: integer (nullable = false)\n",
      " |-- 23:1000_1499: integer (nullable = false)\n",
      " |-- 23:1500_2499: integer (nullable = false)\n",
      " |-- 23:2500_4999: integer (nullable = false)\n",
      " |-- 23:5000plus: integer (nullable = false)\n",
      " |-- 31:1_4: integer (nullable = false)\n",
      " |-- 31:5_9: integer (nullable = false)\n",
      " |-- 31:10_19: integer (nullable = false)\n",
      " |-- 31:20_49: integer (nullable = false)\n",
      " |-- 31:50_99: integer (nullable = false)\n",
      " |-- 31:100_249: integer (nullable = false)\n",
      " |-- 31:250_499: integer (nullable = false)\n",
      " |-- 31:500_999: integer (nullable = false)\n",
      " |-- 31:1000_1499: integer (nullable = false)\n",
      " |-- 31:1500_2499: integer (nullable = false)\n",
      " |-- 31:2500_4999: integer (nullable = false)\n",
      " |-- 31:5000plus: integer (nullable = false)\n",
      " |-- 42:1_4: integer (nullable = false)\n",
      " |-- 42:5_9: integer (nullable = false)\n",
      " |-- 42:10_19: integer (nullable = false)\n",
      " |-- 42:20_49: integer (nullable = false)\n",
      " |-- 42:50_99: integer (nullable = false)\n",
      " |-- 42:100_249: integer (nullable = false)\n",
      " |-- 42:250_499: integer (nullable = false)\n",
      " |-- 42:500_999: integer (nullable = false)\n",
      " |-- 42:1000_1499: integer (nullable = false)\n",
      " |-- 42:1500_2499: integer (nullable = false)\n",
      " |-- 42:2500_4999: integer (nullable = false)\n",
      " |-- 42:5000plus: integer (nullable = false)\n",
      " |-- 44:1_4: integer (nullable = false)\n",
      " |-- 44:5_9: integer (nullable = false)\n",
      " |-- 44:10_19: integer (nullable = false)\n",
      " |-- 44:20_49: integer (nullable = false)\n",
      " |-- 44:50_99: integer (nullable = false)\n",
      " |-- 44:100_249: integer (nullable = false)\n",
      " |-- 44:250_499: integer (nullable = false)\n",
      " |-- 44:500_999: integer (nullable = false)\n",
      " |-- 44:1000_1499: integer (nullable = false)\n",
      " |-- 44:1500_2499: integer (nullable = false)\n",
      " |-- 44:2500_4999: integer (nullable = false)\n",
      " |-- 44:5000plus: integer (nullable = false)\n",
      " |-- 48:1_4: integer (nullable = false)\n",
      " |-- 48:5_9: integer (nullable = false)\n",
      " |-- 48:10_19: integer (nullable = false)\n",
      " |-- 48:20_49: integer (nullable = false)\n",
      " |-- 48:50_99: integer (nullable = false)\n",
      " |-- 48:100_249: integer (nullable = false)\n",
      " |-- 48:250_499: integer (nullable = false)\n",
      " |-- 48:500_999: integer (nullable = false)\n",
      " |-- 48:1000_1499: integer (nullable = false)\n",
      " |-- 48:1500_2499: integer (nullable = false)\n",
      " |-- 48:2500_4999: integer (nullable = false)\n",
      " |-- 48:5000plus: integer (nullable = false)\n",
      " |-- 51:1_4: integer (nullable = false)\n",
      " |-- 51:5_9: integer (nullable = false)\n",
      " |-- 51:10_19: integer (nullable = false)\n",
      " |-- 51:20_49: integer (nullable = false)\n",
      " |-- 51:50_99: integer (nullable = false)\n",
      " |-- 51:100_249: integer (nullable = false)\n",
      " |-- 51:250_499: integer (nullable = false)\n",
      " |-- 51:500_999: integer (nullable = false)\n",
      " |-- 51:1000_1499: integer (nullable = false)\n",
      " |-- 51:1500_2499: integer (nullable = false)\n",
      " |-- 51:2500_4999: integer (nullable = false)\n",
      " |-- 51:5000plus: integer (nullable = false)\n",
      " |-- 52:1_4: integer (nullable = false)\n",
      " |-- 52:5_9: integer (nullable = false)\n",
      " |-- 52:10_19: integer (nullable = false)\n",
      " |-- 52:20_49: integer (nullable = false)\n",
      " |-- 52:50_99: integer (nullable = false)\n",
      " |-- 52:100_249: integer (nullable = false)\n",
      " |-- 52:250_499: integer (nullable = false)\n",
      " |-- 52:500_999: integer (nullable = false)\n",
      " |-- 52:1000_1499: integer (nullable = false)\n",
      " |-- 52:1500_2499: integer (nullable = false)\n",
      " |-- 52:2500_4999: integer (nullable = false)\n",
      " |-- 52:5000plus: integer (nullable = false)\n",
      " |-- 53:1_4: integer (nullable = false)\n",
      " |-- 53:5_9: integer (nullable = false)\n",
      " |-- 53:10_19: integer (nullable = false)\n",
      " |-- 53:20_49: integer (nullable = false)\n",
      " |-- 53:50_99: integer (nullable = false)\n",
      " |-- 53:100_249: integer (nullable = false)\n",
      " |-- 53:250_499: integer (nullable = false)\n",
      " |-- 53:500_999: integer (nullable = false)\n",
      " |-- 53:1000_1499: integer (nullable = false)\n",
      " |-- 53:1500_2499: integer (nullable = false)\n",
      " |-- 53:2500_4999: integer (nullable = false)\n",
      " |-- 53:5000plus: integer (nullable = false)\n",
      " |-- 54:1_4: integer (nullable = false)\n",
      " |-- 54:5_9: integer (nullable = false)\n",
      " |-- 54:10_19: integer (nullable = false)\n",
      " |-- 54:20_49: integer (nullable = false)\n",
      " |-- 54:50_99: integer (nullable = false)\n",
      " |-- 54:100_249: integer (nullable = false)\n",
      " |-- 54:250_499: integer (nullable = false)\n",
      " |-- 54:500_999: integer (nullable = false)\n",
      " |-- 54:1000_1499: integer (nullable = false)\n",
      " |-- 54:1500_2499: integer (nullable = false)\n",
      " |-- 54:2500_4999: integer (nullable = false)\n",
      " |-- 54:5000plus: integer (nullable = false)\n",
      " |-- 55:1_4: integer (nullable = false)\n",
      " |-- 55:5_9: integer (nullable = false)\n",
      " |-- 55:10_19: integer (nullable = false)\n",
      " |-- 55:20_49: integer (nullable = false)\n",
      " |-- 55:50_99: integer (nullable = false)\n",
      " |-- 55:100_249: integer (nullable = false)\n",
      " |-- 55:250_499: integer (nullable = false)\n",
      " |-- 55:500_999: integer (nullable = false)\n",
      " |-- 55:1000_1499: integer (nullable = false)\n",
      " |-- 55:1500_2499: integer (nullable = false)\n",
      " |-- 55:2500_4999: integer (nullable = false)\n",
      " |-- 55:5000plus: integer (nullable = false)\n",
      " |-- 56:1_4: integer (nullable = false)\n",
      " |-- 56:5_9: integer (nullable = false)\n",
      " |-- 56:10_19: integer (nullable = false)\n",
      " |-- 56:20_49: integer (nullable = false)\n",
      " |-- 56:50_99: integer (nullable = false)\n",
      " |-- 56:100_249: integer (nullable = false)\n",
      " |-- 56:250_499: integer (nullable = false)\n",
      " |-- 56:500_999: integer (nullable = false)\n",
      " |-- 56:1000_1499: integer (nullable = false)\n",
      " |-- 56:1500_2499: integer (nullable = false)\n",
      " |-- 56:2500_4999: integer (nullable = false)\n",
      " |-- 56:5000plus: integer (nullable = false)\n",
      " |-- 61:1_4: integer (nullable = false)\n",
      " |-- 61:5_9: integer (nullable = false)\n",
      " |-- 61:10_19: integer (nullable = false)\n",
      " |-- 61:20_49: integer (nullable = false)\n",
      " |-- 61:50_99: integer (nullable = false)\n",
      " |-- 61:100_249: integer (nullable = false)\n",
      " |-- 61:250_499: integer (nullable = false)\n",
      " |-- 61:500_999: integer (nullable = false)\n",
      " |-- 61:1000_1499: integer (nullable = false)\n",
      " |-- 61:1500_2499: integer (nullable = false)\n",
      " |-- 61:2500_4999: integer (nullable = false)\n",
      " |-- 61:5000plus: integer (nullable = false)\n",
      " |-- 62:1_4: integer (nullable = false)\n",
      " |-- 62:5_9: integer (nullable = false)\n",
      " |-- 62:10_19: integer (nullable = false)\n",
      " |-- 62:20_49: integer (nullable = false)\n",
      " |-- 62:50_99: integer (nullable = false)\n",
      " |-- 62:100_249: integer (nullable = false)\n",
      " |-- 62:250_499: integer (nullable = false)\n",
      " |-- 62:500_999: integer (nullable = false)\n",
      " |-- 62:1000_1499: integer (nullable = false)\n",
      " |-- 62:1500_2499: integer (nullable = false)\n",
      " |-- 62:2500_4999: integer (nullable = false)\n",
      " |-- 62:5000plus: integer (nullable = false)\n",
      " |-- 71:1_4: integer (nullable = false)\n",
      " |-- 71:5_9: integer (nullable = false)\n",
      " |-- 71:10_19: integer (nullable = false)\n",
      " |-- 71:20_49: integer (nullable = false)\n",
      " |-- 71:50_99: integer (nullable = false)\n",
      " |-- 71:100_249: integer (nullable = false)\n",
      " |-- 71:250_499: integer (nullable = false)\n",
      " |-- 71:500_999: integer (nullable = false)\n",
      " |-- 71:1000_1499: integer (nullable = false)\n",
      " |-- 71:1500_2499: integer (nullable = false)\n",
      " |-- 71:2500_4999: integer (nullable = false)\n",
      " |-- 71:5000plus: integer (nullable = false)\n",
      " |-- 72:1_4: integer (nullable = false)\n",
      " |-- 72:5_9: integer (nullable = false)\n",
      " |-- 72:10_19: integer (nullable = false)\n",
      " |-- 72:20_49: integer (nullable = false)\n",
      " |-- 72:50_99: integer (nullable = false)\n",
      " |-- 72:100_249: integer (nullable = false)\n",
      " |-- 72:250_499: integer (nullable = false)\n",
      " |-- 72:500_999: integer (nullable = false)\n",
      " |-- 72:1000_1499: integer (nullable = false)\n",
      " |-- 72:1500_2499: integer (nullable = false)\n",
      " |-- 72:2500_4999: integer (nullable = false)\n",
      " |-- 72:5000plus: integer (nullable = false)\n",
      " |-- 81:1_4: integer (nullable = false)\n",
      " |-- 81:5_9: integer (nullable = false)\n",
      " |-- 81:10_19: integer (nullable = false)\n",
      " |-- 81:20_49: integer (nullable = false)\n",
      " |-- 81:50_99: integer (nullable = false)\n",
      " |-- 81:100_249: integer (nullable = false)\n",
      " |-- 81:250_499: integer (nullable = false)\n",
      " |-- 81:500_999: integer (nullable = false)\n",
      " |-- 81:1000_1499: integer (nullable = false)\n",
      " |-- 81:1500_2499: integer (nullable = false)\n",
      " |-- 81:2500_4999: integer (nullable = false)\n",
      " |-- 81:5000plus: integer (nullable = false)\n",
      " |-- 92:1_4: integer (nullable = false)\n",
      " |-- 92:5_9: integer (nullable = false)\n",
      " |-- 92:10_19: integer (nullable = false)\n",
      " |-- 92:20_49: integer (nullable = false)\n",
      " |-- 92:50_99: integer (nullable = false)\n",
      " |-- 92:100_249: integer (nullable = false)\n",
      " |-- 92:250_499: integer (nullable = false)\n",
      " |-- 92:500_999: integer (nullable = false)\n",
      " |-- 92:1000_1499: integer (nullable = false)\n",
      " |-- 92:1500_2499: integer (nullable = false)\n",
      " |-- 92:2500_4999: integer (nullable = false)\n",
      " |-- 92:5000plus: integer (nullable = false)\n",
      "\n",
      "finaltest2: org.apache.spark.sql.DataFrame = [FIPS: string, Year: int ... 322 more fields]\n",
      "root\n",
      " |-- FIPS: string (nullable = true)\n",
      " |-- Year: integer (nullable = true)\n",
      " |-- Population: integer (nullable = true)\n",
      " |-- Male: double (nullable = true)\n",
      " |-- Female: double (nullable = true)\n",
      " |-- Under_5: double (nullable = true)\n",
      " |-- 5_9: double (nullable = true)\n",
      " |-- 10_14: double (nullable = true)\n",
      " |-- 15_19: double (nullable = true)\n",
      " |-- 20_24: double (nullable = true)\n",
      " |-- 25_34: double (nullable = true)\n",
      " |-- 35_44: double (nullable = true)\n",
      " |-- 45_54: double (nullable = true)\n",
      " |-- 55_59: double (nullable = true)\n",
      " |-- 60_64: double (nullable = true)\n",
      " |-- 65_74: double (nullable = true)\n",
      " |-- 75_84: double (nullable = true)\n",
      " |-- 85plus: double (nullable = true)\n",
      " |-- One_Race: double (nullable = true)\n",
      " |-- Only_White: double (nullable = true)\n",
      " |-- Only_Black: double (nullable = true)\n",
      " |-- Only_Native: double (nullable = true)\n",
      " |-- Only_Cherokee: double (nullable = true)\n",
      " |-- Only_Chippewa: double (nullable = true)\n",
      " |-- Only_Navajo: double (nullable = true)\n",
      " |-- Only_Sioux: double (nullable = true)\n",
      " |-- Only_Asian: double (nullable = true)\n",
      " |-- Only_Indian: double (nullable = true)\n",
      " |-- Only_Chinese: double (nullable = true)\n",
      " |-- Only_Filipino: double (nullable = true)\n",
      " |-- Only_Japanese: double (nullable = true)\n",
      " |-- Only_Korean: double (nullable = true)\n",
      " |-- Only_Vietnamese: double (nullable = true)\n",
      " |-- Only_Asian_Other: double (nullable = true)\n",
      " |-- Only_Pacific: double (nullable = true)\n",
      " |-- Only_Hawaiian: double (nullable = true)\n",
      " |-- Only_Guamanian: double (nullable = true)\n",
      " |-- Only_Samoan: double (nullable = true)\n",
      " |-- Only_Pacific_Other: double (nullable = true)\n",
      " |-- Only_Other: double (nullable = true)\n",
      " |-- Twoplus_Races: double (nullable = true)\n",
      " |-- White_Black: double (nullable = true)\n",
      " |-- White_Native: double (nullable = true)\n",
      " |-- White_Asian: double (nullable = true)\n",
      " |-- Black_Native: double (nullable = true)\n",
      " |-- Pop_18_24: integer (nullable = true)\n",
      " |-- Less_HS_Grad_18_24: double (nullable = true)\n",
      " |-- HS_Grad_18_24: double (nullable = true)\n",
      " |-- Some_College_18_24: double (nullable = true)\n",
      " |-- Bachelor_18_24: double (nullable = true)\n",
      " |-- Pop_25plus: integer (nullable = true)\n",
      " |-- Less_9th_25plus: double (nullable = true)\n",
      " |-- 9_12th_25plus: double (nullable = true)\n",
      " |-- HS_Grad_25plus: double (nullable = true)\n",
      " |-- Some_College_25plus: double (nullable = true)\n",
      " |-- Associate_25plus: double (nullable = true)\n",
      " |-- Bachelor_25plus: double (nullable = true)\n",
      " |-- Gradplus_25plus: double (nullable = true)\n",
      " |-- Hispanic: double (nullable = true)\n",
      " |-- Mexican: double (nullable = true)\n",
      " |-- Puerto_Rican: double (nullable = true)\n",
      " |-- Cuban: double (nullable = true)\n",
      " |-- Hispanic_Other: double (nullable = true)\n",
      " |-- Not_Hispanic: double (nullable = true)\n",
      " |-- Number_of_returns: long (nullable = true)\n",
      " |-- Total_AGI: long (nullable = true)\n",
      " |-- White: double (nullable = true)\n",
      " |-- Black: double (nullable = true)\n",
      " |-- Native: double (nullable = true)\n",
      " |-- Asian: double (nullable = true)\n",
      " |-- Pacific: double (nullable = true)\n",
      " |-- Other: double (nullable = true)\n",
      " |-- 0:1_4: integer (nullable = false)\n",
      " |-- 0:5_9: integer (nullable = false)\n",
      " |-- 0:10_19: integer (nullable = false)\n",
      " |-- 0:20_49: integer (nullable = false)\n",
      " |-- 0:50_99: integer (nullable = false)\n",
      " |-- 0:100_249: integer (nullable = false)\n",
      " |-- 0:250_499: integer (nullable = false)\n",
      " |-- 0:500_999: integer (nullable = false)\n",
      " |-- 0:1000_1499: integer (nullable = false)\n",
      " |-- 0:1500_2499: integer (nullable = false)\n",
      " |-- 0:2500_4999: integer (nullable = false)\n",
      " |-- 0:5000plus: integer (nullable = false)\n",
      " |-- 11:1_4: integer (nullable = false)\n",
      " |-- 11:5_9: integer (nullable = false)\n",
      " |-- 11:10_19: integer (nullable = false)\n",
      " |-- 11:20_49: integer (nullable = false)\n",
      " |-- 11:50_99: integer (nullable = false)\n",
      " |-- 11:100_249: integer (nullable = false)\n",
      " |-- 11:250_499: integer (nullable = false)\n",
      " |-- 11:500_999: integer (nullable = false)\n",
      " |-- 11:1000_1499: integer (nullable = false)\n",
      " |-- 11:1500_2499: integer (nullable = false)\n",
      " |-- 11:2500_4999: integer (nullable = false)\n",
      " |-- 11:5000plus: integer (nullable = false)\n",
      " |-- 21:1_4: integer (nullable = false)\n",
      " |-- 21:5_9: integer (nullable = false)\n",
      " |-- 21:10_19: integer (nullable = false)\n",
      " |-- 21:20_49: integer (nullable = false)\n",
      " |-- 21:50_99: integer (nullable = false)\n",
      " |-- 21:100_249: integer (nullable = false)\n",
      " |-- 21:250_499: integer (nullable = false)\n",
      " |-- 21:500_999: integer (nullable = false)\n",
      " |-- 21:1000_1499: integer (nullable = false)\n",
      " |-- 21:1500_2499: integer (nullable = false)\n",
      " |-- 21:2500_4999: integer (nullable = false)\n",
      " |-- 21:5000plus: integer (nullable = false)\n",
      " |-- 22:1_4: integer (nullable = false)\n",
      " |-- 22:5_9: integer (nullable = false)\n",
      " |-- 22:10_19: integer (nullable = false)\n",
      " |-- 22:20_49: integer (nullable = false)\n",
      " |-- 22:50_99: integer (nullable = false)\n",
      " |-- 22:100_249: integer (nullable = false)\n",
      " |-- 22:250_499: integer (nullable = false)\n",
      " |-- 22:500_999: integer (nullable = false)\n",
      " |-- 22:1000_1499: integer (nullable = false)\n",
      " |-- 22:1500_2499: integer (nullable = false)\n",
      " |-- 22:2500_4999: integer (nullable = false)\n",
      " |-- 22:5000plus: integer (nullable = false)\n",
      " |-- 23:1_4: integer (nullable = false)\n",
      " |-- 23:5_9: integer (nullable = false)\n",
      " |-- 23:10_19: integer (nullable = false)\n",
      " |-- 23:20_49: integer (nullable = false)\n",
      " |-- 23:50_99: integer (nullable = false)\n",
      " |-- 23:100_249: integer (nullable = false)\n",
      " |-- 23:250_499: integer (nullable = false)\n",
      " |-- 23:500_999: integer (nullable = false)\n",
      " |-- 23:1000_1499: integer (nullable = false)\n",
      " |-- 23:1500_2499: integer (nullable = false)\n",
      " |-- 23:2500_4999: integer (nullable = false)\n",
      " |-- 23:5000plus: integer (nullable = false)\n",
      " |-- 31:1_4: integer (nullable = false)\n",
      " |-- 31:5_9: integer (nullable = false)\n",
      " |-- 31:10_19: integer (nullable = false)\n",
      " |-- 31:20_49: integer (nullable = false)\n",
      " |-- 31:50_99: integer (nullable = false)\n",
      " |-- 31:100_249: integer (nullable = false)\n",
      " |-- 31:250_499: integer (nullable = false)\n",
      " |-- 31:500_999: integer (nullable = false)\n",
      " |-- 31:1000_1499: integer (nullable = false)\n",
      " |-- 31:1500_2499: integer (nullable = false)\n",
      " |-- 31:2500_4999: integer (nullable = false)\n",
      " |-- 31:5000plus: integer (nullable = false)\n",
      " |-- 42:1_4: integer (nullable = false)\n",
      " |-- 42:5_9: integer (nullable = false)\n",
      " |-- 42:10_19: integer (nullable = false)\n",
      " |-- 42:20_49: integer (nullable = false)\n",
      " |-- 42:50_99: integer (nullable = false)\n",
      " |-- 42:100_249: integer (nullable = false)\n",
      " |-- 42:250_499: integer (nullable = false)\n",
      " |-- 42:500_999: integer (nullable = false)\n",
      " |-- 42:1000_1499: integer (nullable = false)\n",
      " |-- 42:1500_2499: integer (nullable = false)\n",
      " |-- 42:2500_4999: integer (nullable = false)\n",
      " |-- 42:5000plus: integer (nullable = false)\n",
      " |-- 44:1_4: integer (nullable = false)\n",
      " |-- 44:5_9: integer (nullable = false)\n",
      " |-- 44:10_19: integer (nullable = false)\n",
      " |-- 44:20_49: integer (nullable = false)\n",
      " |-- 44:50_99: integer (nullable = false)\n",
      " |-- 44:100_249: integer (nullable = false)\n",
      " |-- 44:250_499: integer (nullable = false)\n",
      " |-- 44:500_999: integer (nullable = false)\n",
      " |-- 44:1000_1499: integer (nullable = false)\n",
      " |-- 44:1500_2499: integer (nullable = false)\n",
      " |-- 44:2500_4999: integer (nullable = false)\n",
      " |-- 44:5000plus: integer (nullable = false)\n",
      " |-- 48:1_4: integer (nullable = false)\n",
      " |-- 48:5_9: integer (nullable = false)\n",
      " |-- 48:10_19: integer (nullable = false)\n",
      " |-- 48:20_49: integer (nullable = false)\n",
      " |-- 48:50_99: integer (nullable = false)\n",
      " |-- 48:100_249: integer (nullable = false)\n",
      " |-- 48:250_499: integer (nullable = false)\n",
      " |-- 48:500_999: integer (nullable = false)\n",
      " |-- 48:1000_1499: integer (nullable = false)\n",
      " |-- 48:1500_2499: integer (nullable = false)\n",
      " |-- 48:2500_4999: integer (nullable = false)\n",
      " |-- 48:5000plus: integer (nullable = false)\n",
      " |-- 51:1_4: integer (nullable = false)\n",
      " |-- 51:5_9: integer (nullable = false)\n",
      " |-- 51:10_19: integer (nullable = false)\n",
      " |-- 51:20_49: integer (nullable = false)\n",
      " |-- 51:50_99: integer (nullable = false)\n",
      " |-- 51:100_249: integer (nullable = false)\n",
      " |-- 51:250_499: integer (nullable = false)\n",
      " |-- 51:500_999: integer (nullable = false)\n",
      " |-- 51:1000_1499: integer (nullable = false)\n",
      " |-- 51:1500_2499: integer (nullable = false)\n",
      " |-- 51:2500_4999: integer (nullable = false)\n",
      " |-- 51:5000plus: integer (nullable = false)\n",
      " |-- 52:1_4: integer (nullable = false)\n",
      " |-- 52:5_9: integer (nullable = false)\n",
      " |-- 52:10_19: integer (nullable = false)\n",
      " |-- 52:20_49: integer (nullable = false)\n",
      " |-- 52:50_99: integer (nullable = false)\n",
      " |-- 52:100_249: integer (nullable = false)\n",
      " |-- 52:250_499: integer (nullable = false)\n",
      " |-- 52:500_999: integer (nullable = false)\n",
      " |-- 52:1000_1499: integer (nullable = false)\n",
      " |-- 52:1500_2499: integer (nullable = false)\n",
      " |-- 52:2500_4999: integer (nullable = false)\n",
      " |-- 52:5000plus: integer (nullable = false)\n",
      " |-- 53:1_4: integer (nullable = false)\n",
      " |-- 53:5_9: integer (nullable = false)\n",
      " |-- 53:10_19: integer (nullable = false)\n",
      " |-- 53:20_49: integer (nullable = false)\n",
      " |-- 53:50_99: integer (nullable = false)\n",
      " |-- 53:100_249: integer (nullable = false)\n",
      " |-- 53:250_499: integer (nullable = false)\n",
      " |-- 53:500_999: integer (nullable = false)\n",
      " |-- 53:1000_1499: integer (nullable = false)\n",
      " |-- 53:1500_2499: integer (nullable = false)\n",
      " |-- 53:2500_4999: integer (nullable = false)\n",
      " |-- 53:5000plus: integer (nullable = false)\n",
      " |-- 54:1_4: integer (nullable = false)\n",
      " |-- 54:5_9: integer (nullable = false)\n",
      " |-- 54:10_19: integer (nullable = false)\n",
      " |-- 54:20_49: integer (nullable = false)\n",
      " |-- 54:50_99: integer (nullable = false)\n",
      " |-- 54:100_249: integer (nullable = false)\n",
      " |-- 54:250_499: integer (nullable = false)\n",
      " |-- 54:500_999: integer (nullable = false)\n",
      " |-- 54:1000_1499: integer (nullable = false)\n",
      " |-- 54:1500_2499: integer (nullable = false)\n",
      " |-- 54:2500_4999: integer (nullable = false)\n",
      " |-- 54:5000plus: integer (nullable = false)\n",
      " |-- 55:1_4: integer (nullable = false)\n",
      " |-- 55:5_9: integer (nullable = false)\n",
      " |-- 55:10_19: integer (nullable = false)\n",
      " |-- 55:20_49: integer (nullable = false)\n",
      " |-- 55:50_99: integer (nullable = false)\n",
      " |-- 55:100_249: integer (nullable = false)\n",
      " |-- 55:250_499: integer (nullable = false)\n",
      " |-- 55:500_999: integer (nullable = false)\n",
      " |-- 55:1000_1499: integer (nullable = false)\n",
      " |-- 55:1500_2499: integer (nullable = false)\n",
      " |-- 55:2500_4999: integer (nullable = false)\n",
      " |-- 55:5000plus: integer (nullable = false)\n",
      " |-- 56:1_4: integer (nullable = false)\n",
      " |-- 56:5_9: integer (nullable = false)\n",
      " |-- 56:10_19: integer (nullable = false)\n",
      " |-- 56:20_49: integer (nullable = false)\n",
      " |-- 56:50_99: integer (nullable = false)\n",
      " |-- 56:100_249: integer (nullable = false)\n",
      " |-- 56:250_499: integer (nullable = false)\n",
      " |-- 56:500_999: integer (nullable = false)\n",
      " |-- 56:1000_1499: integer (nullable = false)\n",
      " |-- 56:1500_2499: integer (nullable = false)\n",
      " |-- 56:2500_4999: integer (nullable = false)\n",
      " |-- 56:5000plus: integer (nullable = false)\n",
      " |-- 61:1_4: integer (nullable = false)\n",
      " |-- 61:5_9: integer (nullable = false)\n",
      " |-- 61:10_19: integer (nullable = false)\n",
      " |-- 61:20_49: integer (nullable = false)\n",
      " |-- 61:50_99: integer (nullable = false)\n",
      " |-- 61:100_249: integer (nullable = false)\n",
      " |-- 61:250_499: integer (nullable = false)\n",
      " |-- 61:500_999: integer (nullable = false)\n",
      " |-- 61:1000_1499: integer (nullable = false)\n",
      " |-- 61:1500_2499: integer (nullable = false)\n",
      " |-- 61:2500_4999: integer (nullable = false)\n",
      " |-- 61:5000plus: integer (nullable = false)\n",
      " |-- 62:1_4: integer (nullable = false)\n",
      " |-- 62:5_9: integer (nullable = false)\n",
      " |-- 62:10_19: integer (nullable = false)\n",
      " |-- 62:20_49: integer (nullable = false)\n",
      " |-- 62:50_99: integer (nullable = false)\n",
      " |-- 62:100_249: integer (nullable = false)\n",
      " |-- 62:250_499: integer (nullable = false)\n",
      " |-- 62:500_999: integer (nullable = false)\n",
      " |-- 62:1000_1499: integer (nullable = false)\n",
      " |-- 62:1500_2499: integer (nullable = false)\n",
      " |-- 62:2500_4999: integer (nullable = false)\n",
      " |-- 62:5000plus: integer (nullable = false)\n",
      " |-- 71:1_4: integer (nullable = false)\n",
      " |-- 71:5_9: integer (nullable = false)\n",
      " |-- 71:10_19: integer (nullable = false)\n",
      " |-- 71:20_49: integer (nullable = false)\n",
      " |-- 71:50_99: integer (nullable = false)\n",
      " |-- 71:100_249: integer (nullable = false)\n",
      " |-- 71:250_499: integer (nullable = false)\n",
      " |-- 71:500_999: integer (nullable = false)\n",
      " |-- 71:1000_1499: integer (nullable = false)\n",
      " |-- 71:1500_2499: integer (nullable = false)\n",
      " |-- 71:2500_4999: integer (nullable = false)\n",
      " |-- 71:5000plus: integer (nullable = false)\n",
      " |-- 72:1_4: integer (nullable = false)\n",
      " |-- 72:5_9: integer (nullable = false)\n",
      " |-- 72:10_19: integer (nullable = false)\n",
      " |-- 72:20_49: integer (nullable = false)\n",
      " |-- 72:50_99: integer (nullable = false)\n",
      " |-- 72:100_249: integer (nullable = false)\n",
      " |-- 72:250_499: integer (nullable = false)\n",
      " |-- 72:500_999: integer (nullable = false)\n",
      " |-- 72:1000_1499: integer (nullable = false)\n",
      " |-- 72:1500_2499: integer (nullable = false)\n",
      " |-- 72:2500_4999: integer (nullable = false)\n",
      " |-- 72:5000plus: integer (nullable = false)\n",
      " |-- 81:1_4: integer (nullable = false)\n",
      " |-- 81:5_9: integer (nullable = false)\n",
      " |-- 81:10_19: integer (nullable = false)\n",
      " |-- 81:20_49: integer (nullable = false)\n",
      " |-- 81:50_99: integer (nullable = false)\n",
      " |-- 81:100_249: integer (nullable = false)\n",
      " |-- 81:250_499: integer (nullable = false)\n",
      " |-- 81:500_999: integer (nullable = false)\n",
      " |-- 81:1000_1499: integer (nullable = false)\n",
      " |-- 81:1500_2499: integer (nullable = false)\n",
      " |-- 81:2500_4999: integer (nullable = false)\n",
      " |-- 81:5000plus: integer (nullable = false)\n",
      " |-- 92:1_4: integer (nullable = false)\n",
      " |-- 92:5_9: integer (nullable = false)\n",
      " |-- 92:10_19: integer (nullable = false)\n",
      " |-- 92:20_49: integer (nullable = false)\n",
      " |-- 92:50_99: integer (nullable = false)\n",
      " |-- 92:100_249: integer (nullable = false)\n",
      " |-- 92:250_499: integer (nullable = false)\n",
      " |-- 92:500_999: integer (nullable = false)\n",
      " |-- 92:1000_1499: integer (nullable = false)\n",
      " |-- 92:1500_2499: integer (nullable = false)\n",
      " |-- 92:2500_4999: integer (nullable = false)\n",
      " |-- 92:5000plus: integer (nullable = false)\n",
      "\n"
     ]
    }
   ],
   "source": [
    "val naics = Seq(0, 11, 21, 22, 23, 31, 42, 44, 48, 51, 52, 53, 54, 55, 56, 61, 62, 71, 72, 81, 92)\n",
    "val sizes = makeSizeSeq(Seq(\"1_4\", \"5_9\", \"10_19\", \"20_49\", \"50_99\", \"100_249\", \"250_499\", \"500_999\", \"1000_1499\", \"1500_2499\", \"2500_4999\", \"5000plus\"))\n",
    "val naicsSizes = for {n <- naics; s <- sizes; if (s != null)} yield n + \":\" + s\n",
    "val unpack = \"Year\" +: naicsSizes\n",
    "val test2 = unpackNAICSMap(finalTable, \"Maps\", naics, sizes).select(\"FIPS\", unpack: _*)\n",
    "test2.printSchema\n",
    "val finaltest2 = finalTable.\n",
    "    drop(\"Maps\").\n",
    "    join(test2, Seq(\"FIPS\", \"Year\"), \"inner\")\n",
    "finaltest2.printSchema"
   ]
  },
  {
   "cell_type": "code",
   "execution_count": 10,
   "metadata": {},
   "outputs": [
    {
     "data": {
      "application/vnd.jupyter.widget-view+json": {
       "model_id": "c45ea0624ef947019424f8b2f26cc66a",
       "version_major": 2,
       "version_minor": 0
      },
      "text/plain": [
       "VBox()"
      ]
     },
     "metadata": {},
     "output_type": "display_data"
    },
    {
     "data": {
      "application/vnd.jupyter.widget-view+json": {
       "model_id": "",
       "version_major": 2,
       "version_minor": 0
      },
      "text/plain": [
       "FloatProgress(value=0.0, bar_style='info', description='Progress:', layout=Layout(height='25px', width='50%'),…"
      ]
     },
     "metadata": {},
     "output_type": "display_data"
    },
    {
     "name": "stdout",
     "output_type": "stream",
     "text": [
      "import org.apache.spark.ml.feature.VectorAssembler\n",
      "import org.apache.spark.ml.linalg.{Matrix, Vectors}\n",
      "import org.apache.spark.ml.stat.Correlation\n",
      "import org.apache.spark.sql.Row\n",
      "assembler: org.apache.spark.ml.feature.VectorAssembler = vecAssembler_849b34e7dd5c\n",
      "computeCorrelationOfMe: org.apache.spark.sql.DataFrame = [features: vector]\n",
      "coeff1: org.apache.spark.ml.linalg.Matrix =\n",
      "1.0                     -0.10962190297515613    ... (322 total)\n",
      "-0.10962190297515613    1.0                     ...\n",
      "0.10961880124660892     -0.999999799620711      ...\n",
      "0.08675043031117285     -0.1310735909776316     ...\n",
      "0.0431916265161201      -0.1637603435619562     ...\n",
      "0.013623595460029204    -0.17605289924896428    ...\n",
      "0.028890251254482788    -0.12002776526170887    ...\n",
      "0.09693970035504364     0.04915861202987477     ...\n",
      "0.26767654534019863     0.26991213662548197     ...\n",
      "0.1998669744914176      0.19398985151798        ...\n",
      "-0.023462809580194675   0.06538028061957725     ...\n",
      "-0.15099021298289605    0.03172780338496154     ...\n",
      "-0.17423047039098227    -0.04815010580253954    ...\n",
      "-0.2073827955140303     -0.05950735216063735    ...\n",
      "-0.1898755806..."
     ]
    }
   ],
   "source": [
    "import org.apache.spark.ml.feature.VectorAssembler\n",
    "import org.apache.spark.ml.linalg.{Matrix, Vectors}\n",
    "import org.apache.spark.ml.stat.Correlation\n",
    "import org.apache.spark.sql.Row\n",
    "\n",
    "val assembler = new VectorAssembler().\n",
    "  setInputCols(finaltest2.drop(\"FIPS\").drop(\"Year\").columns).\n",
    "  setOutputCol(\"features\")\n",
    "val computeCorrelationOfMe = assembler.transform(finaltest2.drop(\"FIPS\").drop(\"Year\")).select(\"features\")\n",
    "val Row(coeff1: Matrix) = Correlation.corr(computeCorrelationOfMe, \"features\").head"
   ]
  },
  {
   "cell_type": "code",
   "execution_count": null,
   "metadata": {},
   "outputs": [],
   "source": [
    "import org.apache.spark.ml.linalg.Matrices\n",
    "val matrix = Matrices.dense(3,3, Array(1.0, 2.0, 3.0, 4.0, 5.0, 6.0, 7.0, 8.0, 9.0))\n",
    "val cols = Seq(\"A\",\"B\", \"C\")\n",
    "var newSchema = List(StructField(\"\", StringType, false))\n",
    "for (col <- cols) {\n",
    "    newSchema = newSchema :+ StructField(col, DoubleType, true)\n",
    "}\n",
    "var newTableAsSeq = Seq[Seq[Any]]()\n",
    "for ((row, col) <- matrix.rowIter.zip(cols.iterator)) {\n",
    "    newTableAsSeq = newTableAsSeq :+ (Seq(col) ++ row.toArray.toSeq)\n",
    "}\n",
    "val t = newTableAsSeq.map(Row(_:_*))\n",
    "val someDF = spark.createDataFrame(\n",
    "    spark.sparkContext.parallelize(t),\n",
    "    StructType(newSchema)\n",
    ")"
   ]
  },
  {
   "cell_type": "code",
   "execution_count": null,
   "metadata": {},
   "outputs": [],
   "source": [
    "def matrixToDF(mat:Matrix, cols:Array[String]) = {\n",
    "    \n",
    "    var newSchema = List[StructField](StructField(\"label\", StringType, false))\n",
    "    for (col <- cols) {\n",
    "        newSchema = newSchema :+ StructField(col, DoubleType, true)\n",
    "    }\n",
    "    \n",
    "        \n",
    "    var newTableAsSeq = Seq[Seq[Any]]()\n",
    "    for ((row, col) <- mat.rowIter.zip(cols.iterator)) {\n",
    "        newTableAsSeq = newTableAsSeq :+ (Seq(col) ++ row.toArray.toSeq)\n",
    "    }\n",
    "    \n",
    "    val t = newTableAsSeq.map(Row(_:_*))\n",
    "    val someDF = spark.createDataFrame(\n",
    "        spark.sparkContext.parallelize(t),\n",
    "        StructType(newSchema)\n",
    "    )\n",
    "    someDF\n",
    "}"
   ]
  },
  {
   "cell_type": "code",
   "execution_count": null,
   "metadata": {},
   "outputs": [],
   "source": [
    "val corrMatrix = matrixToDF(coeff1, finaltest2.drop(\"FIPS\").drop(\"Year\").columns)"
   ]
  },
  {
   "cell_type": "code",
   "execution_count": null,
   "metadata": {},
   "outputs": [],
   "source": [
    "import org.apache.spark.sql.functions.udf\n",
    "def viewCorr(corrMatrix:DataFrame, features:Seq[String]) = {\n",
    "    val fil = udf((label:String) => features.contains(label))\n",
    "    corrMatrix.select(\"label\", features.sorted:_*).filter(fil($\"label\")).orderBy(\"label\").show(features.size, false)\n",
    "}"
   ]
  },
  {
   "cell_type": "code",
   "execution_count": null,
   "metadata": {},
   "outputs": [],
   "source": [
    "viewCorr(corrMatrix, Seq(\"Total_AGI\", \"Bachelor_18_24\", \"Black\", \"22:1000_1499\"))"
   ]
  },
  {
   "cell_type": "code",
   "execution_count": null,
   "metadata": {},
   "outputs": [],
   "source": []
  }
 ],
 "metadata": {
  "kernelspec": {
   "display_name": "Spark",
   "language": "",
   "name": "sparkkernel"
  },
  "language_info": {
   "codemirror_mode": "text/x-scala",
   "mimetype": "text/x-scala",
   "name": "scala",
   "pygments_lexer": "scala"
  }
 },
 "nbformat": 4,
 "nbformat_minor": 4
}
