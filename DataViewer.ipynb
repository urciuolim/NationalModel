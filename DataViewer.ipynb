{
 "cells": [
  {
   "cell_type": "code",
   "execution_count": 1,
   "metadata": {},
   "outputs": [
    {
     "data": {
      "application/vnd.jupyter.widget-view+json": {
       "model_id": "c54448252548421a955a6d5e707af99f",
       "version_major": 2,
       "version_minor": 0
      },
      "text/plain": [
       "VBox()"
      ]
     },
     "metadata": {},
     "output_type": "display_data"
    },
    {
     "name": "stdout",
     "output_type": "stream",
     "text": [
      "Starting Spark application\n"
     ]
    },
    {
     "data": {
      "text/html": [
       "<table>\n",
       "<tr><th>ID</th><th>YARN Application ID</th><th>Kind</th><th>State</th><th>Spark UI</th><th>Driver log</th><th>Current session?</th></tr><tr><td>0</td><td>application_1598555940382_0001</td><td>spark</td><td>idle</td><td><a target=\"_blank\" href=\"http://ip-172-31-36-204.us-east-2.compute.internal:20888/proxy/application_1598555940382_0001/\">Link</a></td><td><a target=\"_blank\" href=\"http://ip-172-31-36-32.us-east-2.compute.internal:8042/node/containerlogs/container_1598555940382_0001_01_000001/livy\">Link</a></td><td>✔</td></tr></table>"
      ],
      "text/plain": [
       "<IPython.core.display.HTML object>"
      ]
     },
     "metadata": {},
     "output_type": "display_data"
    },
    {
     "data": {
      "application/vnd.jupyter.widget-view+json": {
       "model_id": "",
       "version_major": 2,
       "version_minor": 0
      },
      "text/plain": [
       "FloatProgress(value=0.0, bar_style='info', description='Progress:', layout=Layout(height='25px', width='50%'),…"
      ]
     },
     "metadata": {},
     "output_type": "display_data"
    },
    {
     "name": "stdout",
     "output_type": "stream",
     "text": [
      "SparkSession available as 'spark'.\n"
     ]
    },
    {
     "data": {
      "application/vnd.jupyter.widget-view+json": {
       "model_id": "",
       "version_major": 2,
       "version_minor": 0
      },
      "text/plain": [
       "FloatProgress(value=0.0, bar_style='info', description='Progress:', layout=Layout(height='25px', width='50%'),…"
      ]
     },
     "metadata": {},
     "output_type": "display_data"
    },
    {
     "name": "stdout",
     "output_type": "stream",
     "text": [
      "columns: scala.collection.immutable.Map[String,Seq[String]] = Map(Census_Business_Patterns -> List(FIPS, Year, Maps), Complex_Race -> List(FIPS, Year, One_Race, Only_White, Only_Black, Only_Native, Only_Cherokee, Only_Chippewa, Only_Navajo, Only_Sioux, Only_Asian, Only_Indian, Only_Chinese, Only_Filipino, Only_Japanese, Only_Korean, Only_Vietnamese, Only_Asian_Other, Only_Pacific, Only_Hawaiian, Only_Guamanian, Only_Samoan, Only_Pacific_Other, Only_Other, Twoplus_Races, White_Black, White_Native, White_Asian, Black_Native), Simple_Race -> List(FIPS, Year, White, Black, Native, Asian, Pacific, Other), Hispanic -> List(FIPS, Year, Hispanic, Mexican, Puerto_Rican, Cuban, Hispanic_Other, Not_Hispanic), Educational_Attainment -> List(FIPS, Year, Pop_18_24, Less_HS_Grad_18_24, HS_Grad_18_24, ...finalTable: org.apache.spark.sql.DataFrame = [FIPS: string, Year: int ... 71 more fields]\n"
     ]
    }
   ],
   "source": [
    "val columns = spark.read.parquet(\"s3://agimodeltrainer/Clean_Data/ColumnMap.parquet\").as[(String, Seq[String])].collect.toMap\n",
    "val finalTable = spark.read.parquet(\"s3://agimodeltrainer/Clean_Data/FinalTable.parquet\")"
   ]
  },
  {
   "cell_type": "code",
   "execution_count": 92,
   "metadata": {},
   "outputs": [
    {
     "data": {
      "application/vnd.jupyter.widget-view+json": {
       "model_id": "885051a110e44218842f1c6418ec07a9",
       "version_major": 2,
       "version_minor": 0
      },
      "text/plain": [
       "VBox()"
      ]
     },
     "metadata": {},
     "output_type": "display_data"
    },
    {
     "data": {
      "application/vnd.jupyter.widget-view+json": {
       "model_id": "",
       "version_major": 2,
       "version_minor": 0
      },
      "text/plain": [
       "FloatProgress(value=0.0, bar_style='info', description='Progress:', layout=Layout(height='25px', width='50%'),…"
      ]
     },
     "metadata": {},
     "output_type": "display_data"
    },
    {
     "name": "stdout",
     "output_type": "stream",
     "text": [
      "import org.apache.spark.sql._\n",
      "import org.apache.spark.sql.types._\n",
      "customSummary: (table: org.apache.spark.sql.DataFrame, columns: Seq[String], aggs: Seq[String])Unit\n"
     ]
    }
   ],
   "source": [
    "import org.apache.spark.sql._\n",
    "import org.apache.spark.sql.types._\n",
    "\n",
    "def customSummary(table:DataFrame, columns:Seq[String], aggs:Seq[String]) = {\n",
    "    val newTable = new Array[Array[String]](aggs.size)\n",
    "    var newSchema = List(StructField(\"\", StringType, false))\n",
    "    for ((col, i) <- columns.zipWithIndex) {\n",
    "        newSchema = newSchema :+ StructField(col, StringType, false)\n",
    "    }\n",
    "    \n",
    "    for ((agg, i) <- aggs.zipWithIndex) {\n",
    "        newTable(i) = new Array[String](columns.size+1)\n",
    "        newTable(i)(0) = agg\n",
    "        val flag = !agg.contains('%')\n",
    "        for ((col, j) <- columns.zipWithIndex) {\n",
    "            val temp1 = if (flag) {\n",
    "                table.select(expr(s\"${agg}(${col})\")).collect.head\n",
    "            } else {\n",
    "                val columnArray = table.select(col).orderBy(col).map(_.get(0).toString).collect\n",
    "                val percent = agg.substring(0, agg.indexOf('%')).toDouble/100.0\n",
    "                val index = Math.round((columnArray.length-1) * percent).toInt\n",
    "                Row(columnArray(index))\n",
    "            }\n",
    "            newTable(i)(j+1) = try {\n",
    "                temp1.getInt(0).toString\n",
    "            } catch {\n",
    "                case e: ClassCastException => try {\n",
    "                    temp1.getLong(0).toString\n",
    "                } catch {\n",
    "                    case e: ClassCastException => try {\n",
    "                        f\"${temp1.getDouble(0)}%1.2f\"\n",
    "                    } catch {\n",
    "                        case e: ClassCastException => temp1.getString(0)\n",
    "                    }\n",
    "                }\n",
    "            }\n",
    "        }\n",
    "    }\n",
    "    val t = newTable.toSeq.map(Row(_:_*))\n",
    "    val someDF = spark.createDataFrame(\n",
    "        spark.sparkContext.parallelize(t),\n",
    "        StructType(newSchema)\n",
    "    )\n",
    "    someDF.show\n",
    "}"
   ]
  },
  {
   "cell_type": "code",
   "execution_count": 70,
   "metadata": {},
   "outputs": [
    {
     "data": {
      "application/vnd.jupyter.widget-view+json": {
       "model_id": "7b4195ad1e1941598a481ac3cef8591f",
       "version_major": 2,
       "version_minor": 0
      },
      "text/plain": [
       "VBox()"
      ]
     },
     "metadata": {},
     "output_type": "display_data"
    },
    {
     "data": {
      "application/vnd.jupyter.widget-view+json": {
       "model_id": "",
       "version_major": 2,
       "version_minor": 0
      },
      "text/plain": [
       "FloatProgress(value=0.0, bar_style='info', description='Progress:', layout=Layout(height='25px', width='50%'),…"
      ]
     },
     "metadata": {},
     "output_type": "display_data"
    },
    {
     "name": "stdout",
     "output_type": "stream",
     "text": [
      "selected: Seq[String] = List(FIPS, Year, White, Black, Native, Asian, Pacific, Other)\n",
      "+-------+------------------+------------------+-----------------+------------------+-----------------+------------------+-------------------+------------------+\n",
      "|summary|              FIPS|              Year|            White|             Black|           Native|             Asian|            Pacific|             Other|\n",
      "+-------+------------------+------------------+-----------------+------------------+-----------------+------------------+-------------------+------------------+\n",
      "|  count|             21972|             21972|            21972|             21972|            21972|             21972|              21972|             21972|\n",
      "|   mean| 30393.87233752048|2014.0003640997634|85.61506007646088| 9.718728381576552|2.883783906790462|1.6029127981066897|0.17578281449117472|2.2876661205170272|\n",
      "| stddev|15153.499264321712|1.9998861772627188| 16.3791392499106|14.657830440780335|8.109682410891063| 3.192560203460612| 1.0172192789519472| 3.747974541489681|\n",
      "|    min|             01001|              2011|              3.8|               0.0|              0.0|               0.0|                0.0|               0.0|\n",
      "|    25%|           18179.0|              2012|             80.0|               1.0|              0.6|               0.4|                0.0|               0.4|\n",
      "|    50%|           29177.0|              2014|             92.4|               2.9|              1.0|               0.8|                0.1|               1.0|\n",
      "|    75%|           45081.0|              2016|             97.1|              11.5|              1.9|               1.6|                0.2|               2.5|\n",
      "|    max|             56045|              2017|            100.0|              87.2|             96.0|              61.7|               34.3|              58.8|\n",
      "+-------+------------------+------------------+-----------------+------------------+-----------------+------------------+-------------------+------------------+\n",
      "\n"
     ]
    }
   ],
   "source": [
    "val selected = columns(\"Simple_Race\")//.diff(Seq(\"FIPS\", \"Year\"))\n",
    "finalTable.select(selected.head, selected.tail: _*).summary().show"
   ]
  },
  {
   "cell_type": "code",
   "execution_count": 93,
   "metadata": {},
   "outputs": [
    {
     "data": {
      "application/vnd.jupyter.widget-view+json": {
       "model_id": "a7cbbd21fb814e52bda2600214765cee",
       "version_major": 2,
       "version_minor": 0
      },
      "text/plain": [
       "VBox()"
      ]
     },
     "metadata": {},
     "output_type": "display_data"
    },
    {
     "data": {
      "application/vnd.jupyter.widget-view+json": {
       "model_id": "",
       "version_major": 2,
       "version_minor": 0
      },
      "text/plain": [
       "FloatProgress(value=0.0, bar_style='info', description='Progress:', layout=Layout(height='25px', width='50%'),…"
      ]
     },
     "metadata": {},
     "output_type": "display_data"
    },
    {
     "name": "stdout",
     "output_type": "stream",
     "text": [
      "+------+--------+-------+------+-----+------+-----+-------+-----+\n",
      "|      |    FIPS|   Year| White|Black|Native|Asian|Pacific|Other|\n",
      "+------+--------+-------+------+-----+------+-----+-------+-----+\n",
      "| count|   21972|  21972| 21972|21972| 21972|21972|  21972|21972|\n",
      "|  mean|30393.87|2014.00| 85.62| 9.72|  2.88| 1.60|   0.18| 2.29|\n",
      "|stddev|15153.50|   2.00| 16.38|14.66|  8.11| 3.19|   1.02| 3.75|\n",
      "|   min|   01001|   2011|  3.80| 0.00|  0.00| 0.00|   0.00| 0.00|\n",
      "|   25%|   18179|   2012|  80.0|  1.0|   0.6|  0.4|    0.0|  0.4|\n",
      "|   50%|   29177|   2014|  92.4|  2.9|   1.0|  0.8|    0.1|  1.0|\n",
      "|   75%|   45081|   2016|  97.1| 11.5|   1.9|  1.6|    0.2|  2.5|\n",
      "|   max|   56045|   2017|100.00|87.20| 96.00|61.70|  34.30|58.80|\n",
      "+------+--------+-------+------+-----+------+-----+-------+-----+\n",
      "\n"
     ]
    },
    {
     "name": "stderr",
     "output_type": "stream",
     "text": [
      "Exception in thread cell_monitor-93:\n",
      "Traceback (most recent call last):\n",
      "  File \"/opt/conda/lib/python3.7/threading.py\", line 926, in _bootstrap_inner\n",
      "    self.run()\n",
      "  File \"/opt/conda/lib/python3.7/threading.py\", line 870, in run\n",
      "    self._target(*self._args, **self._kwargs)\n",
      "  File \"/opt/conda/lib/python3.7/site-packages/awseditorssparkmonitoringwidget-1.0-py3.7.egg/awseditorssparkmonitoringwidget/cellmonitor.py\", line 178, in cell_monitor\n",
      "    job_binned_stages[job_id][stage_id] = all_stages[stage_id]\n",
      "KeyError: 3297\n",
      "\n"
     ]
    }
   ],
   "source": [
    "customSummary(\n",
    "    finalTable,\n",
    "    selected, \n",
    "    Seq(\"count\", \"mean\", \"stddev\", \"min\", \"25%\", \"50%\", \"75%\", \"max\")\n",
    ")"
   ]
  },
  {
   "cell_type": "code",
   "execution_count": null,
   "metadata": {},
   "outputs": [],
   "source": [
    "//TODO: Try more built in functions. Write some applicable custom functions. Move on to visualizations."
   ]
  },
  {
   "cell_type": "code",
   "execution_count": null,
   "metadata": {},
   "outputs": [],
   "source": []
  }
 ],
 "metadata": {
  "kernelspec": {
   "display_name": "Spark",
   "language": "",
   "name": "sparkkernel"
  },
  "language_info": {
   "codemirror_mode": "text/x-scala",
   "mimetype": "text/x-scala",
   "name": "scala",
   "pygments_lexer": "scala"
  }
 },
 "nbformat": 4,
 "nbformat_minor": 4
}
